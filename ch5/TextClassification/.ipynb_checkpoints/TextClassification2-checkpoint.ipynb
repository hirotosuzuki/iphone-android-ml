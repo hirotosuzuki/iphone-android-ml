{
 "cells": [
  {
   "cell_type": "code",
   "execution_count": 1,
   "metadata": {},
   "outputs": [
    {
     "name": "stderr",
     "output_type": "stream",
     "text": [
      "/Users/furukawahidekazu/anaconda3/envs/turicreate/lib/python3.6/importlib/_bootstrap.py:219: RuntimeWarning: numpy.dtype size changed, may indicate binary incompatibility. Expected 96, got 88\n",
      "  return f(*args, **kwds)\n",
      "/Users/furukawahidekazu/anaconda3/envs/turicreate/lib/python3.6/importlib/_bootstrap.py:219: RuntimeWarning: numpy.dtype size changed, may indicate binary incompatibility. Expected 96, got 88\n",
      "  return f(*args, **kwds)\n"
     ]
    }
   ],
   "source": [
    "import turicreate as tc\n",
    "import os\n",
    "import re\n",
    "import MeCab\n",
    "\n",
    "# MeCabオブジェクトの生成\n",
    "tagger = MeCab.Tagger(\"-Owakati\")"
   ]
  },
  {
   "cell_type": "code",
   "execution_count": 2,
   "metadata": {},
   "outputs": [],
   "source": [
    "# ファイルの読み込み\n",
    "def read_file(path):\n",
    "    files = os.listdir(path)\n",
    "    array = []\n",
    "    for file in files:\n",
    "        file = open(path+file)\n",
    "        text = file.read()\n",
    "        text = re.sub(r'https?:\\/\\/[\\w\\/:%#\\$&\\?\\(\\)~\\.=\\+\\-]+',\"\", text) # URL削除\n",
    "        text = re.sub(r'\\d{4}-\\d{2}-\\d{2}T\\d{2}:\\d{2}:\\d{2}[+-]\\d{2}\\d{2}',\"\", text) # 時間削除\n",
    "        text = tagger.parse(text) # わかち書き\n",
    "        array.append(text)\n",
    "        file.close()\n",
    "    return tc.SFrame(data=array)"
   ]
  },
  {
   "cell_type": "code",
   "execution_count": 3,
   "metadata": {},
   "outputs": [
    {
     "data": {
      "text/html": [
       "<pre>Materializing SFrame</pre>"
      ],
      "text/plain": [
       "Materializing SFrame"
      ]
     },
     "metadata": {},
     "output_type": "display_data"
    }
   ],
   "source": [
    "# ITライフハックのデータセットの読み込み\n",
    "data = read_file('./text/it-life-hack/')\n",
    "data = data.rename({'X1': 'text'})\n",
    "data['label'] = 0\n",
    "\n",
    "# スポーツのデータセットの読み込み\n",
    "work_data = read_file('./text/sports-watch/')\n",
    "work_data = work_data.rename({'X1': 'text'})\n",
    "work_data['label'] = 1\n",
    "\n",
    "# ITライフハックとスポーツのデータセットを連結\n",
    "data = data.append(work_data)\n",
    "\n",
    "# データセットの確認\n",
    "data.explore()"
   ]
  },
  {
   "cell_type": "code",
   "execution_count": 4,
   "metadata": {},
   "outputs": [],
   "source": [
    "#　訓練データと評価データの分割\n",
    "train_data, test_data = data.random_split(0.8)"
   ]
  },
  {
   "cell_type": "code",
   "execution_count": 19,
   "metadata": {},
   "outputs": [
    {
     "name": "stdout",
     "output_type": "stream",
     "text": [
      "PROGRESS: Creating a validation set from 5 percent of training data. This may take a while.\n",
      "          You can set ``validation_set=None`` to disable validation tracking.\n",
      "\n"
     ]
    },
    {
     "data": {
      "text/html": [
       "<pre>Logistic regression:</pre>"
      ],
      "text/plain": [
       "Logistic regression:"
      ]
     },
     "metadata": {},
     "output_type": "display_data"
    },
    {
     "data": {
      "text/html": [
       "<pre>--------------------------------------------------------</pre>"
      ],
      "text/plain": [
       "--------------------------------------------------------"
      ]
     },
     "metadata": {},
     "output_type": "display_data"
    },
    {
     "data": {
      "text/html": [
       "<pre>Number of examples          : 1329</pre>"
      ],
      "text/plain": [
       "Number of examples          : 1329"
      ]
     },
     "metadata": {},
     "output_type": "display_data"
    },
    {
     "data": {
      "text/html": [
       "<pre>Number of classes           : 2</pre>"
      ],
      "text/plain": [
       "Number of classes           : 2"
      ]
     },
     "metadata": {},
     "output_type": "display_data"
    },
    {
     "data": {
      "text/html": [
       "<pre>Number of feature columns   : 1</pre>"
      ],
      "text/plain": [
       "Number of feature columns   : 1"
      ]
     },
     "metadata": {},
     "output_type": "display_data"
    },
    {
     "data": {
      "text/html": [
       "<pre>Number of unpacked features : 15786</pre>"
      ],
      "text/plain": [
       "Number of unpacked features : 15786"
      ]
     },
     "metadata": {},
     "output_type": "display_data"
    },
    {
     "data": {
      "text/html": [
       "<pre>Number of coefficients      : 15787</pre>"
      ],
      "text/plain": [
       "Number of coefficients      : 15787"
      ]
     },
     "metadata": {},
     "output_type": "display_data"
    },
    {
     "data": {
      "text/html": [
       "<pre>Starting L-BFGS</pre>"
      ],
      "text/plain": [
       "Starting L-BFGS"
      ]
     },
     "metadata": {},
     "output_type": "display_data"
    },
    {
     "data": {
      "text/html": [
       "<pre>--------------------------------------------------------</pre>"
      ],
      "text/plain": [
       "--------------------------------------------------------"
      ]
     },
     "metadata": {},
     "output_type": "display_data"
    },
    {
     "data": {
      "text/html": [
       "<pre>+-----------+----------+-----------+--------------+-------------------+---------------------+</pre>"
      ],
      "text/plain": [
       "+-----------+----------+-----------+--------------+-------------------+---------------------+"
      ]
     },
     "metadata": {},
     "output_type": "display_data"
    },
    {
     "data": {
      "text/html": [
       "<pre>| Iteration | Passes   | Step size | Elapsed Time | Training Accuracy | Validation Accuracy |</pre>"
      ],
      "text/plain": [
       "| Iteration | Passes   | Step size | Elapsed Time | Training Accuracy | Validation Accuracy |"
      ]
     },
     "metadata": {},
     "output_type": "display_data"
    },
    {
     "data": {
      "text/html": [
       "<pre>+-----------+----------+-----------+--------------+-------------------+---------------------+</pre>"
      ],
      "text/plain": [
       "+-----------+----------+-----------+--------------+-------------------+---------------------+"
      ]
     },
     "metadata": {},
     "output_type": "display_data"
    },
    {
     "data": {
      "text/html": [
       "<pre>| 0         | 1        | NaN       | 0.013851     | 0.499624          | 0.552632            |</pre>"
      ],
      "text/plain": [
       "| 0         | 1        | NaN       | 0.013851     | 0.499624          | 0.552632            |"
      ]
     },
     "metadata": {},
     "output_type": "display_data"
    },
    {
     "data": {
      "text/html": [
       "<pre>| 1         | 3        | 0.000752  | 0.037119     | 1.000000          | 0.973684            |</pre>"
      ],
      "text/plain": [
       "| 1         | 3        | 0.000752  | 0.037119     | 1.000000          | 0.973684            |"
      ]
     },
     "metadata": {},
     "output_type": "display_data"
    },
    {
     "data": {
      "text/html": [
       "<pre>| 2         | 5        | 1.000000  | 0.059120     | 1.000000          | 0.973684            |</pre>"
      ],
      "text/plain": [
       "| 2         | 5        | 1.000000  | 0.059120     | 1.000000          | 0.973684            |"
      ]
     },
     "metadata": {},
     "output_type": "display_data"
    },
    {
     "data": {
      "text/html": [
       "<pre>| 3         | 6        | 1.000000  | 0.073440     | 1.000000          | 0.973684            |</pre>"
      ],
      "text/plain": [
       "| 3         | 6        | 1.000000  | 0.073440     | 1.000000          | 0.973684            |"
      ]
     },
     "metadata": {},
     "output_type": "display_data"
    },
    {
     "data": {
      "text/html": [
       "<pre>| 4         | 7        | 1.000000  | 0.089241     | 1.000000          | 0.973684            |</pre>"
      ],
      "text/plain": [
       "| 4         | 7        | 1.000000  | 0.089241     | 1.000000          | 0.973684            |"
      ]
     },
     "metadata": {},
     "output_type": "display_data"
    },
    {
     "data": {
      "text/html": [
       "<pre>| 5         | 8        | 1.000000  | 0.104360     | 1.000000          | 0.973684            |</pre>"
      ],
      "text/plain": [
       "| 5         | 8        | 1.000000  | 0.104360     | 1.000000          | 0.973684            |"
      ]
     },
     "metadata": {},
     "output_type": "display_data"
    },
    {
     "data": {
      "text/html": [
       "<pre>| 10        | 19       | 0.250000  | 0.204826     | 1.000000          | 0.986842            |</pre>"
      ],
      "text/plain": [
       "| 10        | 19       | 0.250000  | 0.204826     | 1.000000          | 0.986842            |"
      ]
     },
     "metadata": {},
     "output_type": "display_data"
    },
    {
     "data": {
      "text/html": [
       "<pre>+-----------+----------+-----------+--------------+-------------------+---------------------+</pre>"
      ],
      "text/plain": [
       "+-----------+----------+-----------+--------------+-------------------+---------------------+"
      ]
     },
     "metadata": {},
     "output_type": "display_data"
    },
    {
     "data": {
      "text/html": [
       "<pre>Completed (Iteration limit reached).</pre>"
      ],
      "text/plain": [
       "Completed (Iteration limit reached)."
      ]
     },
     "metadata": {},
     "output_type": "display_data"
    },
    {
     "data": {
      "text/html": [
       "<pre>This model may not be optimal. To improve it, consider increasing `max_iterations`.</pre>"
      ],
      "text/plain": [
       "This model may not be optimal. To improve it, consider increasing `max_iterations`."
      ]
     },
     "metadata": {},
     "output_type": "display_data"
    }
   ],
   "source": [
    "# ファイルの読み込み\n",
    "def read_stop_word(path):\n",
    "    file = open(path)\n",
    "    text = file.read()\n",
    "    file.close()\n",
    "    return text.split(\"\\n\")\n",
    "\n",
    "# 学習\n",
    "stop_word = read_stop_word(\"./stop_word.txt\")\n",
    "print(stop_word);\n",
    "model = tc.text_classifier.create(train_data, 'label', drop_stop_words=stop_word, features=['text'])"
   ]
  },
  {
   "cell_type": "code",
   "execution_count": 7,
   "metadata": {},
   "outputs": [
    {
     "name": "stdout",
     "output_type": "stream",
     "text": [
      "0.994535519125683\n"
     ]
    }
   ],
   "source": [
    "# 評価\n",
    "metrics = model.evaluate(test_data)\n",
    "\n",
    "# 評価データの正解率\n",
    "print(metrics['accuracy'])"
   ]
  },
  {
   "cell_type": "code",
   "execution_count": 8,
   "metadata": {},
   "outputs": [],
   "source": [
    "# Turi Createモデルの保存\n",
    "model.save('./TextClassification.model')\n",
    "\n",
    "# Core MLモデルの保存\n",
    "model.export_coreml('./TextClassification.mlmodel')"
   ]
  },
  {
   "cell_type": "code",
   "execution_count": 9,
   "metadata": {},
   "outputs": [
    {
     "name": "stdout",
     "output_type": "stream",
     "text": [
      "[0]\n",
      "{'text': 'Ultrabook を パワーアップ ！ \\u3000 mSATA 対応 の 小型 SSD が マイクロン より 登場 マイクロンジャパン は 、 従来 の 「 Crucial m 4 SSD 」 の 性能 と 信頼 性 を そのまま 維持 し つつ も 、 1 / 8 の サイズ まで 超 小型 化 し た SSD 「 Crucial m 4 mSATA SSD 」 を 発売 する 。 最近 流行 の Ultrabook や 過般 性 の 高い モバイル 機器 で mSATA 対応 の ガ ジェット で あれ ば 「 Crucial m 4 mSATA SSD 」 に 乗せ 換える こと が 可能 だ 。 実 売 想定 価格 は 32 GB で 5 千 100 円 、 64 GB が 7 千 200 円 、 128 GB が 1 万 1 千 800 円 、 256 GB が 2 万 3 千 800 円 と 、 値段 も そこそこ 手ごろ な 価格 に 設定 さ れ て いる 。 出荷 は 7 月 下旬 より 。 最近 で は 急速 に 普及 し つつ ある Ultrabook だ が 搭載 する SSD の 容量 が 少ない と 嘆い て いる よう な 人 も いる だろ う 。 か と いっ て BTO で 購入 時 に 大 容量 モデル を 選択 する と 予算 を オーバー し て しまう よう な ケース で は 、 間に合う 容量 で とりあえず 購入 し て おい て 「 Crucial m 4 mSATA SSD 」 を 後 から 装着 する という 方法 も イレギュラー ながら 使える 方法 だろ う 。 mSATA 対応 の Ultrabook なら 差し替える だけ で OK デスク トップ 用 マザー で も mSATA 対応 なら 利用 できる また 、 Ultrabook だけ で なく 、 ノート PC で mSATA インター フェイス が 余っ て いる という よう な ケース で は 、 それ を 利用 し て ストレージ 容量 を 増やす という こと も できる 。 既存 の ハードディスク の 性能 を 向上 さ せる キャッシュ として も 使用 可能 。 Crucial m 4 mSATA SSD は 、 Intel スマート ・ レスポンス ・ テクノロジー および NVELO 製 キャッシングソフトウェア DataplexTM に 対応 し て いる ので 既存 の HDD と 組み合わせる こと で パフォーマンス を アップ さ せる こと も 可能 だ 。 ◆ 製品 情報 メーカー ： マイクロン ジャパン 製品 名 ： Crucial m 4 mSATA SSD 型番 ： CT 032 M 4 SSD 3 、 CT 064 M 4 SSD 3 、 CT 128 M 4 SSD 3 、 CT 256 M 4 SSD 3 容量 ： 32 GB / 64 GB / 128 GB / 256 GB サイズ ： 29 . 83 （ 幅 ） × 50 . 80 （ 奥行き ） × 3 . 8 （ 高 さ ） mm 重 さ ： 10 g インター フェイス ： SATA 6 Gb / 秒 （ SATA 3 Gb / 秒 互換 ） 連続 読取 速度 ： 最大 500 MB / 秒 （ 64 GB 〜 256 GB モデル ） 連続 書 込 速度 ： 最大 260 MB / 秒 （ 128 GB 〜 256 GB モデル ） ■ プレス リリース ■ マイクロンジャパン \\n', 'label': 0}\n"
     ]
    }
   ],
   "source": [
    "#予測\n",
    "prediction = model.predict(test_data[0])\n",
    "print(prediction)\n",
    "\n",
    "#正解データ\n",
    "print(test_data[0])"
   ]
  }
 ],
 "metadata": {
  "kernelspec": {
   "display_name": "Python 3",
   "language": "python",
   "name": "python3"
  },
  "language_info": {
   "codemirror_mode": {
    "name": "ipython",
    "version": 3
   },
   "file_extension": ".py",
   "mimetype": "text/x-python",
   "name": "python",
   "nbconvert_exporter": "python",
   "pygments_lexer": "ipython3",
   "version": "3.6.5"
  }
 },
 "nbformat": 4,
 "nbformat_minor": 2
}
