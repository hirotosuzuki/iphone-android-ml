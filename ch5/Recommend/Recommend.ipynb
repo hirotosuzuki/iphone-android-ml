{
 "cells": [
  {
   "cell_type": "code",
   "execution_count": 1,
   "metadata": {},
   "outputs": [
    {
     "name": "stderr",
     "output_type": "stream",
     "text": [
      "/Users/furukawahidekazu/anaconda3/envs/turicreate/lib/python3.6/importlib/_bootstrap.py:219: RuntimeWarning: numpy.dtype size changed, may indicate binary incompatibility. Expected 96, got 88\n",
      "  return f(*args, **kwds)\n",
      "/Users/furukawahidekazu/anaconda3/envs/turicreate/lib/python3.6/importlib/_bootstrap.py:219: RuntimeWarning: numpy.dtype size changed, may indicate binary incompatibility. Expected 96, got 88\n",
      "  return f(*args, **kwds)\n"
     ]
    },
    {
     "data": {
      "text/html": [
       "<pre>Materializing SFrame</pre>"
      ],
      "text/plain": [
       "Materializing SFrame"
      ]
     },
     "metadata": {},
     "output_type": "display_data"
    }
   ],
   "source": [
    "import turicreate as tc\n",
    "\n",
    "# 評価のデータセットの読み込み\n",
    "data = tc.SFrame.read_csv('./ml-100k/u.data', \n",
    "    delimiter='\\t', header=False, verbose=False)\n",
    "data = data.rename({\n",
    "    'X1': 'user_id', \n",
    "    'X2': 'item_id', \n",
    "    'X3': 'rating', \n",
    "    'X4': 'timestamp'})\n",
    "\n",
    "# 評価のデータセットの確認\n",
    "data.explore()\n",
    "\n",
    "# 訓練データと評価データの分割\n",
    "train_data, test_data = tc.recommender.util.random_split_by_user(\n",
    "    data, 'user_id', 'item_id')"
   ]
  },
  {
   "cell_type": "code",
   "execution_count": 2,
   "metadata": {},
   "outputs": [
    {
     "data": {
      "text/html": [
       "<pre>Materializing SFrame</pre>"
      ],
      "text/plain": [
       "Materializing SFrame"
      ]
     },
     "metadata": {},
     "output_type": "display_data"
    }
   ],
   "source": [
    "# 映画のデータセットの読み込み\n",
    "item_data = tc.SFrame.read_csv('./ml-100k/u.item', \n",
    "    delimiter='|', header=False, verbose=False)\n",
    "item_data = item_data.rename({\n",
    "    'X1': 'item_id',\n",
    "    'X2': 'movie_title',\n",
    "    'X3': 'release_date',\n",
    "    'X4': 'video_release_date',\n",
    "    'X5': 'imdb_URL',\n",
    "    'X6': 'unknown',\n",
    "    'X7': 'action',\n",
    "    'X8': 'adventure',\n",
    "    'X9': 'animation',\n",
    "    'X10': 'children',\n",
    "    'X11': 'comedy',\n",
    "    'X12': 'crime',\n",
    "    'X13': 'documentary',\n",
    "    'X14': 'drama',\n",
    "    'X15': 'fantasy',\n",
    "    'X16': 'film_noir',\n",
    "    'X17': 'horror',\n",
    "    'X18': 'musical',\n",
    "    'X19': 'mystery',\n",
    "    'X20': 'romance',\n",
    "    'X21': 'sf',\n",
    "    'X22': 'thriller',\n",
    "    'X23': 'war',\n",
    "    'X24': 'western'})\n",
    "\n",
    "# 映画のデータセットの確認\n",
    "item_data.explore()"
   ]
  },
  {
   "cell_type": "code",
   "execution_count": 3,
   "metadata": {},
   "outputs": [
    {
     "data": {
      "text/html": [
       "<pre>Recsys training: model = ranking_factorization_recommender</pre>"
      ],
      "text/plain": [
       "Recsys training: model = ranking_factorization_recommender"
      ]
     },
     "metadata": {},
     "output_type": "display_data"
    },
    {
     "data": {
      "text/html": [
       "<pre>Preparing data set.</pre>"
      ],
      "text/plain": [
       "Preparing data set."
      ]
     },
     "metadata": {},
     "output_type": "display_data"
    },
    {
     "data": {
      "text/html": [
       "<pre>    Data has 80009 observations with 943 users and 1647 items.</pre>"
      ],
      "text/plain": [
       "    Data has 80009 observations with 943 users and 1647 items."
      ]
     },
     "metadata": {},
     "output_type": "display_data"
    },
    {
     "data": {
      "text/html": [
       "<pre>    Data prepared in: 0.093606s</pre>"
      ],
      "text/plain": [
       "    Data prepared in: 0.093606s"
      ]
     },
     "metadata": {},
     "output_type": "display_data"
    },
    {
     "data": {
      "text/html": [
       "<pre>Training ranking_factorization_recommender for recommendations.</pre>"
      ],
      "text/plain": [
       "Training ranking_factorization_recommender for recommendations."
      ]
     },
     "metadata": {},
     "output_type": "display_data"
    },
    {
     "data": {
      "text/html": [
       "<pre>+--------------------------------+--------------------------------------------------+----------+</pre>"
      ],
      "text/plain": [
       "+--------------------------------+--------------------------------------------------+----------+"
      ]
     },
     "metadata": {},
     "output_type": "display_data"
    },
    {
     "data": {
      "text/html": [
       "<pre>| Parameter                      | Description                                      | Value    |</pre>"
      ],
      "text/plain": [
       "| Parameter                      | Description                                      | Value    |"
      ]
     },
     "metadata": {},
     "output_type": "display_data"
    },
    {
     "data": {
      "text/html": [
       "<pre>+--------------------------------+--------------------------------------------------+----------+</pre>"
      ],
      "text/plain": [
       "+--------------------------------+--------------------------------------------------+----------+"
      ]
     },
     "metadata": {},
     "output_type": "display_data"
    },
    {
     "data": {
      "text/html": [
       "<pre>| num_factors                    | Factor Dimension                                 | 32       |</pre>"
      ],
      "text/plain": [
       "| num_factors                    | Factor Dimension                                 | 32       |"
      ]
     },
     "metadata": {},
     "output_type": "display_data"
    },
    {
     "data": {
      "text/html": [
       "<pre>| regularization                 | L2 Regularization on Factors                     | 1e-09    |</pre>"
      ],
      "text/plain": [
       "| regularization                 | L2 Regularization on Factors                     | 1e-09    |"
      ]
     },
     "metadata": {},
     "output_type": "display_data"
    },
    {
     "data": {
      "text/html": [
       "<pre>| solver                         | Solver used for training                         | adagrad  |</pre>"
      ],
      "text/plain": [
       "| solver                         | Solver used for training                         | adagrad  |"
      ]
     },
     "metadata": {},
     "output_type": "display_data"
    },
    {
     "data": {
      "text/html": [
       "<pre>| linear_regularization          | L2 Regularization on Linear Coefficients         | 1e-09    |</pre>"
      ],
      "text/plain": [
       "| linear_regularization          | L2 Regularization on Linear Coefficients         | 1e-09    |"
      ]
     },
     "metadata": {},
     "output_type": "display_data"
    },
    {
     "data": {
      "text/html": [
       "<pre>| ranking_regularization         | Rank-based Regularization Weight                 | 0.25     |</pre>"
      ],
      "text/plain": [
       "| ranking_regularization         | Rank-based Regularization Weight                 | 0.25     |"
      ]
     },
     "metadata": {},
     "output_type": "display_data"
    },
    {
     "data": {
      "text/html": [
       "<pre>| max_iterations                 | Maximum Number of Iterations                     | 25       |</pre>"
      ],
      "text/plain": [
       "| max_iterations                 | Maximum Number of Iterations                     | 25       |"
      ]
     },
     "metadata": {},
     "output_type": "display_data"
    },
    {
     "data": {
      "text/html": [
       "<pre>+--------------------------------+--------------------------------------------------+----------+</pre>"
      ],
      "text/plain": [
       "+--------------------------------+--------------------------------------------------+----------+"
      ]
     },
     "metadata": {},
     "output_type": "display_data"
    },
    {
     "data": {
      "text/html": [
       "<pre>  Optimizing model using SGD; tuning step size.</pre>"
      ],
      "text/plain": [
       "  Optimizing model using SGD; tuning step size."
      ]
     },
     "metadata": {},
     "output_type": "display_data"
    },
    {
     "data": {
      "text/html": [
       "<pre>  Using 10001 / 80009 points for tuning the step size.</pre>"
      ],
      "text/plain": [
       "  Using 10001 / 80009 points for tuning the step size."
      ]
     },
     "metadata": {},
     "output_type": "display_data"
    },
    {
     "data": {
      "text/html": [
       "<pre>+---------+-------------------+------------------------------------------+</pre>"
      ],
      "text/plain": [
       "+---------+-------------------+------------------------------------------+"
      ]
     },
     "metadata": {},
     "output_type": "display_data"
    },
    {
     "data": {
      "text/html": [
       "<pre>| Attempt | Initial Step Size | Estimated Objective Value                |</pre>"
      ],
      "text/plain": [
       "| Attempt | Initial Step Size | Estimated Objective Value                |"
      ]
     },
     "metadata": {},
     "output_type": "display_data"
    },
    {
     "data": {
      "text/html": [
       "<pre>+---------+-------------------+------------------------------------------+</pre>"
      ],
      "text/plain": [
       "+---------+-------------------+------------------------------------------+"
      ]
     },
     "metadata": {},
     "output_type": "display_data"
    },
    {
     "data": {
      "text/html": [
       "<pre>| 0       | 16.6667           | Not Viable                               |</pre>"
      ],
      "text/plain": [
       "| 0       | 16.6667           | Not Viable                               |"
      ]
     },
     "metadata": {},
     "output_type": "display_data"
    },
    {
     "data": {
      "text/html": [
       "<pre>| 1       | 4.16667           | Not Viable                               |</pre>"
      ],
      "text/plain": [
       "| 1       | 4.16667           | Not Viable                               |"
      ]
     },
     "metadata": {},
     "output_type": "display_data"
    },
    {
     "data": {
      "text/html": [
       "<pre>| 2       | 1.04167           | Not Viable                               |</pre>"
      ],
      "text/plain": [
       "| 2       | 1.04167           | Not Viable                               |"
      ]
     },
     "metadata": {},
     "output_type": "display_data"
    },
    {
     "data": {
      "text/html": [
       "<pre>| 3       | 0.260417          | 1.13006                                  |</pre>"
      ],
      "text/plain": [
       "| 3       | 0.260417          | 1.13006                                  |"
      ]
     },
     "metadata": {},
     "output_type": "display_data"
    },
    {
     "data": {
      "text/html": [
       "<pre>| 4       | 0.130208          | 1.77235                                  |</pre>"
      ],
      "text/plain": [
       "| 4       | 0.130208          | 1.77235                                  |"
      ]
     },
     "metadata": {},
     "output_type": "display_data"
    },
    {
     "data": {
      "text/html": [
       "<pre>| 5       | 0.0651042         | 1.54639                                  |</pre>"
      ],
      "text/plain": [
       "| 5       | 0.0651042         | 1.54639                                  |"
      ]
     },
     "metadata": {},
     "output_type": "display_data"
    },
    {
     "data": {
      "text/html": [
       "<pre>| 6       | 0.0325521         | 1.79766                                  |</pre>"
      ],
      "text/plain": [
       "| 6       | 0.0325521         | 1.79766                                  |"
      ]
     },
     "metadata": {},
     "output_type": "display_data"
    },
    {
     "data": {
      "text/html": [
       "<pre>+---------+-------------------+------------------------------------------+</pre>"
      ],
      "text/plain": [
       "+---------+-------------------+------------------------------------------+"
      ]
     },
     "metadata": {},
     "output_type": "display_data"
    },
    {
     "data": {
      "text/html": [
       "<pre>| Final   | 0.260417          | 1.13006                                  |</pre>"
      ],
      "text/plain": [
       "| Final   | 0.260417          | 1.13006                                  |"
      ]
     },
     "metadata": {},
     "output_type": "display_data"
    },
    {
     "data": {
      "text/html": [
       "<pre>+---------+-------------------+------------------------------------------+</pre>"
      ],
      "text/plain": [
       "+---------+-------------------+------------------------------------------+"
      ]
     },
     "metadata": {},
     "output_type": "display_data"
    },
    {
     "data": {
      "text/html": [
       "<pre>Starting Optimization.</pre>"
      ],
      "text/plain": [
       "Starting Optimization."
      ]
     },
     "metadata": {},
     "output_type": "display_data"
    },
    {
     "data": {
      "text/html": [
       "<pre>+---------+--------------+-------------------+-----------------------+-------------+</pre>"
      ],
      "text/plain": [
       "+---------+--------------+-------------------+-----------------------+-------------+"
      ]
     },
     "metadata": {},
     "output_type": "display_data"
    },
    {
     "data": {
      "text/html": [
       "<pre>| Iter.   | Elapsed Time | Approx. Objective | Approx. Training RMSE | Step Size   |</pre>"
      ],
      "text/plain": [
       "| Iter.   | Elapsed Time | Approx. Objective | Approx. Training RMSE | Step Size   |"
      ]
     },
     "metadata": {},
     "output_type": "display_data"
    },
    {
     "data": {
      "text/html": [
       "<pre>+---------+--------------+-------------------+-----------------------+-------------+</pre>"
      ],
      "text/plain": [
       "+---------+--------------+-------------------+-----------------------+-------------+"
      ]
     },
     "metadata": {},
     "output_type": "display_data"
    },
    {
     "data": {
      "text/html": [
       "<pre>| Initial | 131us        | 2.47974           | 1.12461               |             |</pre>"
      ],
      "text/plain": [
       "| Initial | 131us        | 2.47974           | 1.12461               |             |"
      ]
     },
     "metadata": {},
     "output_type": "display_data"
    },
    {
     "data": {
      "text/html": [
       "<pre>+---------+--------------+-------------------+-----------------------+-------------+</pre>"
      ],
      "text/plain": [
       "+---------+--------------+-------------------+-----------------------+-------------+"
      ]
     },
     "metadata": {},
     "output_type": "display_data"
    },
    {
     "data": {
      "text/html": [
       "<pre>| 1       | 132.506ms    | DIVERGED          | DIVERGED              | 0.260417    |</pre>"
      ],
      "text/plain": [
       "| 1       | 132.506ms    | DIVERGED          | DIVERGED              | 0.260417    |"
      ]
     },
     "metadata": {},
     "output_type": "display_data"
    },
    {
     "data": {
      "text/html": [
       "<pre>| RESET   | 168.306ms    | 2.47971           | 1.1246                |             |</pre>"
      ],
      "text/plain": [
       "| RESET   | 168.306ms    | 2.47971           | 1.1246                |             |"
      ]
     },
     "metadata": {},
     "output_type": "display_data"
    },
    {
     "data": {
      "text/html": [
       "<pre>| 1       | 283.53ms     | DIVERGED          | DIVERGED              | 0.130208    |</pre>"
      ],
      "text/plain": [
       "| 1       | 283.53ms     | DIVERGED          | DIVERGED              | 0.130208    |"
      ]
     },
     "metadata": {},
     "output_type": "display_data"
    },
    {
     "data": {
      "text/html": [
       "<pre>| RESET   | 316.433ms    | 2.47971           | 1.1246                |             |</pre>"
      ],
      "text/plain": [
       "| RESET   | 316.433ms    | 2.47971           | 1.1246                |             |"
      ]
     },
     "metadata": {},
     "output_type": "display_data"
    },
    {
     "data": {
      "text/html": [
       "<pre>| 1       | 415.06ms     | 2.11469           | 1.13116               | 0.0651042   |</pre>"
      ],
      "text/plain": [
       "| 1       | 415.06ms     | 2.11469           | 1.13116               | 0.0651042   |"
      ]
     },
     "metadata": {},
     "output_type": "display_data"
    },
    {
     "data": {
      "text/html": [
       "<pre>| 2       | 497.828ms    | 1.91737           | 1.06765               | 0.0651042   |</pre>"
      ],
      "text/plain": [
       "| 2       | 497.828ms    | 1.91737           | 1.06765               | 0.0651042   |"
      ]
     },
     "metadata": {},
     "output_type": "display_data"
    },
    {
     "data": {
      "text/html": [
       "<pre>| 3       | 581.591ms    | 1.82583           | 1.02425               | 0.0651042   |</pre>"
      ],
      "text/plain": [
       "| 3       | 581.591ms    | 1.82583           | 1.02425               | 0.0651042   |"
      ]
     },
     "metadata": {},
     "output_type": "display_data"
    },
    {
     "data": {
      "text/html": [
       "<pre>| 4       | 683.431ms    | 1.75715           | 1.00399               | 0.0651042   |</pre>"
      ],
      "text/plain": [
       "| 4       | 683.431ms    | 1.75715           | 1.00399               | 0.0651042   |"
      ]
     },
     "metadata": {},
     "output_type": "display_data"
    },
    {
     "data": {
      "text/html": [
       "<pre>| 5       | 778.916ms    | 1.71115           | 0.987884              | 0.0651042   |</pre>"
      ],
      "text/plain": [
       "| 5       | 778.916ms    | 1.71115           | 0.987884              | 0.0651042   |"
      ]
     },
     "metadata": {},
     "output_type": "display_data"
    },
    {
     "data": {
      "text/html": [
       "<pre>| 8       | 1.03s        | 1.62124           | 0.958818              | 0.0651042   |</pre>"
      ],
      "text/plain": [
       "| 8       | 1.03s        | 1.62124           | 0.958818              | 0.0651042   |"
      ]
     },
     "metadata": {},
     "output_type": "display_data"
    },
    {
     "data": {
      "text/html": [
       "<pre>| 25      | 2.52s        | 1.37205           | 0.872159              | 0.0651042   |</pre>"
      ],
      "text/plain": [
       "| 25      | 2.52s        | 1.37205           | 0.872159              | 0.0651042   |"
      ]
     },
     "metadata": {},
     "output_type": "display_data"
    },
    {
     "data": {
      "text/html": [
       "<pre>+---------+--------------+-------------------+-----------------------+-------------+</pre>"
      ],
      "text/plain": [
       "+---------+--------------+-------------------+-----------------------+-------------+"
      ]
     },
     "metadata": {},
     "output_type": "display_data"
    },
    {
     "data": {
      "text/html": [
       "<pre>Optimization Complete: Maximum number of passes through the data reached.</pre>"
      ],
      "text/plain": [
       "Optimization Complete: Maximum number of passes through the data reached."
      ]
     },
     "metadata": {},
     "output_type": "display_data"
    },
    {
     "data": {
      "text/html": [
       "<pre>Computing final objective value and training RMSE.</pre>"
      ],
      "text/plain": [
       "Computing final objective value and training RMSE."
      ]
     },
     "metadata": {},
     "output_type": "display_data"
    },
    {
     "data": {
      "text/html": [
       "<pre>       Final objective value: 1.38257</pre>"
      ],
      "text/plain": [
       "       Final objective value: 1.38257"
      ]
     },
     "metadata": {},
     "output_type": "display_data"
    },
    {
     "data": {
      "text/html": [
       "<pre>       Final training RMSE: 0.853542</pre>"
      ],
      "text/plain": [
       "       Final training RMSE: 0.853542"
      ]
     },
     "metadata": {},
     "output_type": "display_data"
    }
   ],
   "source": [
    "# 学習\n",
    "model = tc.recommender.create(train_data, \n",
    "    user_id='user_id', item_id='item_id', target='rating')"
   ]
  },
  {
   "cell_type": "code",
   "execution_count": 4,
   "metadata": {},
   "outputs": [
    {
     "name": "stdout",
     "output_type": "stream",
     "text": [
      "\n",
      "Precision and recall summary statistics by cutoff\n",
      "+--------+---------------------+----------------------+\n",
      "| cutoff |    mean_precision   |     mean_recall      |\n",
      "+--------+---------------------+----------------------+\n",
      "|   1    | 0.10934182590233545 |  0.0051142855887886  |\n",
      "|   2    | 0.10881104033970278 | 0.008906156954810276 |\n",
      "|   3    | 0.11571125265392782 | 0.015599666525283464 |\n",
      "|   4    | 0.12022292993630568 | 0.021912252502426018 |\n",
      "|   5    | 0.12462845010615717 | 0.027744858441727038 |\n",
      "|   6    |  0.1265038924274593 | 0.033615750758226697 |\n",
      "|   7    | 0.12769184106763723 | 0.039774533995586274 |\n",
      "|   8    | 0.13123673036093433 | 0.04630187843408943  |\n",
      "|   9    |  0.1324604859636706 |  0.0525120675758771  |\n",
      "|   10   | 0.13290870488322715 | 0.05841225102515451  |\n",
      "+--------+---------------------+----------------------+\n",
      "[10 rows x 3 columns]\n",
      "\n",
      "\n",
      "Overall RMSE: 1.0455950768920275\n",
      "\n",
      "Per User RMSE (best)\n",
      "+---------+---------------------+-------+\n",
      "| user_id |         rmse        | count |\n",
      "+---------+---------------------+-------+\n",
      "|   723   | 0.09122885584450202 |   1   |\n",
      "+---------+---------------------+-------+\n",
      "[1 rows x 3 columns]\n",
      "\n",
      "\n",
      "Per User RMSE (worst)\n",
      "+---------+--------------------+-------+\n",
      "| user_id |        rmse        | count |\n",
      "+---------+--------------------+-------+\n",
      "|   260   | 2.5105352641685794 |   2   |\n",
      "+---------+--------------------+-------+\n",
      "[1 rows x 3 columns]\n",
      "\n",
      "\n",
      "Per Item RMSE (best)\n",
      "+---------+-----------------------+-------+\n",
      "| item_id |          rmse         | count |\n",
      "+---------+-----------------------+-------+\n",
      "|   957   | 0.0007392979232601071 |   1   |\n",
      "+---------+-----------------------+-------+\n",
      "[1 rows x 3 columns]\n",
      "\n",
      "\n",
      "Per Item RMSE (worst)\n",
      "+---------+-------------------+-------+\n",
      "| item_id |        rmse       | count |\n",
      "+---------+-------------------+-------+\n",
      "|   376   | 3.546182515832232 |   1   |\n",
      "+---------+-------------------+-------+\n",
      "[1 rows x 3 columns]\n",
      "\n",
      "+---------+--------------------+-------+\n",
      "| user_id |        rmse        | count |\n",
      "+---------+--------------------+-------+\n",
      "|   232   | 1.0296454721134756 |   17  |\n",
      "|   363   | 1.297215049789438  |   63  |\n",
      "|   431   | 0.9642141941695617 |   5   |\n",
      "|   738   | 0.7481587708608708 |   36  |\n",
      "|   732   | 1.6329903173407372 |   3   |\n",
      "|   187   | 1.329204149697864  |   8   |\n",
      "|   764   | 1.0136858381974703 |   26  |\n",
      "|   926   | 1.0521320636099971 |   3   |\n",
      "|   614   | 1.5299237010807487 |   11  |\n",
      "|   786   | 0.791720348922556  |   25  |\n",
      "+---------+--------------------+-------+\n",
      "[942 rows x 3 columns]\n",
      "Note: Only the head of the SFrame is printed.\n",
      "You can use print_rows(num_rows=m, num_columns=n) to print more rows and columns.\n",
      "+---------+--------------------+-------+\n",
      "| item_id |        rmse        | count |\n",
      "+---------+--------------------+-------+\n",
      "|   232   | 0.7720193231867776 |   18  |\n",
      "|   363   | 1.0051522799613044 |   8   |\n",
      "|   431   | 0.871480006657594  |   25  |\n",
      "|   738   | 1.205427762809797  |   8   |\n",
      "|   732   | 0.7287221213838049 |   34  |\n",
      "|   187   | 0.8927820988786451 |   36  |\n",
      "|   1368  | 2.690522123770497  |   2   |\n",
      "|   764   | 1.3773571847027934 |   9   |\n",
      "|   926   | 0.8673264580050781 |   21  |\n",
      "|   1180  | 1.054611705745101  |   1   |\n",
      "+---------+--------------------+-------+\n",
      "[1419 rows x 3 columns]\n",
      "Note: Only the head of the SFrame is printed.\n",
      "You can use print_rows(num_rows=m, num_columns=n) to print more rows and columns.\n"
     ]
    }
   ],
   "source": [
    "# 評価\n",
    "metrics = model.evaluate(test_data)\n",
    "\n",
    "# 評価データのRMSEの表示\n",
    "print(metrics['rmse_by_user'])\n",
    "print(metrics['rmse_by_item'])"
   ]
  },
  {
   "cell_type": "code",
   "execution_count": 5,
   "metadata": {},
   "outputs": [],
   "source": [
    "# Turi Createモデルの保存\n",
    "model.save('./Recommend.model')"
   ]
  },
  {
   "cell_type": "code",
   "execution_count": 6,
   "metadata": {},
   "outputs": [
    {
     "data": {
      "text/html": [
       "<pre>Materializing SFrame</pre>"
      ],
      "text/plain": [
       "Materializing SFrame"
      ]
     },
     "metadata": {},
     "output_type": "display_data"
    }
   ],
   "source": [
    "# 個別ユーザーへの推薦映画の取得\n",
    "recommend = model.recommend(users=['1'], k=10)\n",
    "\n",
    "# 映画のタイトルをmovie_title列に追加\n",
    "recommend['movie_title'] = recommend['item_id'].apply(\n",
    "    lambda x: item_data[item_data['item_id'] == x]['movie_title'][0])\n",
    "\n",
    "# 結果の確認\n",
    "recommend.explore()"
   ]
  },
  {
   "cell_type": "code",
   "execution_count": 7,
   "metadata": {},
   "outputs": [
    {
     "name": "stdout",
     "output_type": "stream",
     "text": [
      "['Toy Story (1995)', ... ]\n"
     ]
    },
    {
     "data": {
      "text/html": [
       "<pre>Materializing SFrame</pre>"
      ],
      "text/plain": [
       "Materializing SFrame"
      ]
     },
     "metadata": {},
     "output_type": "display_data"
    }
   ],
   "source": [
    "# 類似映画の検索\n",
    "similar_items = model.get_similar_items([1], k=10)\n",
    "\n",
    "# 検索する映画のタイトル表示\n",
    "print(item_data[item_data['item_id']==1]['movie_title'])\n",
    "\n",
    "# 検索結果の映画のタイトルをmovie_title列に追加\n",
    "similar_items['movie_title'] = similar_items['similar'].apply(\n",
    "    lambda x: item_data[item_data['item_id'] == x]['movie_title'][0])\n",
    "\n",
    "# 結果の確認\n",
    "similar_items.explore()"
   ]
  }
 ],
 "metadata": {
  "kernelspec": {
   "display_name": "Python 3",
   "language": "python",
   "name": "python3"
  },
  "language_info": {
   "codemirror_mode": {
    "name": "ipython",
    "version": 3
   },
   "file_extension": ".py",
   "mimetype": "text/x-python",
   "name": "python",
   "nbconvert_exporter": "python",
   "pygments_lexer": "ipython3",
   "version": "3.6.5"
  }
 },
 "nbformat": 4,
 "nbformat_minor": 2
}
