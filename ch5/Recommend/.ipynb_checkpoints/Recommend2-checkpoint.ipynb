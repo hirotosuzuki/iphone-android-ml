{
 "cells": [
  {
   "cell_type": "code",
   "execution_count": 1,
   "metadata": {},
   "outputs": [
    {
     "name": "stderr",
     "output_type": "stream",
     "text": [
      "/Users/furukawahidekazu/anaconda3/envs/turicreate/lib/python3.6/importlib/_bootstrap.py:219: RuntimeWarning: numpy.dtype size changed, may indicate binary incompatibility. Expected 96, got 88\n",
      "  return f(*args, **kwds)\n",
      "/Users/furukawahidekazu/anaconda3/envs/turicreate/lib/python3.6/importlib/_bootstrap.py:219: RuntimeWarning: numpy.dtype size changed, may indicate binary incompatibility. Expected 96, got 88\n",
      "  return f(*args, **kwds)\n"
     ]
    },
    {
     "data": {
      "text/html": [
       "<pre>Materializing SFrame</pre>"
      ],
      "text/plain": [
       "Materializing SFrame"
      ]
     },
     "metadata": {},
     "output_type": "display_data"
    }
   ],
   "source": [
    "import turicreate as tc\n",
    "\n",
    "# 評価のデータセットの読み込み\n",
    "data = tc.SFrame.read_csv('./ml-100k/u.data', \n",
    "    delimiter='\\t', header=False, verbose=False)\n",
    "data = data.rename({\n",
    "    'X1': 'user_id', \n",
    "    'X2': 'item_id', \n",
    "    'X3': 'rating', \n",
    "    'X4': 'timestamp'})\n",
    "\n",
    "# 評価のデータセットの確認\n",
    "data.explore()\n",
    "\n",
    "# 訓練データと評価データの分割\n",
    "train_data, test_data = tc.recommender.util.random_split_by_user(\n",
    "    data, 'user_id', 'item_id')"
   ]
  },
  {
   "cell_type": "code",
   "execution_count": 2,
   "metadata": {},
   "outputs": [
    {
     "data": {
      "text/html": [
       "<pre>Materializing SFrame</pre>"
      ],
      "text/plain": [
       "Materializing SFrame"
      ]
     },
     "metadata": {},
     "output_type": "display_data"
    }
   ],
   "source": [
    "# 映画のデータセットの読み込み\n",
    "item_data = tc.SFrame.read_csv('./ml-100k/u.item', \n",
    "    delimiter='|', header=False, verbose=False)\n",
    "item_data = item_data.rename({\n",
    "    'X1': 'item_id',\n",
    "    'X2': 'movie_title',\n",
    "    'X3': 'release_date',\n",
    "    'X4': 'video_release_date',\n",
    "    'X5': 'imdb_URL',\n",
    "    'X6': 'unknown',\n",
    "    'X7': 'action',\n",
    "    'X8': 'adventure',\n",
    "    'X9': 'animation',\n",
    "    'X10': 'children',\n",
    "    'X11': 'comedy',\n",
    "    'X12': 'crime',\n",
    "    'X13': 'documentary',\n",
    "    'X14': 'drama',\n",
    "    'X15': 'fantasy',\n",
    "    'X16': 'film_noir',\n",
    "    'X17': 'horror',\n",
    "    'X18': 'musical',\n",
    "    'X19': 'mystery',\n",
    "    'X20': 'romance',\n",
    "    'X21': 'sf',\n",
    "    'X22': 'thriller',\n",
    "    'X23': 'war',\n",
    "    'X24': 'western'})\n",
    "\n",
    "# 映画のデータセットの確認\n",
    "item_data.explore()"
   ]
  },
  {
   "cell_type": "code",
   "execution_count": 3,
   "metadata": {},
   "outputs": [
    {
     "data": {
      "text/html": [
       "<pre>Recsys training: model = ranking_factorization_recommender</pre>"
      ],
      "text/plain": [
       "Recsys training: model = ranking_factorization_recommender"
      ]
     },
     "metadata": {},
     "output_type": "display_data"
    },
    {
     "data": {
      "text/html": [
       "<pre>Preparing data set.</pre>"
      ],
      "text/plain": [
       "Preparing data set."
      ]
     },
     "metadata": {},
     "output_type": "display_data"
    },
    {
     "data": {
      "text/html": [
       "<pre>    Data has 80009 observations with 943 users and 1647 items.</pre>"
      ],
      "text/plain": [
       "    Data has 80009 observations with 943 users and 1647 items."
      ]
     },
     "metadata": {},
     "output_type": "display_data"
    },
    {
     "data": {
      "text/html": [
       "<pre>    Data prepared in: 0.092552s</pre>"
      ],
      "text/plain": [
       "    Data prepared in: 0.092552s"
      ]
     },
     "metadata": {},
     "output_type": "display_data"
    },
    {
     "data": {
      "text/html": [
       "<pre>Training ranking_factorization_recommender for recommendations.</pre>"
      ],
      "text/plain": [
       "Training ranking_factorization_recommender for recommendations."
      ]
     },
     "metadata": {},
     "output_type": "display_data"
    },
    {
     "data": {
      "text/html": [
       "<pre>+--------------------------------+--------------------------------------------------+----------+</pre>"
      ],
      "text/plain": [
       "+--------------------------------+--------------------------------------------------+----------+"
      ]
     },
     "metadata": {},
     "output_type": "display_data"
    },
    {
     "data": {
      "text/html": [
       "<pre>| Parameter                      | Description                                      | Value    |</pre>"
      ],
      "text/plain": [
       "| Parameter                      | Description                                      | Value    |"
      ]
     },
     "metadata": {},
     "output_type": "display_data"
    },
    {
     "data": {
      "text/html": [
       "<pre>+--------------------------------+--------------------------------------------------+----------+</pre>"
      ],
      "text/plain": [
       "+--------------------------------+--------------------------------------------------+----------+"
      ]
     },
     "metadata": {},
     "output_type": "display_data"
    },
    {
     "data": {
      "text/html": [
       "<pre>| num_factors                    | Factor Dimension                                 | 32       |</pre>"
      ],
      "text/plain": [
       "| num_factors                    | Factor Dimension                                 | 32       |"
      ]
     },
     "metadata": {},
     "output_type": "display_data"
    },
    {
     "data": {
      "text/html": [
       "<pre>| regularization                 | L2 Regularization on Factors                     | 1e-09    |</pre>"
      ],
      "text/plain": [
       "| regularization                 | L2 Regularization on Factors                     | 1e-09    |"
      ]
     },
     "metadata": {},
     "output_type": "display_data"
    },
    {
     "data": {
      "text/html": [
       "<pre>| solver                         | Solver used for training                         | adagrad  |</pre>"
      ],
      "text/plain": [
       "| solver                         | Solver used for training                         | adagrad  |"
      ]
     },
     "metadata": {},
     "output_type": "display_data"
    },
    {
     "data": {
      "text/html": [
       "<pre>| linear_regularization          | L2 Regularization on Linear Coefficients         | 1e-09    |</pre>"
      ],
      "text/plain": [
       "| linear_regularization          | L2 Regularization on Linear Coefficients         | 1e-09    |"
      ]
     },
     "metadata": {},
     "output_type": "display_data"
    },
    {
     "data": {
      "text/html": [
       "<pre>| ranking_regularization         | Rank-based Regularization Weight                 | 0.25     |</pre>"
      ],
      "text/plain": [
       "| ranking_regularization         | Rank-based Regularization Weight                 | 0.25     |"
      ]
     },
     "metadata": {},
     "output_type": "display_data"
    },
    {
     "data": {
      "text/html": [
       "<pre>| max_iterations                 | Maximum Number of Iterations                     | 25       |</pre>"
      ],
      "text/plain": [
       "| max_iterations                 | Maximum Number of Iterations                     | 25       |"
      ]
     },
     "metadata": {},
     "output_type": "display_data"
    },
    {
     "data": {
      "text/html": [
       "<pre>+--------------------------------+--------------------------------------------------+----------+</pre>"
      ],
      "text/plain": [
       "+--------------------------------+--------------------------------------------------+----------+"
      ]
     },
     "metadata": {},
     "output_type": "display_data"
    },
    {
     "data": {
      "text/html": [
       "<pre>  Optimizing model using SGD; tuning step size.</pre>"
      ],
      "text/plain": [
       "  Optimizing model using SGD; tuning step size."
      ]
     },
     "metadata": {},
     "output_type": "display_data"
    },
    {
     "data": {
      "text/html": [
       "<pre>  Using 10001 / 80009 points for tuning the step size.</pre>"
      ],
      "text/plain": [
       "  Using 10001 / 80009 points for tuning the step size."
      ]
     },
     "metadata": {},
     "output_type": "display_data"
    },
    {
     "data": {
      "text/html": [
       "<pre>+---------+-------------------+------------------------------------------+</pre>"
      ],
      "text/plain": [
       "+---------+-------------------+------------------------------------------+"
      ]
     },
     "metadata": {},
     "output_type": "display_data"
    },
    {
     "data": {
      "text/html": [
       "<pre>| Attempt | Initial Step Size | Estimated Objective Value                |</pre>"
      ],
      "text/plain": [
       "| Attempt | Initial Step Size | Estimated Objective Value                |"
      ]
     },
     "metadata": {},
     "output_type": "display_data"
    },
    {
     "data": {
      "text/html": [
       "<pre>+---------+-------------------+------------------------------------------+</pre>"
      ],
      "text/plain": [
       "+---------+-------------------+------------------------------------------+"
      ]
     },
     "metadata": {},
     "output_type": "display_data"
    },
    {
     "data": {
      "text/html": [
       "<pre>| 0       | 16.6667           | Not Viable                               |</pre>"
      ],
      "text/plain": [
       "| 0       | 16.6667           | Not Viable                               |"
      ]
     },
     "metadata": {},
     "output_type": "display_data"
    },
    {
     "data": {
      "text/html": [
       "<pre>| 1       | 4.16667           | Not Viable                               |</pre>"
      ],
      "text/plain": [
       "| 1       | 4.16667           | Not Viable                               |"
      ]
     },
     "metadata": {},
     "output_type": "display_data"
    },
    {
     "data": {
      "text/html": [
       "<pre>| 2       | 1.04167           | Not Viable                               |</pre>"
      ],
      "text/plain": [
       "| 2       | 1.04167           | Not Viable                               |"
      ]
     },
     "metadata": {},
     "output_type": "display_data"
    },
    {
     "data": {
      "text/html": [
       "<pre>| 3       | 0.260417          | Not Viable                               |</pre>"
      ],
      "text/plain": [
       "| 3       | 0.260417          | Not Viable                               |"
      ]
     },
     "metadata": {},
     "output_type": "display_data"
    },
    {
     "data": {
      "text/html": [
       "<pre>| 4       | 0.0651042         | 1.6356                                   |</pre>"
      ],
      "text/plain": [
       "| 4       | 0.0651042         | 1.6356                                   |"
      ]
     },
     "metadata": {},
     "output_type": "display_data"
    },
    {
     "data": {
      "text/html": [
       "<pre>| 5       | 0.0325521         | 1.84017                                  |</pre>"
      ],
      "text/plain": [
       "| 5       | 0.0325521         | 1.84017                                  |"
      ]
     },
     "metadata": {},
     "output_type": "display_data"
    },
    {
     "data": {
      "text/html": [
       "<pre>| 6       | 0.016276          | 2.01182                                  |</pre>"
      ],
      "text/plain": [
       "| 6       | 0.016276          | 2.01182                                  |"
      ]
     },
     "metadata": {},
     "output_type": "display_data"
    },
    {
     "data": {
      "text/html": [
       "<pre>| 7       | 0.00813802        | 2.12812                                  |</pre>"
      ],
      "text/plain": [
       "| 7       | 0.00813802        | 2.12812                                  |"
      ]
     },
     "metadata": {},
     "output_type": "display_data"
    },
    {
     "data": {
      "text/html": [
       "<pre>+---------+-------------------+------------------------------------------+</pre>"
      ],
      "text/plain": [
       "+---------+-------------------+------------------------------------------+"
      ]
     },
     "metadata": {},
     "output_type": "display_data"
    },
    {
     "data": {
      "text/html": [
       "<pre>| Final   | 0.0651042         | 1.6356                                   |</pre>"
      ],
      "text/plain": [
       "| Final   | 0.0651042         | 1.6356                                   |"
      ]
     },
     "metadata": {},
     "output_type": "display_data"
    },
    {
     "data": {
      "text/html": [
       "<pre>+---------+-------------------+------------------------------------------+</pre>"
      ],
      "text/plain": [
       "+---------+-------------------+------------------------------------------+"
      ]
     },
     "metadata": {},
     "output_type": "display_data"
    },
    {
     "data": {
      "text/html": [
       "<pre>Starting Optimization.</pre>"
      ],
      "text/plain": [
       "Starting Optimization."
      ]
     },
     "metadata": {},
     "output_type": "display_data"
    },
    {
     "data": {
      "text/html": [
       "<pre>+---------+--------------+-------------------+-----------------------+-------------+</pre>"
      ],
      "text/plain": [
       "+---------+--------------+-------------------+-----------------------+-------------+"
      ]
     },
     "metadata": {},
     "output_type": "display_data"
    },
    {
     "data": {
      "text/html": [
       "<pre>| Iter.   | Elapsed Time | Approx. Objective | Approx. Training RMSE | Step Size   |</pre>"
      ],
      "text/plain": [
       "| Iter.   | Elapsed Time | Approx. Objective | Approx. Training RMSE | Step Size   |"
      ]
     },
     "metadata": {},
     "output_type": "display_data"
    },
    {
     "data": {
      "text/html": [
       "<pre>+---------+--------------+-------------------+-----------------------+-------------+</pre>"
      ],
      "text/plain": [
       "+---------+--------------+-------------------+-----------------------+-------------+"
      ]
     },
     "metadata": {},
     "output_type": "display_data"
    },
    {
     "data": {
      "text/html": [
       "<pre>| Initial | 104us        | 2.47972           | 1.12461               |             |</pre>"
      ],
      "text/plain": [
       "| Initial | 104us        | 2.47972           | 1.12461               |             |"
      ]
     },
     "metadata": {},
     "output_type": "display_data"
    },
    {
     "data": {
      "text/html": [
       "<pre>+---------+--------------+-------------------+-----------------------+-------------+</pre>"
      ],
      "text/plain": [
       "+---------+--------------+-------------------+-----------------------+-------------+"
      ]
     },
     "metadata": {},
     "output_type": "display_data"
    },
    {
     "data": {
      "text/html": [
       "<pre>| 1       | 85.011ms     | 2.97776           | 1.38359               | 0.0651042   |</pre>"
      ],
      "text/plain": [
       "| 1       | 85.011ms     | 2.97776           | 1.38359               | 0.0651042   |"
      ]
     },
     "metadata": {},
     "output_type": "display_data"
    },
    {
     "data": {
      "text/html": [
       "<pre>| 2       | 167.399ms    | 2.14035           | 1.13659               | 0.0651042   |</pre>"
      ],
      "text/plain": [
       "| 2       | 167.399ms    | 2.14035           | 1.13659               | 0.0651042   |"
      ]
     },
     "metadata": {},
     "output_type": "display_data"
    },
    {
     "data": {
      "text/html": [
       "<pre>| 3       | 244.827ms    | 2.07367           | 1.11837               | 0.0651042   |</pre>"
      ],
      "text/plain": [
       "| 3       | 244.827ms    | 2.07367           | 1.11837               | 0.0651042   |"
      ]
     },
     "metadata": {},
     "output_type": "display_data"
    },
    {
     "data": {
      "text/html": [
       "<pre>| 4       | 341.146ms    | 2.0348            | 1.10709               | 0.0651042   |</pre>"
      ],
      "text/plain": [
       "| 4       | 341.146ms    | 2.0348            | 1.10709               | 0.0651042   |"
      ]
     },
     "metadata": {},
     "output_type": "display_data"
    },
    {
     "data": {
      "text/html": [
       "<pre>| 5       | 431.735ms    | 2.00291           | 1.09674               | 0.0651042   |</pre>"
      ],
      "text/plain": [
       "| 5       | 431.735ms    | 2.00291           | 1.09674               | 0.0651042   |"
      ]
     },
     "metadata": {},
     "output_type": "display_data"
    },
    {
     "data": {
      "text/html": [
       "<pre>| 10      | 887.751ms    | 1.94679           | 1.07988               | 0.0651042   |</pre>"
      ],
      "text/plain": [
       "| 10      | 887.751ms    | 1.94679           | 1.07988               | 0.0651042   |"
      ]
     },
     "metadata": {},
     "output_type": "display_data"
    },
    {
     "data": {
      "text/html": [
       "<pre>| 25      | 2.18s        | 1.90072           | 1.06478               | 0.0651042   |</pre>"
      ],
      "text/plain": [
       "| 25      | 2.18s        | 1.90072           | 1.06478               | 0.0651042   |"
      ]
     },
     "metadata": {},
     "output_type": "display_data"
    },
    {
     "data": {
      "text/html": [
       "<pre>+---------+--------------+-------------------+-----------------------+-------------+</pre>"
      ],
      "text/plain": [
       "+---------+--------------+-------------------+-----------------------+-------------+"
      ]
     },
     "metadata": {},
     "output_type": "display_data"
    },
    {
     "data": {
      "text/html": [
       "<pre>Optimization Complete: Maximum number of passes through the data reached.</pre>"
      ],
      "text/plain": [
       "Optimization Complete: Maximum number of passes through the data reached."
      ]
     },
     "metadata": {},
     "output_type": "display_data"
    },
    {
     "data": {
      "text/html": [
       "<pre>Computing final objective value and training RMSE.</pre>"
      ],
      "text/plain": [
       "Computing final objective value and training RMSE."
      ]
     },
     "metadata": {},
     "output_type": "display_data"
    },
    {
     "data": {
      "text/html": [
       "<pre>       Final objective value: 1.90136</pre>"
      ],
      "text/plain": [
       "       Final objective value: 1.90136"
      ]
     },
     "metadata": {},
     "output_type": "display_data"
    },
    {
     "data": {
      "text/html": [
       "<pre>       Final training RMSE: 1.04975</pre>"
      ],
      "text/plain": [
       "       Final training RMSE: 1.04975"
      ]
     },
     "metadata": {},
     "output_type": "display_data"
    }
   ],
   "source": [
    "# 学習\n",
    "model = tc.recommender.create(train_data, \n",
    "    user_id='user_id', item_id='item_id', target='rating')"
   ]
  },
  {
   "cell_type": "code",
   "execution_count": 9,
   "metadata": {},
   "outputs": [
    {
     "name": "stdout",
     "output_type": "stream",
     "text": [
      "\n",
      "Precision and recall summary statistics by cutoff\n",
      "+--------+---------------------+----------------------+\n",
      "| cutoff |    mean_precision   |     mean_recall      |\n",
      "+--------+---------------------+----------------------+\n",
      "|   1    | 0.16135881104033972 | 0.00560317265584217  |\n",
      "|   2    | 0.14171974522293013 | 0.009574884759670312 |\n",
      "|   3    |  0.1341118188251945 | 0.013779436150209863 |\n",
      "|   4    | 0.12420382165605091 |  0.0168535252209078  |\n",
      "|   5    | 0.11740976645435242 |  0.0198638493119301  |\n",
      "|   6    | 0.11429582448690728 | 0.02341805035384332  |\n",
      "|   7    |  0.1097967849560206 | 0.026279860434559092 |\n",
      "|   8    | 0.10642250530785566 | 0.029457054777833228 |\n",
      "|   9    |  0.1056853031375325 | 0.03310579618441608  |\n",
      "|   10   | 0.10307855626326967 | 0.03598326855936867  |\n",
      "+--------+---------------------+----------------------+\n",
      "[10 rows x 3 columns]\n",
      "\n",
      "\n",
      "Overall RMSE: 1.0760291512720717\n",
      "\n",
      "Per User RMSE (best)\n",
      "+---------+---------------------+-------+\n",
      "| user_id |         rmse        | count |\n",
      "+---------+---------------------+-------+\n",
      "|   247   | 0.16197624310462766 |   1   |\n",
      "+---------+---------------------+-------+\n",
      "[1 rows x 3 columns]\n",
      "\n",
      "\n",
      "Per User RMSE (worst)\n",
      "+---------+-------------------+-------+\n",
      "| user_id |        rmse       | count |\n",
      "+---------+-------------------+-------+\n",
      "|   404   | 4.452804484908271 |   6   |\n",
      "+---------+-------------------+-------+\n",
      "[1 rows x 3 columns]\n",
      "\n",
      "\n",
      "Per Item RMSE (best)\n",
      "+---------+----------------------+-------+\n",
      "| item_id |         rmse         | count |\n",
      "+---------+----------------------+-------+\n",
      "|   1100  | 0.010129279306143157 |   1   |\n",
      "+---------+----------------------+-------+\n",
      "[1 rows x 3 columns]\n",
      "\n",
      "\n",
      "Per Item RMSE (worst)\n",
      "+---------+------------------+-------+\n",
      "| item_id |       rmse       | count |\n",
      "+---------+------------------+-------+\n",
      "|   376   | 3.57569155869975 |   1   |\n",
      "+---------+------------------+-------+\n",
      "[1 rows x 3 columns]\n",
      "\n",
      "-------------\n",
      "<class 'dict'>\n",
      "dict_keys(['precision_recall_by_user', 'precision_recall_overall', 'rmse_by_user', 'rmse_by_item', 'rmse_overall'])\n",
      "{'precision_recall_by_user': Columns:\n",
      "\tuser_id\tint\n",
      "\tcutoff\tint\n",
      "\tprecision\tfloat\n",
      "\trecall\tfloat\n",
      "\tcount\tint\n",
      "\n",
      "Rows: 16956\n",
      "\n",
      "Data:\n",
      "+---------+--------+---------------------+----------------------+-------+\n",
      "| user_id | cutoff |      precision      |        recall        | count |\n",
      "+---------+--------+---------------------+----------------------+-------+\n",
      "|    1    |   1    |         0.0         |         0.0          |   56  |\n",
      "|    1    |   2    |         0.0         |         0.0          |   56  |\n",
      "|    1    |   3    |         0.0         |         0.0          |   56  |\n",
      "|    1    |   4    |         0.0         |         0.0          |   56  |\n",
      "|    1    |   5    |         0.0         |         0.0          |   56  |\n",
      "|    1    |   6    | 0.16666666666666666 | 0.017857142857142856 |   56  |\n",
      "|    1    |   7    |  0.2857142857142857 | 0.03571428571428571  |   56  |\n",
      "|    1    |   8    |        0.375        | 0.05357142857142857  |   56  |\n",
      "|    1    |   9    |  0.3333333333333333 | 0.05357142857142857  |   56  |\n",
      "|    1    |   10   |         0.4         | 0.07142857142857142  |   56  |\n",
      "+---------+--------+---------------------+----------------------+-------+\n",
      "[16956 rows x 5 columns]\n",
      "Note: Only the head of the SFrame is printed.\n",
      "You can use print_rows(num_rows=m, num_columns=n) to print more rows and columns., 'precision_recall_overall': Columns:\n",
      "\tcutoff\tint\n",
      "\tprecision\tfloat\n",
      "\trecall\tfloat\n",
      "\n",
      "Rows: 18\n",
      "\n",
      "Data:\n",
      "+--------+---------------------+-----------------------+\n",
      "| cutoff |      precision      |         recall        |\n",
      "+--------+---------------------+-----------------------+\n",
      "|   1    | 0.16135881104033978 | 0.0056031726558421775 |\n",
      "|   2    | 0.14171974522292988 |  0.009574884759670305 |\n",
      "|   3    | 0.13411181882519443 |  0.013779436150209854 |\n",
      "|   4    | 0.12420382165605107 |  0.016853525220907845 |\n",
      "|   5    | 0.11740976645435246 |  0.019863849311930068 |\n",
      "|   6    |  0.1142958244869073 |  0.023418050353843343 |\n",
      "|   7    | 0.10979678495602054 |  0.026279860434559058 |\n",
      "|   8    | 0.10642250530785562 |  0.029457054777833256 |\n",
      "|   9    | 0.10568530313753258 |  0.03310579618441617  |\n",
      "|   10   | 0.10307855626326975 |  0.03598326855936863  |\n",
      "+--------+---------------------+-----------------------+\n",
      "[18 rows x 3 columns]\n",
      "Note: Only the head of the SFrame is printed.\n",
      "You can use print_rows(num_rows=m, num_columns=n) to print more rows and columns., 'rmse_by_user': Columns:\n",
      "\tuser_id\tint\n",
      "\trmse\tfloat\n",
      "\tcount\tint\n",
      "\n",
      "Rows: 942\n",
      "\n",
      "Data:\n",
      "+---------+--------------------+-------+\n",
      "| user_id |        rmse        | count |\n",
      "+---------+--------------------+-------+\n",
      "|   232   | 1.1078535895674888 |   17  |\n",
      "|   363   | 1.333428971925978  |   63  |\n",
      "|   431   | 0.6558583000111229 |   5   |\n",
      "|   738   | 0.9331020520875116 |   36  |\n",
      "|   732   | 1.9188560608057432 |   3   |\n",
      "|   187   | 1.2697148684789772 |   8   |\n",
      "|   764   | 0.9838472782568726 |   26  |\n",
      "|   926   | 1.0451169593230438 |   3   |\n",
      "|   614   | 1.5452392843450913 |   11  |\n",
      "|   786   | 0.7864945104109112 |   25  |\n",
      "+---------+--------------------+-------+\n",
      "[942 rows x 3 columns]\n",
      "Note: Only the head of the SFrame is printed.\n",
      "You can use print_rows(num_rows=m, num_columns=n) to print more rows and columns., 'rmse_by_item': Columns:\n",
      "\titem_id\tint\n",
      "\trmse\tfloat\n",
      "\tcount\tint\n",
      "\n",
      "Rows: 1419\n",
      "\n",
      "Data:\n",
      "+---------+--------------------+-------+\n",
      "| item_id |        rmse        | count |\n",
      "+---------+--------------------+-------+\n",
      "|   232   | 0.8701992349690312 |   18  |\n",
      "|   363   | 1.2705253713282652 |   8   |\n",
      "|   431   | 0.9609023512040004 |   25  |\n",
      "|   738   | 1.1338287370379188 |   8   |\n",
      "|   732   | 0.9848911536181473 |   34  |\n",
      "|   187   | 1.0362512478325379 |   36  |\n",
      "|   1368  | 2.546518579592696  |   2   |\n",
      "|   764   | 1.239481485184503  |   9   |\n",
      "|   926   | 0.8684686034897258 |   21  |\n",
      "|   1180  | 0.8263279649896842 |   1   |\n",
      "+---------+--------------------+-------+\n",
      "[1419 rows x 3 columns]\n",
      "Note: Only the head of the SFrame is printed.\n",
      "You can use print_rows(num_rows=m, num_columns=n) to print more rows and columns., 'rmse_overall': 1.0760291512720717}\n"
     ]
    }
   ],
   "source": [
    "# 評価\n",
    "metrics = model.evaluate(test_data)\n",
    "#print(\"-------------\")\n",
    "#print(type(metrics))\n",
    "#print(metrics.keys())\n",
    "#print(metrics)\n",
    "#metrics = model.evaluate_rmse(test_data, target='rating')\n",
    "\n",
    "# 評価データのRMSEの表示\n",
    "print(metrics['rmse_by_user'])\n",
    "print(metrics['rmse_by_item'])"
   ]
  },
  {
   "cell_type": "code",
   "execution_count": 5,
   "metadata": {},
   "outputs": [],
   "source": [
    "# Turi Createモデルの保存\n",
    "model.save('./Recommend.model')"
   ]
  },
  {
   "cell_type": "code",
   "execution_count": 6,
   "metadata": {},
   "outputs": [
    {
     "data": {
      "text/html": [
       "<pre>Materializing SFrame</pre>"
      ],
      "text/plain": [
       "Materializing SFrame"
      ]
     },
     "metadata": {},
     "output_type": "display_data"
    }
   ],
   "source": [
    "# 個別ユーザーへの推薦映画の取得\n",
    "recommend = model.recommend(users=['1'], k=10)\n",
    "\n",
    "# 映画のタイトルをmovie_title列に追加\n",
    "recommend['movie_title'] = recommend['item_id'].apply(\n",
    "    lambda x: item_data[item_data['item_id'] == x]['movie_title'][0])\n",
    "\n",
    "# 結果の確認\n",
    "recommend.explore()"
   ]
  },
  {
   "cell_type": "code",
   "execution_count": 7,
   "metadata": {},
   "outputs": [
    {
     "name": "stdout",
     "output_type": "stream",
     "text": [
      "['Toy Story (1995)', ... ]\n"
     ]
    },
    {
     "data": {
      "text/html": [
       "<pre>Materializing SFrame</pre>"
      ],
      "text/plain": [
       "Materializing SFrame"
      ]
     },
     "metadata": {},
     "output_type": "display_data"
    }
   ],
   "source": [
    "# 類似映画の検索\n",
    "similar_items = model.get_similar_items([1], k=10)\n",
    "\n",
    "# 検索する映画のタイトル表示\n",
    "print(item_data[item_data['item_id']==1]['movie_title'])\n",
    "\n",
    "# 検索結果の映画のタイトルをmovie_title列に追加\n",
    "similar_items['movie_title'] = similar_items['similar'].apply(\n",
    "    lambda x: item_data[item_data['item_id'] == x]['movie_title'][0])\n",
    "\n",
    "# 結果の確認\n",
    "similar_items.explore()"
   ]
  }
 ],
 "metadata": {
  "kernelspec": {
   "display_name": "Python 3",
   "language": "python",
   "name": "python3"
  },
  "language_info": {
   "codemirror_mode": {
    "name": "ipython",
    "version": 3
   },
   "file_extension": ".py",
   "mimetype": "text/x-python",
   "name": "python",
   "nbconvert_exporter": "python",
   "pygments_lexer": "ipython3",
   "version": "3.6.5"
  }
 },
 "nbformat": 4,
 "nbformat_minor": 2
}
