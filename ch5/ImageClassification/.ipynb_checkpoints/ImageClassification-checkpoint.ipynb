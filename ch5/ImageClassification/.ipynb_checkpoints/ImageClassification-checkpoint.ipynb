{
 "cells": [
  {
   "cell_type": "code",
   "execution_count": 1,
   "metadata": {},
   "outputs": [
    {
     "name": "stderr",
     "output_type": "stream",
     "text": [
      "/Users/furukawahidekazu/anaconda3/envs/turicreate/lib/python3.6/importlib/_bootstrap.py:219: RuntimeWarning: numpy.dtype size changed, may indicate binary incompatibility. Expected 96, got 88\n",
      "  return f(*args, **kwds)\n",
      "/Users/furukawahidekazu/anaconda3/envs/turicreate/lib/python3.6/importlib/_bootstrap.py:219: RuntimeWarning: numpy.dtype size changed, may indicate binary incompatibility. Expected 96, got 88\n",
      "  return f(*args, **kwds)\n"
     ]
    },
    {
     "data": {
      "text/html": [
       "<pre>Unexpected JPEG decode failure\t file: ./PetImages/Cat/10073.jpg</pre>"
      ],
      "text/plain": [
       "Unexpected JPEG decode failure\t file: ./PetImages/Cat/10073.jpg"
      ]
     },
     "metadata": {},
     "output_type": "display_data"
    },
    {
     "data": {
      "text/html": [
       "<pre>Unexpected JPEG decode failure\t file: ./PetImages/Cat/10125.jpg</pre>"
      ],
      "text/plain": [
       "Unexpected JPEG decode failure\t file: ./PetImages/Cat/10125.jpg"
      ]
     },
     "metadata": {},
     "output_type": "display_data"
    },
    {
     "data": {
      "text/html": [
       "<pre>Unexpected JPEG decode failure\t file: ./PetImages/Cat/10404.jpg</pre>"
      ],
      "text/plain": [
       "Unexpected JPEG decode failure\t file: ./PetImages/Cat/10404.jpg"
      ]
     },
     "metadata": {},
     "output_type": "display_data"
    },
    {
     "data": {
      "text/html": [
       "<pre>Unexpected JPEG decode failure\t file: ./PetImages/Cat/10501.jpg</pre>"
      ],
      "text/plain": [
       "Unexpected JPEG decode failure\t file: ./PetImages/Cat/10501.jpg"
      ]
     },
     "metadata": {},
     "output_type": "display_data"
    },
    {
     "data": {
      "text/html": [
       "<pre>Unexpected JPEG decode failure\t file: ./PetImages/Cat/10820.jpg</pre>"
      ],
      "text/plain": [
       "Unexpected JPEG decode failure\t file: ./PetImages/Cat/10820.jpg"
      ]
     },
     "metadata": {},
     "output_type": "display_data"
    },
    {
     "data": {
      "text/html": [
       "<pre>Unexpected JPEG decode failure\t file: ./PetImages/Cat/10874.jpg</pre>"
      ],
      "text/plain": [
       "Unexpected JPEG decode failure\t file: ./PetImages/Cat/10874.jpg"
      ]
     },
     "metadata": {},
     "output_type": "display_data"
    },
    {
     "data": {
      "text/html": [
       "<pre>Unexpected JPEG decode failure\t file: ./PetImages/Cat/11083.jpg</pre>"
      ],
      "text/plain": [
       "Unexpected JPEG decode failure\t file: ./PetImages/Cat/11083.jpg"
      ]
     },
     "metadata": {},
     "output_type": "display_data"
    },
    {
     "data": {
      "text/html": [
       "<pre>Unexpected JPEG decode failure\t file: ./PetImages/Cat/11086.jpg</pre>"
      ],
      "text/plain": [
       "Unexpected JPEG decode failure\t file: ./PetImages/Cat/11086.jpg"
      ]
     },
     "metadata": {},
     "output_type": "display_data"
    },
    {
     "data": {
      "text/html": [
       "<pre>Unexpected JPEG decode failure\t file: ./PetImages/Cat/11095.jpg</pre>"
      ],
      "text/plain": [
       "Unexpected JPEG decode failure\t file: ./PetImages/Cat/11095.jpg"
      ]
     },
     "metadata": {},
     "output_type": "display_data"
    },
    {
     "data": {
      "text/html": [
       "<pre>Unexpected JPEG decode failure\t file: ./PetImages/Cat/11210.jpg</pre>"
      ],
      "text/plain": [
       "Unexpected JPEG decode failure\t file: ./PetImages/Cat/11210.jpg"
      ]
     },
     "metadata": {},
     "output_type": "display_data"
    },
    {
     "data": {
      "text/html": [
       "<pre>Unexpected JPEG decode failure\t file: ./PetImages/Cat/11397.jpg</pre>"
      ],
      "text/plain": [
       "Unexpected JPEG decode failure\t file: ./PetImages/Cat/11397.jpg"
      ]
     },
     "metadata": {},
     "output_type": "display_data"
    },
    {
     "data": {
      "text/html": [
       "<pre>Unexpected JPEG decode failure\t file: ./PetImages/Cat/1151.jpg</pre>"
      ],
      "text/plain": [
       "Unexpected JPEG decode failure\t file: ./PetImages/Cat/1151.jpg"
      ]
     },
     "metadata": {},
     "output_type": "display_data"
    },
    {
     "data": {
      "text/html": [
       "<pre>Unexpected JPEG decode failure\t file: ./PetImages/Cat/11565.jpg</pre>"
      ],
      "text/plain": [
       "Unexpected JPEG decode failure\t file: ./PetImages/Cat/11565.jpg"
      ]
     },
     "metadata": {},
     "output_type": "display_data"
    },
    {
     "data": {
      "text/html": [
       "<pre>Unexpected JPEG decode failure\t file: ./PetImages/Cat/11729.jpg</pre>"
      ],
      "text/plain": [
       "Unexpected JPEG decode failure\t file: ./PetImages/Cat/11729.jpg"
      ]
     },
     "metadata": {},
     "output_type": "display_data"
    },
    {
     "data": {
      "text/html": [
       "<pre>Unexpected JPEG decode failure\t file: ./PetImages/Cat/11864.jpg</pre>"
      ],
      "text/plain": [
       "Unexpected JPEG decode failure\t file: ./PetImages/Cat/11864.jpg"
      ]
     },
     "metadata": {},
     "output_type": "display_data"
    },
    {
     "data": {
      "text/html": [
       "<pre>Unexpected JPEG decode failure\t file: ./PetImages/Cat/11874.jpg</pre>"
      ],
      "text/plain": [
       "Unexpected JPEG decode failure\t file: ./PetImages/Cat/11874.jpg"
      ]
     },
     "metadata": {},
     "output_type": "display_data"
    },
    {
     "data": {
      "text/html": [
       "<pre>Unexpected JPEG decode failure\t file: ./PetImages/Cat/11935.jpg</pre>"
      ],
      "text/plain": [
       "Unexpected JPEG decode failure\t file: ./PetImages/Cat/11935.jpg"
      ]
     },
     "metadata": {},
     "output_type": "display_data"
    },
    {
     "data": {
      "text/html": [
       "<pre>Unexpected JPEG decode failure\t file: ./PetImages/Cat/12080.jpg</pre>"
      ],
      "text/plain": [
       "Unexpected JPEG decode failure\t file: ./PetImages/Cat/12080.jpg"
      ]
     },
     "metadata": {},
     "output_type": "display_data"
    },
    {
     "data": {
      "text/html": [
       "<pre>Unexpected JPEG decode failure\t file: ./PetImages/Cat/12235.jpg</pre>"
      ],
      "text/plain": [
       "Unexpected JPEG decode failure\t file: ./PetImages/Cat/12235.jpg"
      ]
     },
     "metadata": {},
     "output_type": "display_data"
    },
    {
     "data": {
      "text/html": [
       "<pre>Unexpected JPEG decode failure\t file: ./PetImages/Cat/12269.jpg</pre>"
      ],
      "text/plain": [
       "Unexpected JPEG decode failure\t file: ./PetImages/Cat/12269.jpg"
      ]
     },
     "metadata": {},
     "output_type": "display_data"
    },
    {
     "data": {
      "text/html": [
       "<pre>Unexpected JPEG decode failure\t file: ./PetImages/Cat/1267.jpg</pre>"
      ],
      "text/plain": [
       "Unexpected JPEG decode failure\t file: ./PetImages/Cat/1267.jpg"
      ]
     },
     "metadata": {},
     "output_type": "display_data"
    },
    {
     "data": {
      "text/html": [
       "<pre>Unexpected JPEG decode failure\t file: ./PetImages/Cat/1386.jpg</pre>"
      ],
      "text/plain": [
       "Unexpected JPEG decode failure\t file: ./PetImages/Cat/1386.jpg"
      ]
     },
     "metadata": {},
     "output_type": "display_data"
    },
    {
     "data": {
      "text/html": [
       "<pre>Unexpected JPEG decode failure\t file: ./PetImages/Cat/140.jpg</pre>"
      ],
      "text/plain": [
       "Unexpected JPEG decode failure\t file: ./PetImages/Cat/140.jpg"
      ]
     },
     "metadata": {},
     "output_type": "display_data"
    },
    {
     "data": {
      "text/html": [
       "<pre>Unexpected JPEG decode failure\t file: ./PetImages/Cat/1757.jpg</pre>"
      ],
      "text/plain": [
       "Unexpected JPEG decode failure\t file: ./PetImages/Cat/1757.jpg"
      ]
     },
     "metadata": {},
     "output_type": "display_data"
    },
    {
     "data": {
      "text/html": [
       "<pre>Unexpected JPEG decode failure\t file: ./PetImages/Cat/1914.jpg</pre>"
      ],
      "text/plain": [
       "Unexpected JPEG decode failure\t file: ./PetImages/Cat/1914.jpg"
      ]
     },
     "metadata": {},
     "output_type": "display_data"
    },
    {
     "data": {
      "text/html": [
       "<pre>Unexpected JPEG decode failure\t file: ./PetImages/Cat/1936.jpg</pre>"
      ],
      "text/plain": [
       "Unexpected JPEG decode failure\t file: ./PetImages/Cat/1936.jpg"
      ]
     },
     "metadata": {},
     "output_type": "display_data"
    },
    {
     "data": {
      "text/html": [
       "<pre>Unexpected JPEG decode failure\t file: ./PetImages/Cat/1937.jpg</pre>"
      ],
      "text/plain": [
       "Unexpected JPEG decode failure\t file: ./PetImages/Cat/1937.jpg"
      ]
     },
     "metadata": {},
     "output_type": "display_data"
    },
    {
     "data": {
      "text/html": [
       "<pre>Unexpected JPEG decode failure\t file: ./PetImages/Cat/2021.jpg</pre>"
      ],
      "text/plain": [
       "Unexpected JPEG decode failure\t file: ./PetImages/Cat/2021.jpg"
      ]
     },
     "metadata": {},
     "output_type": "display_data"
    },
    {
     "data": {
      "text/html": [
       "<pre>Unexpected JPEG decode failure\t file: ./PetImages/Cat/2189.jpg</pre>"
      ],
      "text/plain": [
       "Unexpected JPEG decode failure\t file: ./PetImages/Cat/2189.jpg"
      ]
     },
     "metadata": {},
     "output_type": "display_data"
    },
    {
     "data": {
      "text/html": [
       "<pre>Unexpected JPEG decode failure\t file: ./PetImages/Cat/23.jpg</pre>"
      ],
      "text/plain": [
       "Unexpected JPEG decode failure\t file: ./PetImages/Cat/23.jpg"
      ]
     },
     "metadata": {},
     "output_type": "display_data"
    },
    {
     "data": {
      "text/html": [
       "<pre>Unexpected JPEG decode failure\t file: ./PetImages/Cat/2569.jpg</pre>"
      ],
      "text/plain": [
       "Unexpected JPEG decode failure\t file: ./PetImages/Cat/2569.jpg"
      ]
     },
     "metadata": {},
     "output_type": "display_data"
    },
    {
     "data": {
      "text/html": [
       "<pre>Unexpected JPEG decode failure\t file: ./PetImages/Cat/2663.jpg</pre>"
      ],
      "text/plain": [
       "Unexpected JPEG decode failure\t file: ./PetImages/Cat/2663.jpg"
      ]
     },
     "metadata": {},
     "output_type": "display_data"
    },
    {
     "data": {
      "text/html": [
       "<pre>Unexpected JPEG decode failure\t file: ./PetImages/Cat/2742.jpg</pre>"
      ],
      "text/plain": [
       "Unexpected JPEG decode failure\t file: ./PetImages/Cat/2742.jpg"
      ]
     },
     "metadata": {},
     "output_type": "display_data"
    },
    {
     "data": {
      "text/html": [
       "<pre>Unexpected JPEG decode failure\t file: ./PetImages/Cat/3153.jpg</pre>"
      ],
      "text/plain": [
       "Unexpected JPEG decode failure\t file: ./PetImages/Cat/3153.jpg"
      ]
     },
     "metadata": {},
     "output_type": "display_data"
    },
    {
     "data": {
      "text/html": [
       "<pre>Unexpected JPEG decode failure\t file: ./PetImages/Cat/3161.jpg</pre>"
      ],
      "text/plain": [
       "Unexpected JPEG decode failure\t file: ./PetImages/Cat/3161.jpg"
      ]
     },
     "metadata": {},
     "output_type": "display_data"
    },
    {
     "data": {
      "text/html": [
       "<pre>Unexpected JPEG decode failure\t file: ./PetImages/Cat/3197.jpg</pre>"
      ],
      "text/plain": [
       "Unexpected JPEG decode failure\t file: ./PetImages/Cat/3197.jpg"
      ]
     },
     "metadata": {},
     "output_type": "display_data"
    },
    {
     "data": {
      "text/html": [
       "<pre>Unexpected JPEG decode failure\t file: ./PetImages/Cat/3300.jpg</pre>"
      ],
      "text/plain": [
       "Unexpected JPEG decode failure\t file: ./PetImages/Cat/3300.jpg"
      ]
     },
     "metadata": {},
     "output_type": "display_data"
    },
    {
     "data": {
      "text/html": [
       "<pre>Read 5059 images in 5.00015 secs\tspeed: 1011.77 file/sec</pre>"
      ],
      "text/plain": [
       "Read 5059 images in 5.00015 secs\tspeed: 1011.77 file/sec"
      ]
     },
     "metadata": {},
     "output_type": "display_data"
    },
    {
     "data": {
      "text/html": [
       "<pre>Unexpected JPEG decode failure\t file: ./PetImages/Cat/3491.jpg</pre>"
      ],
      "text/plain": [
       "Unexpected JPEG decode failure\t file: ./PetImages/Cat/3491.jpg"
      ]
     },
     "metadata": {},
     "output_type": "display_data"
    },
    {
     "data": {
      "text/html": [
       "<pre>Unexpected JPEG decode failure\t file: ./PetImages/Cat/3649.jpg</pre>"
      ],
      "text/plain": [
       "Unexpected JPEG decode failure\t file: ./PetImages/Cat/3649.jpg"
      ]
     },
     "metadata": {},
     "output_type": "display_data"
    },
    {
     "data": {
      "text/html": [
       "<pre>Unexpected JPEG decode failure\t file: ./PetImages/Cat/3710.jpg</pre>"
      ],
      "text/plain": [
       "Unexpected JPEG decode failure\t file: ./PetImages/Cat/3710.jpg"
      ]
     },
     "metadata": {},
     "output_type": "display_data"
    },
    {
     "data": {
      "text/html": [
       "<pre>Unexpected JPEG decode failure\t file: ./PetImages/Cat/391.jpg</pre>"
      ],
      "text/plain": [
       "Unexpected JPEG decode failure\t file: ./PetImages/Cat/391.jpg"
      ]
     },
     "metadata": {},
     "output_type": "display_data"
    },
    {
     "data": {
      "text/html": [
       "<pre>Unexpected JPEG decode failure\t file: ./PetImages/Cat/3967.jpg</pre>"
      ],
      "text/plain": [
       "Unexpected JPEG decode failure\t file: ./PetImages/Cat/3967.jpg"
      ]
     },
     "metadata": {},
     "output_type": "display_data"
    },
    {
     "data": {
      "text/html": [
       "<pre>Unexpected JPEG decode failure\t file: ./PetImages/Cat/4000.jpg</pre>"
      ],
      "text/plain": [
       "Unexpected JPEG decode failure\t file: ./PetImages/Cat/4000.jpg"
      ]
     },
     "metadata": {},
     "output_type": "display_data"
    },
    {
     "data": {
      "text/html": [
       "<pre>Unexpected JPEG decode failure\t file: ./PetImages/Cat/4293.jpg</pre>"
      ],
      "text/plain": [
       "Unexpected JPEG decode failure\t file: ./PetImages/Cat/4293.jpg"
      ]
     },
     "metadata": {},
     "output_type": "display_data"
    },
    {
     "data": {
      "text/html": [
       "<pre>Unexpected JPEG decode failure\t file: ./PetImages/Cat/4322.jpg</pre>"
      ],
      "text/plain": [
       "Unexpected JPEG decode failure\t file: ./PetImages/Cat/4322.jpg"
      ]
     },
     "metadata": {},
     "output_type": "display_data"
    },
    {
     "data": {
      "text/html": [
       "<pre>Unexpected JPEG decode failure\t file: ./PetImages/Cat/4334.jpg</pre>"
      ],
      "text/plain": [
       "Unexpected JPEG decode failure\t file: ./PetImages/Cat/4334.jpg"
      ]
     },
     "metadata": {},
     "output_type": "display_data"
    },
    {
     "data": {
      "text/html": [
       "<pre>Unexpected JPEG decode failure\t file: ./PetImages/Cat/4351.jpg</pre>"
      ],
      "text/plain": [
       "Unexpected JPEG decode failure\t file: ./PetImages/Cat/4351.jpg"
      ]
     },
     "metadata": {},
     "output_type": "display_data"
    },
    {
     "data": {
      "text/html": [
       "<pre>Unexpected JPEG decode failure\t file: ./PetImages/Cat/445.jpg</pre>"
      ],
      "text/plain": [
       "Unexpected JPEG decode failure\t file: ./PetImages/Cat/445.jpg"
      ]
     },
     "metadata": {},
     "output_type": "display_data"
    },
    {
     "data": {
      "text/html": [
       "<pre>Unexpected JPEG decode failure\t file: ./PetImages/Cat/4629.jpg</pre>"
      ],
      "text/plain": [
       "Unexpected JPEG decode failure\t file: ./PetImages/Cat/4629.jpg"
      ]
     },
     "metadata": {},
     "output_type": "display_data"
    },
    {
     "data": {
      "text/html": [
       "<pre>Unexpected JPEG decode failure\t file: ./PetImages/Cat/4750.jpg</pre>"
      ],
      "text/plain": [
       "Unexpected JPEG decode failure\t file: ./PetImages/Cat/4750.jpg"
      ]
     },
     "metadata": {},
     "output_type": "display_data"
    },
    {
     "data": {
      "text/html": [
       "<pre>Unexpected JPEG decode failure\t file: ./PetImages/Cat/4821.jpg</pre>"
      ],
      "text/plain": [
       "Unexpected JPEG decode failure\t file: ./PetImages/Cat/4821.jpg"
      ]
     },
     "metadata": {},
     "output_type": "display_data"
    },
    {
     "data": {
      "text/html": [
       "<pre>Unexpected JPEG decode failure\t file: ./PetImages/Cat/4833.jpg</pre>"
      ],
      "text/plain": [
       "Unexpected JPEG decode failure\t file: ./PetImages/Cat/4833.jpg"
      ]
     },
     "metadata": {},
     "output_type": "display_data"
    },
    {
     "data": {
      "text/html": [
       "<pre>Unexpected JPEG decode failure\t file: ./PetImages/Cat/4874.jpg</pre>"
      ],
      "text/plain": [
       "Unexpected JPEG decode failure\t file: ./PetImages/Cat/4874.jpg"
      ]
     },
     "metadata": {},
     "output_type": "display_data"
    },
    {
     "data": {
      "text/html": [
       "<pre>Unexpected JPEG decode failure\t file: ./PetImages/Cat/4929.jpg</pre>"
      ],
      "text/plain": [
       "Unexpected JPEG decode failure\t file: ./PetImages/Cat/4929.jpg"
      ]
     },
     "metadata": {},
     "output_type": "display_data"
    },
    {
     "data": {
      "text/html": [
       "<pre>Unexpected JPEG decode failure\t file: ./PetImages/Cat/5077.jpg</pre>"
      ],
      "text/plain": [
       "Unexpected JPEG decode failure\t file: ./PetImages/Cat/5077.jpg"
      ]
     },
     "metadata": {},
     "output_type": "display_data"
    },
    {
     "data": {
      "text/html": [
       "<pre>Unexpected JPEG decode failure\t file: ./PetImages/Cat/5370.jpg</pre>"
      ],
      "text/plain": [
       "Unexpected JPEG decode failure\t file: ./PetImages/Cat/5370.jpg"
      ]
     },
     "metadata": {},
     "output_type": "display_data"
    },
    {
     "data": {
      "text/html": [
       "<pre>Unexpected JPEG decode failure\t file: ./PetImages/Cat/5553.jpg</pre>"
      ],
      "text/plain": [
       "Unexpected JPEG decode failure\t file: ./PetImages/Cat/5553.jpg"
      ]
     },
     "metadata": {},
     "output_type": "display_data"
    },
    {
     "data": {
      "text/html": [
       "<pre>Unexpected JPEG decode failure\t file: ./PetImages/Cat/5614.jpg</pre>"
      ],
      "text/plain": [
       "Unexpected JPEG decode failure\t file: ./PetImages/Cat/5614.jpg"
      ]
     },
     "metadata": {},
     "output_type": "display_data"
    },
    {
     "data": {
      "text/html": [
       "<pre>Unexpected JPEG decode failure\t file: ./PetImages/Cat/5819.jpg</pre>"
      ],
      "text/plain": [
       "Unexpected JPEG decode failure\t file: ./PetImages/Cat/5819.jpg"
      ]
     },
     "metadata": {},
     "output_type": "display_data"
    },
    {
     "data": {
      "text/html": [
       "<pre>Unexpected JPEG decode failure\t file: ./PetImages/Cat/6029.jpg</pre>"
      ],
      "text/plain": [
       "Unexpected JPEG decode failure\t file: ./PetImages/Cat/6029.jpg"
      ]
     },
     "metadata": {},
     "output_type": "display_data"
    },
    {
     "data": {
      "text/html": [
       "<pre>Unexpected JPEG decode failure\t file: ./PetImages/Cat/6376.jpg</pre>"
      ],
      "text/plain": [
       "Unexpected JPEG decode failure\t file: ./PetImages/Cat/6376.jpg"
      ]
     },
     "metadata": {},
     "output_type": "display_data"
    },
    {
     "data": {
      "text/html": [
       "<pre>Unexpected JPEG decode failure\t file: ./PetImages/Cat/6435.jpg</pre>"
      ],
      "text/plain": [
       "Unexpected JPEG decode failure\t file: ./PetImages/Cat/6435.jpg"
      ]
     },
     "metadata": {},
     "output_type": "display_data"
    },
    {
     "data": {
      "text/html": [
       "<pre>Unexpected JPEG decode failure\t file: ./PetImages/Cat/6486.jpg</pre>"
      ],
      "text/plain": [
       "Unexpected JPEG decode failure\t file: ./PetImages/Cat/6486.jpg"
      ]
     },
     "metadata": {},
     "output_type": "display_data"
    },
    {
     "data": {
      "text/html": [
       "<pre>Unexpected JPEG decode failure\t file: ./PetImages/Cat/6491.jpg</pre>"
      ],
      "text/plain": [
       "Unexpected JPEG decode failure\t file: ./PetImages/Cat/6491.jpg"
      ]
     },
     "metadata": {},
     "output_type": "display_data"
    },
    {
     "data": {
      "text/html": [
       "<pre>Unexpected JPEG decode failure\t file: ./PetImages/Cat/660.jpg</pre>"
      ],
      "text/plain": [
       "Unexpected JPEG decode failure\t file: ./PetImages/Cat/660.jpg"
      ]
     },
     "metadata": {},
     "output_type": "display_data"
    },
    {
     "data": {
      "text/html": [
       "<pre>Unexpected JPEG decode failure\t file: ./PetImages/Cat/666.jpg</pre>"
      ],
      "text/plain": [
       "Unexpected JPEG decode failure\t file: ./PetImages/Cat/666.jpg"
      ]
     },
     "metadata": {},
     "output_type": "display_data"
    },
    {
     "data": {
      "text/html": [
       "<pre>Unexpected JPEG decode failure\t file: ./PetImages/Cat/6768.jpg</pre>"
      ],
      "text/plain": [
       "Unexpected JPEG decode failure\t file: ./PetImages/Cat/6768.jpg"
      ]
     },
     "metadata": {},
     "output_type": "display_data"
    },
    {
     "data": {
      "text/html": [
       "<pre>Unexpected JPEG decode failure\t file: ./PetImages/Cat/6900.jpg</pre>"
      ],
      "text/plain": [
       "Unexpected JPEG decode failure\t file: ./PetImages/Cat/6900.jpg"
      ]
     },
     "metadata": {},
     "output_type": "display_data"
    },
    {
     "data": {
      "text/html": [
       "<pre>Unexpected JPEG decode failure\t file: ./PetImages/Cat/6906.jpg</pre>"
      ],
      "text/plain": [
       "Unexpected JPEG decode failure\t file: ./PetImages/Cat/6906.jpg"
      ]
     },
     "metadata": {},
     "output_type": "display_data"
    },
    {
     "data": {
      "text/html": [
       "<pre>Unexpected JPEG decode failure\t file: ./PetImages/Cat/6980.jpg</pre>"
      ],
      "text/plain": [
       "Unexpected JPEG decode failure\t file: ./PetImages/Cat/6980.jpg"
      ]
     },
     "metadata": {},
     "output_type": "display_data"
    },
    {
     "data": {
      "text/html": [
       "<pre>Unexpected JPEG decode failure\t file: ./PetImages/Cat/7003.jpg</pre>"
      ],
      "text/plain": [
       "Unexpected JPEG decode failure\t file: ./PetImages/Cat/7003.jpg"
      ]
     },
     "metadata": {},
     "output_type": "display_data"
    },
    {
     "data": {
      "text/html": [
       "<pre>Read 9627 images in 10.0004 secs\tspeed: 913.56 file/sec</pre>"
      ],
      "text/plain": [
       "Read 9627 images in 10.0004 secs\tspeed: 913.56 file/sec"
      ]
     },
     "metadata": {},
     "output_type": "display_data"
    },
    {
     "data": {
      "text/html": [
       "<pre>Unexpected JPEG decode failure\t file: ./PetImages/Cat/7502.jpg</pre>"
      ],
      "text/plain": [
       "Unexpected JPEG decode failure\t file: ./PetImages/Cat/7502.jpg"
      ]
     },
     "metadata": {},
     "output_type": "display_data"
    },
    {
     "data": {
      "text/html": [
       "<pre>Unexpected JPEG decode failure\t file: ./PetImages/Cat/7642.jpg</pre>"
      ],
      "text/plain": [
       "Unexpected JPEG decode failure\t file: ./PetImages/Cat/7642.jpg"
      ]
     },
     "metadata": {},
     "output_type": "display_data"
    },
    {
     "data": {
      "text/html": [
       "<pre>Unexpected JPEG decode failure\t file: ./PetImages/Cat/7647.jpg</pre>"
      ],
      "text/plain": [
       "Unexpected JPEG decode failure\t file: ./PetImages/Cat/7647.jpg"
      ]
     },
     "metadata": {},
     "output_type": "display_data"
    },
    {
     "data": {
      "text/html": [
       "<pre>Unexpected JPEG decode failure\t file: ./PetImages/Cat/7845.jpg</pre>"
      ],
      "text/plain": [
       "Unexpected JPEG decode failure\t file: ./PetImages/Cat/7845.jpg"
      ]
     },
     "metadata": {},
     "output_type": "display_data"
    },
    {
     "data": {
      "text/html": [
       "<pre>Unexpected JPEG decode failure\t file: ./PetImages/Cat/7968.jpg</pre>"
      ],
      "text/plain": [
       "Unexpected JPEG decode failure\t file: ./PetImages/Cat/7968.jpg"
      ]
     },
     "metadata": {},
     "output_type": "display_data"
    },
    {
     "data": {
      "text/html": [
       "<pre>Unexpected JPEG decode failure\t file: ./PetImages/Cat/7978.jpg</pre>"
      ],
      "text/plain": [
       "Unexpected JPEG decode failure\t file: ./PetImages/Cat/7978.jpg"
      ]
     },
     "metadata": {},
     "output_type": "display_data"
    },
    {
     "data": {
      "text/html": [
       "<pre>Unexpected JPEG decode failure\t file: ./PetImages/Cat/8183.jpg</pre>"
      ],
      "text/plain": [
       "Unexpected JPEG decode failure\t file: ./PetImages/Cat/8183.jpg"
      ]
     },
     "metadata": {},
     "output_type": "display_data"
    },
    {
     "data": {
      "text/html": [
       "<pre>Unexpected JPEG decode failure\t file: ./PetImages/Cat/8295.jpg</pre>"
      ],
      "text/plain": [
       "Unexpected JPEG decode failure\t file: ./PetImages/Cat/8295.jpg"
      ]
     },
     "metadata": {},
     "output_type": "display_data"
    },
    {
     "data": {
      "text/html": [
       "<pre>Unexpected JPEG decode failure\t file: ./PetImages/Cat/8415.jpg</pre>"
      ],
      "text/plain": [
       "Unexpected JPEG decode failure\t file: ./PetImages/Cat/8415.jpg"
      ]
     },
     "metadata": {},
     "output_type": "display_data"
    },
    {
     "data": {
      "text/html": [
       "<pre>Unexpected JPEG decode failure\t file: ./PetImages/Cat/8470.jpg</pre>"
      ],
      "text/plain": [
       "Unexpected JPEG decode failure\t file: ./PetImages/Cat/8470.jpg"
      ]
     },
     "metadata": {},
     "output_type": "display_data"
    },
    {
     "data": {
      "text/html": [
       "<pre>Unexpected JPEG decode failure\t file: ./PetImages/Cat/850.jpg</pre>"
      ],
      "text/plain": [
       "Unexpected JPEG decode failure\t file: ./PetImages/Cat/850.jpg"
      ]
     },
     "metadata": {},
     "output_type": "display_data"
    },
    {
     "data": {
      "text/html": [
       "<pre>Unexpected JPEG decode failure\t file: ./PetImages/Cat/8553.jpg</pre>"
      ],
      "text/plain": [
       "Unexpected JPEG decode failure\t file: ./PetImages/Cat/8553.jpg"
      ]
     },
     "metadata": {},
     "output_type": "display_data"
    },
    {
     "data": {
      "text/html": [
       "<pre>Unexpected JPEG decode failure\t file: ./PetImages/Cat/8832.jpg</pre>"
      ],
      "text/plain": [
       "Unexpected JPEG decode failure\t file: ./PetImages/Cat/8832.jpg"
      ]
     },
     "metadata": {},
     "output_type": "display_data"
    },
    {
     "data": {
      "text/html": [
       "<pre>Unexpected JPEG decode failure\t file: ./PetImages/Cat/8958.jpg</pre>"
      ],
      "text/plain": [
       "Unexpected JPEG decode failure\t file: ./PetImages/Cat/8958.jpg"
      ]
     },
     "metadata": {},
     "output_type": "display_data"
    },
    {
     "data": {
      "text/html": [
       "<pre>Unexpected JPEG decode failure\t file: ./PetImages/Cat/910.jpg</pre>"
      ],
      "text/plain": [
       "Unexpected JPEG decode failure\t file: ./PetImages/Cat/910.jpg"
      ]
     },
     "metadata": {},
     "output_type": "display_data"
    },
    {
     "data": {
      "text/html": [
       "<pre>Unexpected JPEG decode failure\t file: ./PetImages/Cat/9100.jpg</pre>"
      ],
      "text/plain": [
       "Unexpected JPEG decode failure\t file: ./PetImages/Cat/9100.jpg"
      ]
     },
     "metadata": {},
     "output_type": "display_data"
    },
    {
     "data": {
      "text/html": [
       "<pre>Unexpected JPEG decode failure\t file: ./PetImages/Cat/9171.jpg</pre>"
      ],
      "text/plain": [
       "Unexpected JPEG decode failure\t file: ./PetImages/Cat/9171.jpg"
      ]
     },
     "metadata": {},
     "output_type": "display_data"
    },
    {
     "data": {
      "text/html": [
       "<pre>Unexpected JPEG decode failure\t file: ./PetImages/Cat/9208.jpg</pre>"
      ],
      "text/plain": [
       "Unexpected JPEG decode failure\t file: ./PetImages/Cat/9208.jpg"
      ]
     },
     "metadata": {},
     "output_type": "display_data"
    },
    {
     "data": {
      "text/html": [
       "<pre>Unexpected JPEG decode failure\t file: ./PetImages/Cat/9328.jpg</pre>"
      ],
      "text/plain": [
       "Unexpected JPEG decode failure\t file: ./PetImages/Cat/9328.jpg"
      ]
     },
     "metadata": {},
     "output_type": "display_data"
    },
    {
     "data": {
      "text/html": [
       "<pre>Unexpected JPEG decode failure\t file: ./PetImages/Cat/936.jpg</pre>"
      ],
      "text/plain": [
       "Unexpected JPEG decode failure\t file: ./PetImages/Cat/936.jpg"
      ]
     },
     "metadata": {},
     "output_type": "display_data"
    },
    {
     "data": {
      "text/html": [
       "<pre>Unexpected JPEG decode failure\t file: ./PetImages/Cat/9361.jpg</pre>"
      ],
      "text/plain": [
       "Unexpected JPEG decode failure\t file: ./PetImages/Cat/9361.jpg"
      ]
     },
     "metadata": {},
     "output_type": "display_data"
    },
    {
     "data": {
      "text/html": [
       "<pre>Unexpected JPEG decode failure\t file: ./PetImages/Cat/9565.jpg</pre>"
      ],
      "text/plain": [
       "Unexpected JPEG decode failure\t file: ./PetImages/Cat/9565.jpg"
      ]
     },
     "metadata": {},
     "output_type": "display_data"
    },
    {
     "data": {
      "text/html": [
       "<pre>Unexpected JPEG decode failure\t file: ./PetImages/Cat/9619.jpg</pre>"
      ],
      "text/plain": [
       "Unexpected JPEG decode failure\t file: ./PetImages/Cat/9619.jpg"
      ]
     },
     "metadata": {},
     "output_type": "display_data"
    },
    {
     "data": {
      "text/html": [
       "<pre>Unexpected JPEG decode failure\t file: ./PetImages/Cat/9778.jpg</pre>"
      ],
      "text/plain": [
       "Unexpected JPEG decode failure\t file: ./PetImages/Cat/9778.jpg"
      ]
     },
     "metadata": {},
     "output_type": "display_data"
    },
    {
     "data": {
      "text/html": [
       "<pre>Unexpected JPEG decode failure\t file: ./PetImages/Dog/10158.jpg</pre>"
      ],
      "text/plain": [
       "Unexpected JPEG decode failure\t file: ./PetImages/Dog/10158.jpg"
      ]
     },
     "metadata": {},
     "output_type": "display_data"
    },
    {
     "data": {
      "text/html": [
       "<pre>Unexpected JPEG decode failure\t file: ./PetImages/Dog/1017.jpg</pre>"
      ],
      "text/plain": [
       "Unexpected JPEG decode failure\t file: ./PetImages/Dog/1017.jpg"
      ]
     },
     "metadata": {},
     "output_type": "display_data"
    },
    {
     "data": {
      "text/html": [
       "<pre>Unexpected JPEG decode failure\t file: ./PetImages/Dog/10173.jpg</pre>"
      ],
      "text/plain": [
       "Unexpected JPEG decode failure\t file: ./PetImages/Dog/10173.jpg"
      ]
     },
     "metadata": {},
     "output_type": "display_data"
    },
    {
     "data": {
      "text/html": [
       "<pre>Unexpected JPEG decode failure\t file: ./PetImages/Dog/10351.jpg</pre>"
      ],
      "text/plain": [
       "Unexpected JPEG decode failure\t file: ./PetImages/Dog/10351.jpg"
      ]
     },
     "metadata": {},
     "output_type": "display_data"
    },
    {
     "data": {
      "text/html": [
       "<pre>Unexpected JPEG decode failure\t file: ./PetImages/Dog/10353.jpg</pre>"
      ],
      "text/plain": [
       "Unexpected JPEG decode failure\t file: ./PetImages/Dog/10353.jpg"
      ]
     },
     "metadata": {},
     "output_type": "display_data"
    },
    {
     "data": {
      "text/html": [
       "<pre>Unexpected JPEG decode failure\t file: ./PetImages/Dog/10383.jpg</pre>"
      ],
      "text/plain": [
       "Unexpected JPEG decode failure\t file: ./PetImages/Dog/10383.jpg"
      ]
     },
     "metadata": {},
     "output_type": "display_data"
    },
    {
     "data": {
      "text/html": [
       "<pre>Unexpected JPEG decode failure\t file: ./PetImages/Dog/10401.jpg</pre>"
      ],
      "text/plain": [
       "Unexpected JPEG decode failure\t file: ./PetImages/Dog/10401.jpg"
      ]
     },
     "metadata": {},
     "output_type": "display_data"
    },
    {
     "data": {
      "text/html": [
       "<pre>Unexpected JPEG decode failure\t file: ./PetImages/Dog/10637.jpg</pre>"
      ],
      "text/plain": [
       "Unexpected JPEG decode failure\t file: ./PetImages/Dog/10637.jpg"
      ]
     },
     "metadata": {},
     "output_type": "display_data"
    },
    {
     "data": {
      "text/html": [
       "<pre>Unexpected JPEG decode failure\t file: ./PetImages/Dog/10678.jpg</pre>"
      ],
      "text/plain": [
       "Unexpected JPEG decode failure\t file: ./PetImages/Dog/10678.jpg"
      ]
     },
     "metadata": {},
     "output_type": "display_data"
    },
    {
     "data": {
      "text/html": [
       "<pre>Unexpected JPEG decode failure\t file: ./PetImages/Dog/10705.jpg</pre>"
      ],
      "text/plain": [
       "Unexpected JPEG decode failure\t file: ./PetImages/Dog/10705.jpg"
      ]
     },
     "metadata": {},
     "output_type": "display_data"
    },
    {
     "data": {
      "text/html": [
       "<pre>Unexpected JPEG decode failure\t file: ./PetImages/Dog/10726.jpg</pre>"
      ],
      "text/plain": [
       "Unexpected JPEG decode failure\t file: ./PetImages/Dog/10726.jpg"
      ]
     },
     "metadata": {},
     "output_type": "display_data"
    },
    {
     "data": {
      "text/html": [
       "<pre>Unexpected JPEG decode failure\t file: ./PetImages/Dog/10733.jpg</pre>"
      ],
      "text/plain": [
       "Unexpected JPEG decode failure\t file: ./PetImages/Dog/10733.jpg"
      ]
     },
     "metadata": {},
     "output_type": "display_data"
    },
    {
     "data": {
      "text/html": [
       "<pre>Unexpected JPEG decode failure\t file: ./PetImages/Dog/10747.jpg</pre>"
      ],
      "text/plain": [
       "Unexpected JPEG decode failure\t file: ./PetImages/Dog/10747.jpg"
      ]
     },
     "metadata": {},
     "output_type": "display_data"
    },
    {
     "data": {
      "text/html": [
       "<pre>Unexpected JPEG decode failure\t file: ./PetImages/Dog/10797.jpg</pre>"
      ],
      "text/plain": [
       "Unexpected JPEG decode failure\t file: ./PetImages/Dog/10797.jpg"
      ]
     },
     "metadata": {},
     "output_type": "display_data"
    },
    {
     "data": {
      "text/html": [
       "<pre>Unexpected JPEG decode failure\t file: ./PetImages/Dog/10863.jpg</pre>"
      ],
      "text/plain": [
       "Unexpected JPEG decode failure\t file: ./PetImages/Dog/10863.jpg"
      ]
     },
     "metadata": {},
     "output_type": "display_data"
    },
    {
     "data": {
      "text/html": [
       "<pre>Unexpected JPEG decode failure\t file: ./PetImages/Dog/10907.jpg</pre>"
      ],
      "text/plain": [
       "Unexpected JPEG decode failure\t file: ./PetImages/Dog/10907.jpg"
      ]
     },
     "metadata": {},
     "output_type": "display_data"
    },
    {
     "data": {
      "text/html": [
       "<pre>Unexpected JPEG decode failure\t file: ./PetImages/Dog/10969.jpg</pre>"
      ],
      "text/plain": [
       "Unexpected JPEG decode failure\t file: ./PetImages/Dog/10969.jpg"
      ]
     },
     "metadata": {},
     "output_type": "display_data"
    },
    {
     "data": {
      "text/html": [
       "<pre>Unexpected JPEG decode failure\t file: ./PetImages/Dog/10972.jpg</pre>"
      ],
      "text/plain": [
       "Unexpected JPEG decode failure\t file: ./PetImages/Dog/10972.jpg"
      ]
     },
     "metadata": {},
     "output_type": "display_data"
    },
    {
     "data": {
      "text/html": [
       "<pre>Unexpected JPEG decode failure\t file: ./PetImages/Dog/11166.jpg</pre>"
      ],
      "text/plain": [
       "Unexpected JPEG decode failure\t file: ./PetImages/Dog/11166.jpg"
      ]
     },
     "metadata": {},
     "output_type": "display_data"
    },
    {
     "data": {
      "text/html": [
       "<pre>Unexpected JPEG decode failure\t file: ./PetImages/Dog/11233.jpg</pre>"
      ],
      "text/plain": [
       "Unexpected JPEG decode failure\t file: ./PetImages/Dog/11233.jpg"
      ]
     },
     "metadata": {},
     "output_type": "display_data"
    },
    {
     "data": {
      "text/html": [
       "<pre>Unexpected JPEG decode failure\t file: ./PetImages/Dog/11253.jpg</pre>"
      ],
      "text/plain": [
       "Unexpected JPEG decode failure\t file: ./PetImages/Dog/11253.jpg"
      ]
     },
     "metadata": {},
     "output_type": "display_data"
    },
    {
     "data": {
      "text/html": [
       "<pre>Unexpected JPEG decode failure\t file: ./PetImages/Dog/11285.jpg</pre>"
      ],
      "text/plain": [
       "Unexpected JPEG decode failure\t file: ./PetImages/Dog/11285.jpg"
      ]
     },
     "metadata": {},
     "output_type": "display_data"
    },
    {
     "data": {
      "text/html": [
       "<pre>Read 13953 images in 15.0011 secs\tspeed: 865.066 file/sec</pre>"
      ],
      "text/plain": [
       "Read 13953 images in 15.0011 secs\tspeed: 865.066 file/sec"
      ]
     },
     "metadata": {},
     "output_type": "display_data"
    },
    {
     "data": {
      "text/html": [
       "<pre>Unexpected JPEG decode failure\t file: ./PetImages/Dog/11410.jpg</pre>"
      ],
      "text/plain": [
       "Unexpected JPEG decode failure\t file: ./PetImages/Dog/11410.jpg"
      ]
     },
     "metadata": {},
     "output_type": "display_data"
    },
    {
     "data": {
      "text/html": [
       "<pre>Unexpected JPEG decode failure\t file: ./PetImages/Dog/11560.jpg</pre>"
      ],
      "text/plain": [
       "Unexpected JPEG decode failure\t file: ./PetImages/Dog/11560.jpg"
      ]
     },
     "metadata": {},
     "output_type": "display_data"
    },
    {
     "data": {
      "text/html": [
       "<pre>Unexpected JPEG decode failure\t file: ./PetImages/Dog/11590.jpg</pre>"
      ],
      "text/plain": [
       "Unexpected JPEG decode failure\t file: ./PetImages/Dog/11590.jpg"
      ]
     },
     "metadata": {},
     "output_type": "display_data"
    },
    {
     "data": {
      "text/html": [
       "<pre>Unexpected JPEG decode failure\t file: ./PetImages/Dog/11675.jpg</pre>"
      ],
      "text/plain": [
       "Unexpected JPEG decode failure\t file: ./PetImages/Dog/11675.jpg"
      ]
     },
     "metadata": {},
     "output_type": "display_data"
    },
    {
     "data": {
      "text/html": [
       "<pre>Unexpected JPEG decode failure\t file: ./PetImages/Dog/1168.jpg</pre>"
      ],
      "text/plain": [
       "Unexpected JPEG decode failure\t file: ./PetImages/Dog/1168.jpg"
      ]
     },
     "metadata": {},
     "output_type": "display_data"
    },
    {
     "data": {
      "text/html": [
       "<pre>Unexpected JPEG decode failure\t file: ./PetImages/Dog/11692.jpg</pre>"
      ],
      "text/plain": [
       "Unexpected JPEG decode failure\t file: ./PetImages/Dog/11692.jpg"
      ]
     },
     "metadata": {},
     "output_type": "display_data"
    },
    {
     "data": {
      "text/html": [
       "<pre>Unexpected JPEG decode failure\t file: ./PetImages/Dog/11702.jpg</pre>"
      ],
      "text/plain": [
       "Unexpected JPEG decode failure\t file: ./PetImages/Dog/11702.jpg"
      ]
     },
     "metadata": {},
     "output_type": "display_data"
    },
    {
     "data": {
      "text/html": [
       "<pre>Unexpected JPEG decode failure\t file: ./PetImages/Dog/11849.jpg</pre>"
      ],
      "text/plain": [
       "Unexpected JPEG decode failure\t file: ./PetImages/Dog/11849.jpg"
      ]
     },
     "metadata": {},
     "output_type": "display_data"
    },
    {
     "data": {
      "text/html": [
       "<pre>Unexpected JPEG decode failure\t file: ./PetImages/Dog/11853.jpg</pre>"
      ],
      "text/plain": [
       "Unexpected JPEG decode failure\t file: ./PetImages/Dog/11853.jpg"
      ]
     },
     "metadata": {},
     "output_type": "display_data"
    },
    {
     "data": {
      "text/html": [
       "<pre>Unexpected JPEG decode failure\t file: ./PetImages/Dog/11912.jpg</pre>"
      ],
      "text/plain": [
       "Unexpected JPEG decode failure\t file: ./PetImages/Dog/11912.jpg"
      ]
     },
     "metadata": {},
     "output_type": "display_data"
    },
    {
     "data": {
      "text/html": [
       "<pre>Unexpected JPEG decode failure\t file: ./PetImages/Dog/12102.jpg</pre>"
      ],
      "text/plain": [
       "Unexpected JPEG decode failure\t file: ./PetImages/Dog/12102.jpg"
      ]
     },
     "metadata": {},
     "output_type": "display_data"
    },
    {
     "data": {
      "text/html": [
       "<pre>Unexpected JPEG decode failure\t file: ./PetImages/Dog/12114.jpg</pre>"
      ],
      "text/plain": [
       "Unexpected JPEG decode failure\t file: ./PetImages/Dog/12114.jpg"
      ]
     },
     "metadata": {},
     "output_type": "display_data"
    },
    {
     "data": {
      "text/html": [
       "<pre>Unexpected JPEG decode failure\t file: ./PetImages/Dog/12289.jpg</pre>"
      ],
      "text/plain": [
       "Unexpected JPEG decode failure\t file: ./PetImages/Dog/12289.jpg"
      ]
     },
     "metadata": {},
     "output_type": "display_data"
    },
    {
     "data": {
      "text/html": [
       "<pre>Unexpected JPEG decode failure\t file: ./PetImages/Dog/1259.jpg</pre>"
      ],
      "text/plain": [
       "Unexpected JPEG decode failure\t file: ./PetImages/Dog/1259.jpg"
      ]
     },
     "metadata": {},
     "output_type": "display_data"
    },
    {
     "data": {
      "text/html": [
       "<pre>Unexpected JPEG decode failure\t file: ./PetImages/Dog/1308.jpg</pre>"
      ],
      "text/plain": [
       "Unexpected JPEG decode failure\t file: ./PetImages/Dog/1308.jpg"
      ]
     },
     "metadata": {},
     "output_type": "display_data"
    },
    {
     "data": {
      "text/html": [
       "<pre>Unexpected JPEG decode failure\t file: ./PetImages/Dog/1356.jpg</pre>"
      ],
      "text/plain": [
       "Unexpected JPEG decode failure\t file: ./PetImages/Dog/1356.jpg"
      ]
     },
     "metadata": {},
     "output_type": "display_data"
    },
    {
     "data": {
      "text/html": [
       "<pre>Unexpected JPEG decode failure\t file: ./PetImages/Dog/1866.jpg</pre>"
      ],
      "text/plain": [
       "Unexpected JPEG decode failure\t file: ./PetImages/Dog/1866.jpg"
      ]
     },
     "metadata": {},
     "output_type": "display_data"
    },
    {
     "data": {
      "text/html": [
       "<pre>Unexpected JPEG decode failure\t file: ./PetImages/Dog/1884.jpg</pre>"
      ],
      "text/plain": [
       "Unexpected JPEG decode failure\t file: ./PetImages/Dog/1884.jpg"
      ]
     },
     "metadata": {},
     "output_type": "display_data"
    },
    {
     "data": {
      "text/html": [
       "<pre>Unexpected JPEG decode failure\t file: ./PetImages/Dog/1900.jpg</pre>"
      ],
      "text/plain": [
       "Unexpected JPEG decode failure\t file: ./PetImages/Dog/1900.jpg"
      ]
     },
     "metadata": {},
     "output_type": "display_data"
    },
    {
     "data": {
      "text/html": [
       "<pre>Unexpected JPEG decode failure\t file: ./PetImages/Dog/2317.jpg</pre>"
      ],
      "text/plain": [
       "Unexpected JPEG decode failure\t file: ./PetImages/Dog/2317.jpg"
      ]
     },
     "metadata": {},
     "output_type": "display_data"
    },
    {
     "data": {
      "text/html": [
       "<pre>Unexpected JPEG decode failure\t file: ./PetImages/Dog/2353.jpg</pre>"
      ],
      "text/plain": [
       "Unexpected JPEG decode failure\t file: ./PetImages/Dog/2353.jpg"
      ]
     },
     "metadata": {},
     "output_type": "display_data"
    },
    {
     "data": {
      "text/html": [
       "<pre>Unexpected JPEG decode failure\t file: ./PetImages/Dog/2384.jpg</pre>"
      ],
      "text/plain": [
       "Unexpected JPEG decode failure\t file: ./PetImages/Dog/2384.jpg"
      ]
     },
     "metadata": {},
     "output_type": "display_data"
    },
    {
     "data": {
      "text/html": [
       "<pre>Unexpected JPEG decode failure\t file: ./PetImages/Dog/2479.jpg</pre>"
      ],
      "text/plain": [
       "Unexpected JPEG decode failure\t file: ./PetImages/Dog/2479.jpg"
      ]
     },
     "metadata": {},
     "output_type": "display_data"
    },
    {
     "data": {
      "text/html": [
       "<pre>Unexpected JPEG decode failure\t file: ./PetImages/Dog/2494.jpg</pre>"
      ],
      "text/plain": [
       "Unexpected JPEG decode failure\t file: ./PetImages/Dog/2494.jpg"
      ]
     },
     "metadata": {},
     "output_type": "display_data"
    },
    {
     "data": {
      "text/html": [
       "<pre>Unexpected JPEG decode failure\t file: ./PetImages/Dog/2688.jpg</pre>"
      ],
      "text/plain": [
       "Unexpected JPEG decode failure\t file: ./PetImages/Dog/2688.jpg"
      ]
     },
     "metadata": {},
     "output_type": "display_data"
    },
    {
     "data": {
      "text/html": [
       "<pre>Unexpected JPEG decode failure\t file: ./PetImages/Dog/2877.jpg</pre>"
      ],
      "text/plain": [
       "Unexpected JPEG decode failure\t file: ./PetImages/Dog/2877.jpg"
      ]
     },
     "metadata": {},
     "output_type": "display_data"
    },
    {
     "data": {
      "text/html": [
       "<pre>Unexpected JPEG decode failure\t file: ./PetImages/Dog/2905.jpg</pre>"
      ],
      "text/plain": [
       "Unexpected JPEG decode failure\t file: ./PetImages/Dog/2905.jpg"
      ]
     },
     "metadata": {},
     "output_type": "display_data"
    },
    {
     "data": {
      "text/html": [
       "<pre>Unexpected JPEG decode failure\t file: ./PetImages/Dog/2915.jpg</pre>"
      ],
      "text/plain": [
       "Unexpected JPEG decode failure\t file: ./PetImages/Dog/2915.jpg"
      ]
     },
     "metadata": {},
     "output_type": "display_data"
    },
    {
     "data": {
      "text/html": [
       "<pre>Unexpected JPEG decode failure\t file: ./PetImages/Dog/296.jpg</pre>"
      ],
      "text/plain": [
       "Unexpected JPEG decode failure\t file: ./PetImages/Dog/296.jpg"
      ]
     },
     "metadata": {},
     "output_type": "display_data"
    },
    {
     "data": {
      "text/html": [
       "<pre>Unexpected JPEG decode failure\t file: ./PetImages/Dog/3038.jpg</pre>"
      ],
      "text/plain": [
       "Unexpected JPEG decode failure\t file: ./PetImages/Dog/3038.jpg"
      ]
     },
     "metadata": {},
     "output_type": "display_data"
    },
    {
     "data": {
      "text/html": [
       "<pre>Unexpected JPEG decode failure\t file: ./PetImages/Dog/3136.jpg</pre>"
      ],
      "text/plain": [
       "Unexpected JPEG decode failure\t file: ./PetImages/Dog/3136.jpg"
      ]
     },
     "metadata": {},
     "output_type": "display_data"
    },
    {
     "data": {
      "text/html": [
       "<pre>Unexpected JPEG decode failure\t file: ./PetImages/Dog/3155.jpg</pre>"
      ],
      "text/plain": [
       "Unexpected JPEG decode failure\t file: ./PetImages/Dog/3155.jpg"
      ]
     },
     "metadata": {},
     "output_type": "display_data"
    },
    {
     "data": {
      "text/html": [
       "<pre>Unexpected JPEG decode failure\t file: ./PetImages/Dog/3288.jpg</pre>"
      ],
      "text/plain": [
       "Unexpected JPEG decode failure\t file: ./PetImages/Dog/3288.jpg"
      ]
     },
     "metadata": {},
     "output_type": "display_data"
    },
    {
     "data": {
      "text/html": [
       "<pre>Unexpected JPEG decode failure\t file: ./PetImages/Dog/3320.jpg</pre>"
      ],
      "text/plain": [
       "Unexpected JPEG decode failure\t file: ./PetImages/Dog/3320.jpg"
      ]
     },
     "metadata": {},
     "output_type": "display_data"
    },
    {
     "data": {
      "text/html": [
       "<pre>Read 17606 images in 20.0012 secs\tspeed: 730.595 file/sec</pre>"
      ],
      "text/plain": [
       "Read 17606 images in 20.0012 secs\tspeed: 730.595 file/sec"
      ]
     },
     "metadata": {},
     "output_type": "display_data"
    },
    {
     "data": {
      "text/html": [
       "<pre>Unexpected JPEG decode failure\t file: ./PetImages/Dog/3546.jpg</pre>"
      ],
      "text/plain": [
       "Unexpected JPEG decode failure\t file: ./PetImages/Dog/3546.jpg"
      ]
     },
     "metadata": {},
     "output_type": "display_data"
    },
    {
     "data": {
      "text/html": [
       "<pre>Unexpected JPEG decode failure\t file: ./PetImages/Dog/3588.jpg</pre>"
      ],
      "text/plain": [
       "Unexpected JPEG decode failure\t file: ./PetImages/Dog/3588.jpg"
      ]
     },
     "metadata": {},
     "output_type": "display_data"
    },
    {
     "data": {
      "text/html": [
       "<pre>Unexpected JPEG decode failure\t file: ./PetImages/Dog/3885.jpg</pre>"
      ],
      "text/plain": [
       "Unexpected JPEG decode failure\t file: ./PetImages/Dog/3885.jpg"
      ]
     },
     "metadata": {},
     "output_type": "display_data"
    },
    {
     "data": {
      "text/html": [
       "<pre>Unexpected JPEG decode failure\t file: ./PetImages/Dog/3927.jpg</pre>"
      ],
      "text/plain": [
       "Unexpected JPEG decode failure\t file: ./PetImages/Dog/3927.jpg"
      ]
     },
     "metadata": {},
     "output_type": "display_data"
    },
    {
     "data": {
      "text/html": [
       "<pre>Unexpected JPEG decode failure\t file: ./PetImages/Dog/4086.jpg</pre>"
      ],
      "text/plain": [
       "Unexpected JPEG decode failure\t file: ./PetImages/Dog/4086.jpg"
      ]
     },
     "metadata": {},
     "output_type": "display_data"
    },
    {
     "data": {
      "text/html": [
       "<pre>Unexpected JPEG decode failure\t file: ./PetImages/Dog/4134.jpg</pre>"
      ],
      "text/plain": [
       "Unexpected JPEG decode failure\t file: ./PetImages/Dog/4134.jpg"
      ]
     },
     "metadata": {},
     "output_type": "display_data"
    },
    {
     "data": {
      "text/html": [
       "<pre>Unexpected JPEG decode failure\t file: ./PetImages/Dog/414.jpg</pre>"
      ],
      "text/plain": [
       "Unexpected JPEG decode failure\t file: ./PetImages/Dog/414.jpg"
      ]
     },
     "metadata": {},
     "output_type": "display_data"
    },
    {
     "data": {
      "text/html": [
       "<pre>Unexpected JPEG decode failure\t file: ./PetImages/Dog/4203.jpg</pre>"
      ],
      "text/plain": [
       "Unexpected JPEG decode failure\t file: ./PetImages/Dog/4203.jpg"
      ]
     },
     "metadata": {},
     "output_type": "display_data"
    },
    {
     "data": {
      "text/html": [
       "<pre>Unexpected JPEG decode failure\t file: ./PetImages/Dog/4257.jpg</pre>"
      ],
      "text/plain": [
       "Unexpected JPEG decode failure\t file: ./PetImages/Dog/4257.jpg"
      ]
     },
     "metadata": {},
     "output_type": "display_data"
    },
    {
     "data": {
      "text/html": [
       "<pre>Unexpected JPEG decode failure\t file: ./PetImages/Dog/4301.jpg</pre>"
      ],
      "text/plain": [
       "Unexpected JPEG decode failure\t file: ./PetImages/Dog/4301.jpg"
      ]
     },
     "metadata": {},
     "output_type": "display_data"
    },
    {
     "data": {
      "text/html": [
       "<pre>Unexpected JPEG decode failure\t file: ./PetImages/Dog/4367.jpg</pre>"
      ],
      "text/plain": [
       "Unexpected JPEG decode failure\t file: ./PetImages/Dog/4367.jpg"
      ]
     },
     "metadata": {},
     "output_type": "display_data"
    },
    {
     "data": {
      "text/html": [
       "<pre>Unexpected JPEG decode failure\t file: ./PetImages/Dog/4640.jpg</pre>"
      ],
      "text/plain": [
       "Unexpected JPEG decode failure\t file: ./PetImages/Dog/4640.jpg"
      ]
     },
     "metadata": {},
     "output_type": "display_data"
    },
    {
     "data": {
      "text/html": [
       "<pre>Unexpected JPEG decode failure\t file: ./PetImages/Dog/4654.jpg</pre>"
      ],
      "text/plain": [
       "Unexpected JPEG decode failure\t file: ./PetImages/Dog/4654.jpg"
      ]
     },
     "metadata": {},
     "output_type": "display_data"
    },
    {
     "data": {
      "text/html": [
       "<pre>Unexpected JPEG decode failure\t file: ./PetImages/Dog/4924.jpg</pre>"
      ],
      "text/plain": [
       "Unexpected JPEG decode failure\t file: ./PetImages/Dog/4924.jpg"
      ]
     },
     "metadata": {},
     "output_type": "display_data"
    },
    {
     "data": {
      "text/html": [
       "<pre>Unexpected JPEG decode failure\t file: ./PetImages/Dog/50.jpg</pre>"
      ],
      "text/plain": [
       "Unexpected JPEG decode failure\t file: ./PetImages/Dog/50.jpg"
      ]
     },
     "metadata": {},
     "output_type": "display_data"
    },
    {
     "data": {
      "text/html": [
       "<pre>Unexpected JPEG decode failure\t file: ./PetImages/Dog/5104.jpg</pre>"
      ],
      "text/plain": [
       "Unexpected JPEG decode failure\t file: ./PetImages/Dog/5104.jpg"
      ]
     },
     "metadata": {},
     "output_type": "display_data"
    },
    {
     "data": {
      "text/html": [
       "<pre>Unexpected JPEG decode failure\t file: ./PetImages/Dog/522.jpg</pre>"
      ],
      "text/plain": [
       "Unexpected JPEG decode failure\t file: ./PetImages/Dog/522.jpg"
      ]
     },
     "metadata": {},
     "output_type": "display_data"
    },
    {
     "data": {
      "text/html": [
       "<pre>Unexpected JPEG decode failure\t file: ./PetImages/Dog/5243.jpg</pre>"
      ],
      "text/plain": [
       "Unexpected JPEG decode failure\t file: ./PetImages/Dog/5243.jpg"
      ]
     },
     "metadata": {},
     "output_type": "display_data"
    },
    {
     "data": {
      "text/html": [
       "<pre>Unexpected JPEG decode failure\t file: ./PetImages/Dog/5263.jpg</pre>"
      ],
      "text/plain": [
       "Unexpected JPEG decode failure\t file: ./PetImages/Dog/5263.jpg"
      ]
     },
     "metadata": {},
     "output_type": "display_data"
    },
    {
     "data": {
      "text/html": [
       "<pre>Unexpected JPEG decode failure\t file: ./PetImages/Dog/543.jpg</pre>"
      ],
      "text/plain": [
       "Unexpected JPEG decode failure\t file: ./PetImages/Dog/543.jpg"
      ]
     },
     "metadata": {},
     "output_type": "display_data"
    },
    {
     "data": {
      "text/html": [
       "<pre>Unexpected JPEG decode failure\t file: ./PetImages/Dog/5547.jpg</pre>"
      ],
      "text/plain": [
       "Unexpected JPEG decode failure\t file: ./PetImages/Dog/5547.jpg"
      ]
     },
     "metadata": {},
     "output_type": "display_data"
    },
    {
     "data": {
      "text/html": [
       "<pre>Unexpected JPEG decode failure\t file: ./PetImages/Dog/5604.jpg</pre>"
      ],
      "text/plain": [
       "Unexpected JPEG decode failure\t file: ./PetImages/Dog/5604.jpg"
      ]
     },
     "metadata": {},
     "output_type": "display_data"
    },
    {
     "data": {
      "text/html": [
       "<pre>Unexpected JPEG decode failure\t file: ./PetImages/Dog/561.jpg</pre>"
      ],
      "text/plain": [
       "Unexpected JPEG decode failure\t file: ./PetImages/Dog/561.jpg"
      ]
     },
     "metadata": {},
     "output_type": "display_data"
    },
    {
     "data": {
      "text/html": [
       "<pre>Unexpected JPEG decode failure\t file: ./PetImages/Dog/5618.jpg</pre>"
      ],
      "text/plain": [
       "Unexpected JPEG decode failure\t file: ./PetImages/Dog/5618.jpg"
      ]
     },
     "metadata": {},
     "output_type": "display_data"
    },
    {
     "data": {
      "text/html": [
       "<pre>Unexpected JPEG decode failure\t file: ./PetImages/Dog/565.jpg</pre>"
      ],
      "text/plain": [
       "Unexpected JPEG decode failure\t file: ./PetImages/Dog/565.jpg"
      ]
     },
     "metadata": {},
     "output_type": "display_data"
    },
    {
     "data": {
      "text/html": [
       "<pre>Unexpected JPEG decode failure\t file: ./PetImages/Dog/573.jpg</pre>"
      ],
      "text/plain": [
       "Unexpected JPEG decode failure\t file: ./PetImages/Dog/573.jpg"
      ]
     },
     "metadata": {},
     "output_type": "display_data"
    },
    {
     "data": {
      "text/html": [
       "<pre>Unexpected JPEG decode failure\t file: ./PetImages/Dog/5730.jpg</pre>"
      ],
      "text/plain": [
       "Unexpected JPEG decode failure\t file: ./PetImages/Dog/5730.jpg"
      ]
     },
     "metadata": {},
     "output_type": "display_data"
    },
    {
     "data": {
      "text/html": [
       "<pre>Unexpected JPEG decode failure\t file: ./PetImages/Dog/5736.jpg</pre>"
      ],
      "text/plain": [
       "Unexpected JPEG decode failure\t file: ./PetImages/Dog/5736.jpg"
      ]
     },
     "metadata": {},
     "output_type": "display_data"
    },
    {
     "data": {
      "text/html": [
       "<pre>Unexpected JPEG decode failure\t file: ./PetImages/Dog/5790.jpg</pre>"
      ],
      "text/plain": [
       "Unexpected JPEG decode failure\t file: ./PetImages/Dog/5790.jpg"
      ]
     },
     "metadata": {},
     "output_type": "display_data"
    },
    {
     "data": {
      "text/html": [
       "<pre>Unexpected JPEG decode failure\t file: ./PetImages/Dog/5955.jpg</pre>"
      ],
      "text/plain": [
       "Unexpected JPEG decode failure\t file: ./PetImages/Dog/5955.jpg"
      ]
     },
     "metadata": {},
     "output_type": "display_data"
    },
    {
     "data": {
      "text/html": [
       "<pre>Unexpected JPEG decode failure\t file: ./PetImages/Dog/6032.jpg</pre>"
      ],
      "text/plain": [
       "Unexpected JPEG decode failure\t file: ./PetImages/Dog/6032.jpg"
      ]
     },
     "metadata": {},
     "output_type": "display_data"
    },
    {
     "data": {
      "text/html": [
       "<pre>Unexpected JPEG decode failure\t file: ./PetImages/Dog/6059.jpg</pre>"
      ],
      "text/plain": [
       "Unexpected JPEG decode failure\t file: ./PetImages/Dog/6059.jpg"
      ]
     },
     "metadata": {},
     "output_type": "display_data"
    },
    {
     "data": {
      "text/html": [
       "<pre>Unexpected JPEG decode failure\t file: ./PetImages/Dog/6213.jpg</pre>"
      ],
      "text/plain": [
       "Unexpected JPEG decode failure\t file: ./PetImages/Dog/6213.jpg"
      ]
     },
     "metadata": {},
     "output_type": "display_data"
    },
    {
     "data": {
      "text/html": [
       "<pre>Unexpected JPEG decode failure\t file: ./PetImages/Dog/6238.jpg</pre>"
      ],
      "text/plain": [
       "Unexpected JPEG decode failure\t file: ./PetImages/Dog/6238.jpg"
      ]
     },
     "metadata": {},
     "output_type": "display_data"
    },
    {
     "data": {
      "text/html": [
       "<pre>Unexpected JPEG decode failure\t file: ./PetImages/Dog/6305.jpg</pre>"
      ],
      "text/plain": [
       "Unexpected JPEG decode failure\t file: ./PetImages/Dog/6305.jpg"
      ]
     },
     "metadata": {},
     "output_type": "display_data"
    },
    {
     "data": {
      "text/html": [
       "<pre>Unexpected JPEG decode failure\t file: ./PetImages/Dog/6318.jpg</pre>"
      ],
      "text/plain": [
       "Unexpected JPEG decode failure\t file: ./PetImages/Dog/6318.jpg"
      ]
     },
     "metadata": {},
     "output_type": "display_data"
    },
    {
     "data": {
      "text/html": [
       "<pre>Unexpected JPEG decode failure\t file: ./PetImages/Dog/6430.jpg</pre>"
      ],
      "text/plain": [
       "Unexpected JPEG decode failure\t file: ./PetImages/Dog/6430.jpg"
      ]
     },
     "metadata": {},
     "output_type": "display_data"
    },
    {
     "data": {
      "text/html": [
       "<pre>Unexpected JPEG decode failure\t file: ./PetImages/Dog/6500.jpg</pre>"
      ],
      "text/plain": [
       "Unexpected JPEG decode failure\t file: ./PetImages/Dog/6500.jpg"
      ]
     },
     "metadata": {},
     "output_type": "display_data"
    },
    {
     "data": {
      "text/html": [
       "<pre>Unexpected JPEG decode failure\t file: ./PetImages/Dog/6503.jpg</pre>"
      ],
      "text/plain": [
       "Unexpected JPEG decode failure\t file: ./PetImages/Dog/6503.jpg"
      ]
     },
     "metadata": {},
     "output_type": "display_data"
    },
    {
     "data": {
      "text/html": [
       "<pre>Unexpected JPEG decode failure\t file: ./PetImages/Dog/6555.jpg</pre>"
      ],
      "text/plain": [
       "Unexpected JPEG decode failure\t file: ./PetImages/Dog/6555.jpg"
      ]
     },
     "metadata": {},
     "output_type": "display_data"
    },
    {
     "data": {
      "text/html": [
       "<pre>Unexpected JPEG decode failure\t file: ./PetImages/Dog/663.jpg</pre>"
      ],
      "text/plain": [
       "Unexpected JPEG decode failure\t file: ./PetImages/Dog/663.jpg"
      ]
     },
     "metadata": {},
     "output_type": "display_data"
    },
    {
     "data": {
      "text/html": [
       "<pre>Unexpected JPEG decode failure\t file: ./PetImages/Dog/6718.jpg</pre>"
      ],
      "text/plain": [
       "Unexpected JPEG decode failure\t file: ./PetImages/Dog/6718.jpg"
      ]
     },
     "metadata": {},
     "output_type": "display_data"
    },
    {
     "data": {
      "text/html": [
       "<pre>Unexpected JPEG decode failure\t file: ./PetImages/Dog/6855.jpg</pre>"
      ],
      "text/plain": [
       "Unexpected JPEG decode failure\t file: ./PetImages/Dog/6855.jpg"
      ]
     },
     "metadata": {},
     "output_type": "display_data"
    },
    {
     "data": {
      "text/html": [
       "<pre>Read 21376 images in 25.0019 secs\tspeed: 753.887 file/sec</pre>"
      ],
      "text/plain": [
       "Read 21376 images in 25.0019 secs\tspeed: 753.887 file/sec"
      ]
     },
     "metadata": {},
     "output_type": "display_data"
    },
    {
     "data": {
      "text/html": [
       "<pre>Unexpected JPEG decode failure\t file: ./PetImages/Dog/7112.jpg</pre>"
      ],
      "text/plain": [
       "Unexpected JPEG decode failure\t file: ./PetImages/Dog/7112.jpg"
      ]
     },
     "metadata": {},
     "output_type": "display_data"
    },
    {
     "data": {
      "text/html": [
       "<pre>Unexpected JPEG decode failure\t file: ./PetImages/Dog/7128.jpg</pre>"
      ],
      "text/plain": [
       "Unexpected JPEG decode failure\t file: ./PetImages/Dog/7128.jpg"
      ]
     },
     "metadata": {},
     "output_type": "display_data"
    },
    {
     "data": {
      "text/html": [
       "<pre>Unexpected JPEG decode failure\t file: ./PetImages/Dog/7133.jpg</pre>"
      ],
      "text/plain": [
       "Unexpected JPEG decode failure\t file: ./PetImages/Dog/7133.jpg"
      ]
     },
     "metadata": {},
     "output_type": "display_data"
    },
    {
     "data": {
      "text/html": [
       "<pre>Unexpected JPEG decode failure\t file: ./PetImages/Dog/719.jpg</pre>"
      ],
      "text/plain": [
       "Unexpected JPEG decode failure\t file: ./PetImages/Dog/719.jpg"
      ]
     },
     "metadata": {},
     "output_type": "display_data"
    },
    {
     "data": {
      "text/html": [
       "<pre>Unexpected JPEG decode failure\t file: ./PetImages/Dog/7311.jpg</pre>"
      ],
      "text/plain": [
       "Unexpected JPEG decode failure\t file: ./PetImages/Dog/7311.jpg"
      ]
     },
     "metadata": {},
     "output_type": "display_data"
    },
    {
     "data": {
      "text/html": [
       "<pre>Unexpected JPEG decode failure\t file: ./PetImages/Dog/7369.jpg</pre>"
      ],
      "text/plain": [
       "Unexpected JPEG decode failure\t file: ./PetImages/Dog/7369.jpg"
      ]
     },
     "metadata": {},
     "output_type": "display_data"
    },
    {
     "data": {
      "text/html": [
       "<pre>Unexpected JPEG decode failure\t file: ./PetImages/Dog/7459.jpg</pre>"
      ],
      "text/plain": [
       "Unexpected JPEG decode failure\t file: ./PetImages/Dog/7459.jpg"
      ]
     },
     "metadata": {},
     "output_type": "display_data"
    },
    {
     "data": {
      "text/html": [
       "<pre>Unexpected JPEG decode failure\t file: ./PetImages/Dog/7514.jpg</pre>"
      ],
      "text/plain": [
       "Unexpected JPEG decode failure\t file: ./PetImages/Dog/7514.jpg"
      ]
     },
     "metadata": {},
     "output_type": "display_data"
    },
    {
     "data": {
      "text/html": [
       "<pre>Unexpected JPEG decode failure\t file: ./PetImages/Dog/7652.jpg</pre>"
      ],
      "text/plain": [
       "Unexpected JPEG decode failure\t file: ./PetImages/Dog/7652.jpg"
      ]
     },
     "metadata": {},
     "output_type": "display_data"
    },
    {
     "data": {
      "text/html": [
       "<pre>Unexpected JPEG decode failure\t file: ./PetImages/Dog/7718.jpg</pre>"
      ],
      "text/plain": [
       "Unexpected JPEG decode failure\t file: ./PetImages/Dog/7718.jpg"
      ]
     },
     "metadata": {},
     "output_type": "display_data"
    },
    {
     "data": {
      "text/html": [
       "<pre>Unexpected JPEG decode failure\t file: ./PetImages/Dog/7739.jpg</pre>"
      ],
      "text/plain": [
       "Unexpected JPEG decode failure\t file: ./PetImages/Dog/7739.jpg"
      ]
     },
     "metadata": {},
     "output_type": "display_data"
    },
    {
     "data": {
      "text/html": [
       "<pre>Unexpected JPEG decode failure\t file: ./PetImages/Dog/7743.jpg</pre>"
      ],
      "text/plain": [
       "Unexpected JPEG decode failure\t file: ./PetImages/Dog/7743.jpg"
      ]
     },
     "metadata": {},
     "output_type": "display_data"
    },
    {
     "data": {
      "text/html": [
       "<pre>Unexpected JPEG decode failure\t file: ./PetImages/Dog/7969.jpg</pre>"
      ],
      "text/plain": [
       "Unexpected JPEG decode failure\t file: ./PetImages/Dog/7969.jpg"
      ]
     },
     "metadata": {},
     "output_type": "display_data"
    },
    {
     "data": {
      "text/html": [
       "<pre>Unexpected JPEG decode failure\t file: ./PetImages/Dog/8126.jpg</pre>"
      ],
      "text/plain": [
       "Unexpected JPEG decode failure\t file: ./PetImages/Dog/8126.jpg"
      ]
     },
     "metadata": {},
     "output_type": "display_data"
    },
    {
     "data": {
      "text/html": [
       "<pre>Unexpected JPEG decode failure\t file: ./PetImages/Dog/8194.jpg</pre>"
      ],
      "text/plain": [
       "Unexpected JPEG decode failure\t file: ./PetImages/Dog/8194.jpg"
      ]
     },
     "metadata": {},
     "output_type": "display_data"
    },
    {
     "data": {
      "text/html": [
       "<pre>Unexpected JPEG decode failure\t file: ./PetImages/Dog/8364.jpg</pre>"
      ],
      "text/plain": [
       "Unexpected JPEG decode failure\t file: ./PetImages/Dog/8364.jpg"
      ]
     },
     "metadata": {},
     "output_type": "display_data"
    },
    {
     "data": {
      "text/html": [
       "<pre>Unexpected JPEG decode failure\t file: ./PetImages/Dog/8521.jpg</pre>"
      ],
      "text/plain": [
       "Unexpected JPEG decode failure\t file: ./PetImages/Dog/8521.jpg"
      ]
     },
     "metadata": {},
     "output_type": "display_data"
    },
    {
     "data": {
      "text/html": [
       "<pre>Unexpected JPEG decode failure\t file: ./PetImages/Dog/8557.jpg</pre>"
      ],
      "text/plain": [
       "Unexpected JPEG decode failure\t file: ./PetImages/Dog/8557.jpg"
      ]
     },
     "metadata": {},
     "output_type": "display_data"
    },
    {
     "data": {
      "text/html": [
       "<pre>Unexpected JPEG decode failure\t file: ./PetImages/Dog/8563.jpg</pre>"
      ],
      "text/plain": [
       "Unexpected JPEG decode failure\t file: ./PetImages/Dog/8563.jpg"
      ]
     },
     "metadata": {},
     "output_type": "display_data"
    },
    {
     "data": {
      "text/html": [
       "<pre>Unexpected JPEG decode failure\t file: ./PetImages/Dog/8641.jpg</pre>"
      ],
      "text/plain": [
       "Unexpected JPEG decode failure\t file: ./PetImages/Dog/8641.jpg"
      ]
     },
     "metadata": {},
     "output_type": "display_data"
    },
    {
     "data": {
      "text/html": [
       "<pre>Unexpected JPEG decode failure\t file: ./PetImages/Dog/8693.jpg</pre>"
      ],
      "text/plain": [
       "Unexpected JPEG decode failure\t file: ./PetImages/Dog/8693.jpg"
      ]
     },
     "metadata": {},
     "output_type": "display_data"
    },
    {
     "data": {
      "text/html": [
       "<pre>Unexpected JPEG decode failure\t file: ./PetImages/Dog/8715.jpg</pre>"
      ],
      "text/plain": [
       "Unexpected JPEG decode failure\t file: ./PetImages/Dog/8715.jpg"
      ]
     },
     "metadata": {},
     "output_type": "display_data"
    },
    {
     "data": {
      "text/html": [
       "<pre>Unexpected JPEG decode failure\t file: ./PetImages/Dog/8730.jpg</pre>"
      ],
      "text/plain": [
       "Unexpected JPEG decode failure\t file: ./PetImages/Dog/8730.jpg"
      ]
     },
     "metadata": {},
     "output_type": "display_data"
    },
    {
     "data": {
      "text/html": [
       "<pre>Unexpected JPEG decode failure\t file: ./PetImages/Dog/8889.jpg</pre>"
      ],
      "text/plain": [
       "Unexpected JPEG decode failure\t file: ./PetImages/Dog/8889.jpg"
      ]
     },
     "metadata": {},
     "output_type": "display_data"
    },
    {
     "data": {
      "text/html": [
       "<pre>Unexpected JPEG decode failure\t file: ./PetImages/Dog/9026.jpg</pre>"
      ],
      "text/plain": [
       "Unexpected JPEG decode failure\t file: ./PetImages/Dog/9026.jpg"
      ]
     },
     "metadata": {},
     "output_type": "display_data"
    },
    {
     "data": {
      "text/html": [
       "<pre>Unexpected JPEG decode failure\t file: ./PetImages/Dog/9043.jpg</pre>"
      ],
      "text/plain": [
       "Unexpected JPEG decode failure\t file: ./PetImages/Dog/9043.jpg"
      ]
     },
     "metadata": {},
     "output_type": "display_data"
    },
    {
     "data": {
      "text/html": [
       "<pre>Unexpected JPEG decode failure\t file: ./PetImages/Dog/9145.jpg</pre>"
      ],
      "text/plain": [
       "Unexpected JPEG decode failure\t file: ./PetImages/Dog/9145.jpg"
      ]
     },
     "metadata": {},
     "output_type": "display_data"
    },
    {
     "data": {
      "text/html": [
       "<pre>Unexpected JPEG decode failure\t file: ./PetImages/Dog/9188.jpg</pre>"
      ],
      "text/plain": [
       "Unexpected JPEG decode failure\t file: ./PetImages/Dog/9188.jpg"
      ]
     },
     "metadata": {},
     "output_type": "display_data"
    },
    {
     "data": {
      "text/html": [
       "<pre>Unexpected JPEG decode failure\t file: ./PetImages/Dog/9367.jpg</pre>"
      ],
      "text/plain": [
       "Unexpected JPEG decode failure\t file: ./PetImages/Dog/9367.jpg"
      ]
     },
     "metadata": {},
     "output_type": "display_data"
    },
    {
     "data": {
      "text/html": [
       "<pre>Unexpected JPEG decode failure\t file: ./PetImages/Dog/9414.jpg</pre>"
      ],
      "text/plain": [
       "Unexpected JPEG decode failure\t file: ./PetImages/Dog/9414.jpg"
      ]
     },
     "metadata": {},
     "output_type": "display_data"
    },
    {
     "data": {
      "text/html": [
       "<pre>Unexpected JPEG decode failure\t file: ./PetImages/Dog/9500.jpg</pre>"
      ],
      "text/plain": [
       "Unexpected JPEG decode failure\t file: ./PetImages/Dog/9500.jpg"
      ]
     },
     "metadata": {},
     "output_type": "display_data"
    },
    {
     "data": {
      "text/html": [
       "<pre>Unexpected JPEG decode failure\t file: ./PetImages/Dog/9556.jpg</pre>"
      ],
      "text/plain": [
       "Unexpected JPEG decode failure\t file: ./PetImages/Dog/9556.jpg"
      ]
     },
     "metadata": {},
     "output_type": "display_data"
    },
    {
     "data": {
      "text/html": [
       "<pre>Unexpected JPEG decode failure\t file: ./PetImages/Dog/9640.jpg</pre>"
      ],
      "text/plain": [
       "Unexpected JPEG decode failure\t file: ./PetImages/Dog/9640.jpg"
      ]
     },
     "metadata": {},
     "output_type": "display_data"
    },
    {
     "data": {
      "text/html": [
       "<pre>Unexpected JPEG decode failure\t file: ./PetImages/Dog/9643.jpg</pre>"
      ],
      "text/plain": [
       "Unexpected JPEG decode failure\t file: ./PetImages/Dog/9643.jpg"
      ]
     },
     "metadata": {},
     "output_type": "display_data"
    },
    {
     "data": {
      "text/html": [
       "<pre>Unexpected JPEG decode failure\t file: ./PetImages/Dog/9851.jpg</pre>"
      ],
      "text/plain": [
       "Unexpected JPEG decode failure\t file: ./PetImages/Dog/9851.jpg"
      ]
     },
     "metadata": {},
     "output_type": "display_data"
    },
    {
     "data": {
      "text/html": [
       "<pre>Unexpected JPEG decode failure\t file: ./PetImages/Dog/9961.jpg</pre>"
      ],
      "text/plain": [
       "Unexpected JPEG decode failure\t file: ./PetImages/Dog/9961.jpg"
      ]
     },
     "metadata": {},
     "output_type": "display_data"
    },
    {
     "data": {
      "text/html": [
       "<pre>Unexpected JPEG decode failure\t file: ./PetImages/Dog/9967.jpg</pre>"
      ],
      "text/plain": [
       "Unexpected JPEG decode failure\t file: ./PetImages/Dog/9967.jpg"
      ]
     },
     "metadata": {},
     "output_type": "display_data"
    },
    {
     "data": {
      "text/html": [
       "<pre>Materializing SFrame</pre>"
      ],
      "text/plain": [
       "Materializing SFrame"
      ]
     },
     "metadata": {},
     "output_type": "display_data"
    }
   ],
   "source": [
    "import turicreate as tc\n",
    "\n",
    "# データセットの読み込み\n",
    "data = tc.image_analysis.load_images('./PetImages', with_path=True)\n",
    "\n",
    "# パス名からラベルを生成\n",
    "data['label'] = data['path'].apply(lambda path: 'dog' if '/Dog' in path else 'cat')\n",
    "\n",
    "# データセットの確認\n",
    "data.explore()\n",
    "\n",
    "# 訓練データと評価データの分割\n",
    "train_data, test_data = data.random_split(0.8)"
   ]
  },
  {
   "cell_type": "code",
   "execution_count": 2,
   "metadata": {},
   "outputs": [
    {
     "data": {
      "text/html": [
       "<pre>Analyzing and extracting image features.</pre>"
      ],
      "text/plain": [
       "Analyzing and extracting image features."
      ]
     },
     "metadata": {},
     "output_type": "display_data"
    },
    {
     "data": {
      "text/html": [
       "<pre>+------------------+--------------+------------------+</pre>"
      ],
      "text/plain": [
       "+------------------+--------------+------------------+"
      ]
     },
     "metadata": {},
     "output_type": "display_data"
    },
    {
     "data": {
      "text/html": [
       "<pre>| Images Processed | Elapsed Time | Percent Complete |</pre>"
      ],
      "text/plain": [
       "| Images Processed | Elapsed Time | Percent Complete |"
      ]
     },
     "metadata": {},
     "output_type": "display_data"
    },
    {
     "data": {
      "text/html": [
       "<pre>+------------------+--------------+------------------+</pre>"
      ],
      "text/plain": [
       "+------------------+--------------+------------------+"
      ]
     },
     "metadata": {},
     "output_type": "display_data"
    },
    {
     "data": {
      "text/html": [
       "<pre>| 64               | 1.65s        | 0.25%            |</pre>"
      ],
      "text/plain": [
       "| 64               | 1.65s        | 0.25%            |"
      ]
     },
     "metadata": {},
     "output_type": "display_data"
    },
    {
     "data": {
      "text/html": [
       "<pre>| 128              | 2.70s        | 0.5%             |</pre>"
      ],
      "text/plain": [
       "| 128              | 2.70s        | 0.5%             |"
      ]
     },
     "metadata": {},
     "output_type": "display_data"
    },
    {
     "data": {
      "text/html": [
       "<pre>| 192              | 3.75s        | 0.75%            |</pre>"
      ],
      "text/plain": [
       "| 192              | 3.75s        | 0.75%            |"
      ]
     },
     "metadata": {},
     "output_type": "display_data"
    },
    {
     "data": {
      "text/html": [
       "<pre>| 256              | 4.79s        | 1.25%            |</pre>"
      ],
      "text/plain": [
       "| 256              | 4.79s        | 1.25%            |"
      ]
     },
     "metadata": {},
     "output_type": "display_data"
    },
    {
     "data": {
      "text/html": [
       "<pre>| 320              | 5.83s        | 1.5%             |</pre>"
      ],
      "text/plain": [
       "| 320              | 5.83s        | 1.5%             |"
      ]
     },
     "metadata": {},
     "output_type": "display_data"
    },
    {
     "data": {
      "text/html": [
       "<pre>| 640              | 11.04s       | 3%               |</pre>"
      ],
      "text/plain": [
       "| 640              | 11.04s       | 3%               |"
      ]
     },
     "metadata": {},
     "output_type": "display_data"
    },
    {
     "data": {
      "text/html": [
       "<pre>| 960              | 16.24s       | 4.75%            |</pre>"
      ],
      "text/plain": [
       "| 960              | 16.24s       | 4.75%            |"
      ]
     },
     "metadata": {},
     "output_type": "display_data"
    },
    {
     "data": {
      "text/html": [
       "<pre>| 1280             | 21.49s       | 6.25%            |</pre>"
      ],
      "text/plain": [
       "| 1280             | 21.49s       | 6.25%            |"
      ]
     },
     "metadata": {},
     "output_type": "display_data"
    },
    {
     "data": {
      "text/html": [
       "<pre>| 1600             | 26.74s       | 8%               |</pre>"
      ],
      "text/plain": [
       "| 1600             | 26.74s       | 8%               |"
      ]
     },
     "metadata": {},
     "output_type": "display_data"
    },
    {
     "data": {
      "text/html": [
       "<pre>| 1920             | 31.96s       | 9.5%             |</pre>"
      ],
      "text/plain": [
       "| 1920             | 31.96s       | 9.5%             |"
      ]
     },
     "metadata": {},
     "output_type": "display_data"
    },
    {
     "data": {
      "text/html": [
       "<pre>| 2240             | 37.21s       | 11.25%           |</pre>"
      ],
      "text/plain": [
       "| 2240             | 37.21s       | 11.25%           |"
      ]
     },
     "metadata": {},
     "output_type": "display_data"
    },
    {
     "data": {
      "text/html": [
       "<pre>| 2560             | 42.42s       | 12.75%           |</pre>"
      ],
      "text/plain": [
       "| 2560             | 42.42s       | 12.75%           |"
      ]
     },
     "metadata": {},
     "output_type": "display_data"
    },
    {
     "data": {
      "text/html": [
       "<pre>| 2880             | 47.63s       | 14.5%            |</pre>"
      ],
      "text/plain": [
       "| 2880             | 47.63s       | 14.5%            |"
      ]
     },
     "metadata": {},
     "output_type": "display_data"
    },
    {
     "data": {
      "text/html": [
       "<pre>| 3200             | 52.89s       | 16%              |</pre>"
      ],
      "text/plain": [
       "| 3200             | 52.89s       | 16%              |"
      ]
     },
     "metadata": {},
     "output_type": "display_data"
    },
    {
     "data": {
      "text/html": [
       "<pre>| 3520             | 58.11s       | 17.5%            |</pre>"
      ],
      "text/plain": [
       "| 3520             | 58.11s       | 17.5%            |"
      ]
     },
     "metadata": {},
     "output_type": "display_data"
    },
    {
     "data": {
      "text/html": [
       "<pre>| 3840             | 1m 3s        | 19.25%           |</pre>"
      ],
      "text/plain": [
       "| 3840             | 1m 3s        | 19.25%           |"
      ]
     },
     "metadata": {},
     "output_type": "display_data"
    },
    {
     "data": {
      "text/html": [
       "<pre>| 4160             | 1m 8s        | 20.75%           |</pre>"
      ],
      "text/plain": [
       "| 4160             | 1m 8s        | 20.75%           |"
      ]
     },
     "metadata": {},
     "output_type": "display_data"
    },
    {
     "data": {
      "text/html": [
       "<pre>| 4480             | 1m 13s       | 22.5%            |</pre>"
      ],
      "text/plain": [
       "| 4480             | 1m 13s       | 22.5%            |"
      ]
     },
     "metadata": {},
     "output_type": "display_data"
    },
    {
     "data": {
      "text/html": [
       "<pre>| 4800             | 1m 19s       | 24%              |</pre>"
      ],
      "text/plain": [
       "| 4800             | 1m 19s       | 24%              |"
      ]
     },
     "metadata": {},
     "output_type": "display_data"
    },
    {
     "data": {
      "text/html": [
       "<pre>| 5120             | 1m 24s       | 25.75%           |</pre>"
      ],
      "text/plain": [
       "| 5120             | 1m 24s       | 25.75%           |"
      ]
     },
     "metadata": {},
     "output_type": "display_data"
    },
    {
     "data": {
      "text/html": [
       "<pre>| 5440             | 1m 29s       | 27.25%           |</pre>"
      ],
      "text/plain": [
       "| 5440             | 1m 29s       | 27.25%           |"
      ]
     },
     "metadata": {},
     "output_type": "display_data"
    },
    {
     "data": {
      "text/html": [
       "<pre>| 5760             | 1m 34s       | 29%              |</pre>"
      ],
      "text/plain": [
       "| 5760             | 1m 34s       | 29%              |"
      ]
     },
     "metadata": {},
     "output_type": "display_data"
    },
    {
     "data": {
      "text/html": [
       "<pre>| 6080             | 1m 39s       | 30.5%            |</pre>"
      ],
      "text/plain": [
       "| 6080             | 1m 39s       | 30.5%            |"
      ]
     },
     "metadata": {},
     "output_type": "display_data"
    },
    {
     "data": {
      "text/html": [
       "<pre>| 6400             | 1m 45s       | 32.25%           |</pre>"
      ],
      "text/plain": [
       "| 6400             | 1m 45s       | 32.25%           |"
      ]
     },
     "metadata": {},
     "output_type": "display_data"
    },
    {
     "data": {
      "text/html": [
       "<pre>| 6720             | 1m 50s       | 33.75%           |</pre>"
      ],
      "text/plain": [
       "| 6720             | 1m 50s       | 33.75%           |"
      ]
     },
     "metadata": {},
     "output_type": "display_data"
    },
    {
     "data": {
      "text/html": [
       "<pre>| 7040             | 1m 55s       | 35.25%           |</pre>"
      ],
      "text/plain": [
       "| 7040             | 1m 55s       | 35.25%           |"
      ]
     },
     "metadata": {},
     "output_type": "display_data"
    },
    {
     "data": {
      "text/html": [
       "<pre>| 7360             | 2m 0s        | 37%              |</pre>"
      ],
      "text/plain": [
       "| 7360             | 2m 0s        | 37%              |"
      ]
     },
     "metadata": {},
     "output_type": "display_data"
    },
    {
     "data": {
      "text/html": [
       "<pre>| 7680             | 2m 6s        | 38.5%            |</pre>"
      ],
      "text/plain": [
       "| 7680             | 2m 6s        | 38.5%            |"
      ]
     },
     "metadata": {},
     "output_type": "display_data"
    },
    {
     "data": {
      "text/html": [
       "<pre>| 8000             | 2m 11s       | 40.25%           |</pre>"
      ],
      "text/plain": [
       "| 8000             | 2m 11s       | 40.25%           |"
      ]
     },
     "metadata": {},
     "output_type": "display_data"
    },
    {
     "data": {
      "text/html": [
       "<pre>| 8320             | 2m 16s       | 41.75%           |</pre>"
      ],
      "text/plain": [
       "| 8320             | 2m 16s       | 41.75%           |"
      ]
     },
     "metadata": {},
     "output_type": "display_data"
    },
    {
     "data": {
      "text/html": [
       "<pre>| 8640             | 2m 21s       | 43.5%            |</pre>"
      ],
      "text/plain": [
       "| 8640             | 2m 21s       | 43.5%            |"
      ]
     },
     "metadata": {},
     "output_type": "display_data"
    },
    {
     "data": {
      "text/html": [
       "<pre>| 8960             | 2m 26s       | 45%              |</pre>"
      ],
      "text/plain": [
       "| 8960             | 2m 26s       | 45%              |"
      ]
     },
     "metadata": {},
     "output_type": "display_data"
    },
    {
     "data": {
      "text/html": [
       "<pre>| 9280             | 2m 32s       | 46.75%           |</pre>"
      ],
      "text/plain": [
       "| 9280             | 2m 32s       | 46.75%           |"
      ]
     },
     "metadata": {},
     "output_type": "display_data"
    },
    {
     "data": {
      "text/html": [
       "<pre>| 9600             | 2m 37s       | 48.25%           |</pre>"
      ],
      "text/plain": [
       "| 9600             | 2m 37s       | 48.25%           |"
      ]
     },
     "metadata": {},
     "output_type": "display_data"
    },
    {
     "data": {
      "text/html": [
       "<pre>| 9920             | 2m 42s       | 50%              |</pre>"
      ],
      "text/plain": [
       "| 9920             | 2m 42s       | 50%              |"
      ]
     },
     "metadata": {},
     "output_type": "display_data"
    },
    {
     "data": {
      "text/html": [
       "<pre>| 10240            | 2m 47s       | 51.5%            |</pre>"
      ],
      "text/plain": [
       "| 10240            | 2m 47s       | 51.5%            |"
      ]
     },
     "metadata": {},
     "output_type": "display_data"
    },
    {
     "data": {
      "text/html": [
       "<pre>| 10560            | 2m 52s       | 53%              |</pre>"
      ],
      "text/plain": [
       "| 10560            | 2m 52s       | 53%              |"
      ]
     },
     "metadata": {},
     "output_type": "display_data"
    },
    {
     "data": {
      "text/html": [
       "<pre>| 10880            | 2m 58s       | 54.75%           |</pre>"
      ],
      "text/plain": [
       "| 10880            | 2m 58s       | 54.75%           |"
      ]
     },
     "metadata": {},
     "output_type": "display_data"
    },
    {
     "data": {
      "text/html": [
       "<pre>| 11200            | 3m 3s        | 56.25%           |</pre>"
      ],
      "text/plain": [
       "| 11200            | 3m 3s        | 56.25%           |"
      ]
     },
     "metadata": {},
     "output_type": "display_data"
    },
    {
     "data": {
      "text/html": [
       "<pre>| 11520            | 3m 8s        | 58%              |</pre>"
      ],
      "text/plain": [
       "| 11520            | 3m 8s        | 58%              |"
      ]
     },
     "metadata": {},
     "output_type": "display_data"
    },
    {
     "data": {
      "text/html": [
       "<pre>| 11840            | 3m 14s       | 59.5%            |</pre>"
      ],
      "text/plain": [
       "| 11840            | 3m 14s       | 59.5%            |"
      ]
     },
     "metadata": {},
     "output_type": "display_data"
    },
    {
     "data": {
      "text/html": [
       "<pre>| 12160            | 3m 19s       | 61.25%           |</pre>"
      ],
      "text/plain": [
       "| 12160            | 3m 19s       | 61.25%           |"
      ]
     },
     "metadata": {},
     "output_type": "display_data"
    },
    {
     "data": {
      "text/html": [
       "<pre>| 12480            | 3m 24s       | 62.75%           |</pre>"
      ],
      "text/plain": [
       "| 12480            | 3m 24s       | 62.75%           |"
      ]
     },
     "metadata": {},
     "output_type": "display_data"
    },
    {
     "data": {
      "text/html": [
       "<pre>| 12800            | 3m 29s       | 64.5%            |</pre>"
      ],
      "text/plain": [
       "| 12800            | 3m 29s       | 64.5%            |"
      ]
     },
     "metadata": {},
     "output_type": "display_data"
    },
    {
     "data": {
      "text/html": [
       "<pre>| 13120            | 3m 34s       | 66%              |</pre>"
      ],
      "text/plain": [
       "| 13120            | 3m 34s       | 66%              |"
      ]
     },
     "metadata": {},
     "output_type": "display_data"
    },
    {
     "data": {
      "text/html": [
       "<pre>| 13440            | 3m 40s       | 67.5%            |</pre>"
      ],
      "text/plain": [
       "| 13440            | 3m 40s       | 67.5%            |"
      ]
     },
     "metadata": {},
     "output_type": "display_data"
    },
    {
     "data": {
      "text/html": [
       "<pre>| 13760            | 3m 45s       | 69.25%           |</pre>"
      ],
      "text/plain": [
       "| 13760            | 3m 45s       | 69.25%           |"
      ]
     },
     "metadata": {},
     "output_type": "display_data"
    },
    {
     "data": {
      "text/html": [
       "<pre>| 14080            | 3m 50s       | 70.75%           |</pre>"
      ],
      "text/plain": [
       "| 14080            | 3m 50s       | 70.75%           |"
      ]
     },
     "metadata": {},
     "output_type": "display_data"
    },
    {
     "data": {
      "text/html": [
       "<pre>| 14400            | 3m 55s       | 72.5%            |</pre>"
      ],
      "text/plain": [
       "| 14400            | 3m 55s       | 72.5%            |"
      ]
     },
     "metadata": {},
     "output_type": "display_data"
    },
    {
     "data": {
      "text/html": [
       "<pre>| 14720            | 4m 1s        | 74%              |</pre>"
      ],
      "text/plain": [
       "| 14720            | 4m 1s        | 74%              |"
      ]
     },
     "metadata": {},
     "output_type": "display_data"
    },
    {
     "data": {
      "text/html": [
       "<pre>| 15040            | 4m 6s        | 75.75%           |</pre>"
      ],
      "text/plain": [
       "| 15040            | 4m 6s        | 75.75%           |"
      ]
     },
     "metadata": {},
     "output_type": "display_data"
    },
    {
     "data": {
      "text/html": [
       "<pre>| 15360            | 4m 11s       | 77.25%           |</pre>"
      ],
      "text/plain": [
       "| 15360            | 4m 11s       | 77.25%           |"
      ]
     },
     "metadata": {},
     "output_type": "display_data"
    },
    {
     "data": {
      "text/html": [
       "<pre>| 15680            | 4m 16s       | 79%              |</pre>"
      ],
      "text/plain": [
       "| 15680            | 4m 16s       | 79%              |"
      ]
     },
     "metadata": {},
     "output_type": "display_data"
    },
    {
     "data": {
      "text/html": [
       "<pre>| 16000            | 4m 22s       | 80.5%            |</pre>"
      ],
      "text/plain": [
       "| 16000            | 4m 22s       | 80.5%            |"
      ]
     },
     "metadata": {},
     "output_type": "display_data"
    },
    {
     "data": {
      "text/html": [
       "<pre>| 16320            | 4m 27s       | 82.25%           |</pre>"
      ],
      "text/plain": [
       "| 16320            | 4m 27s       | 82.25%           |"
      ]
     },
     "metadata": {},
     "output_type": "display_data"
    },
    {
     "data": {
      "text/html": [
       "<pre>| 16640            | 4m 32s       | 83.75%           |</pre>"
      ],
      "text/plain": [
       "| 16640            | 4m 32s       | 83.75%           |"
      ]
     },
     "metadata": {},
     "output_type": "display_data"
    },
    {
     "data": {
      "text/html": [
       "<pre>| 16960            | 4m 37s       | 85.25%           |</pre>"
      ],
      "text/plain": [
       "| 16960            | 4m 37s       | 85.25%           |"
      ]
     },
     "metadata": {},
     "output_type": "display_data"
    },
    {
     "data": {
      "text/html": [
       "<pre>| 17280            | 4m 42s       | 87%              |</pre>"
      ],
      "text/plain": [
       "| 17280            | 4m 42s       | 87%              |"
      ]
     },
     "metadata": {},
     "output_type": "display_data"
    },
    {
     "data": {
      "text/html": [
       "<pre>| 17600            | 4m 48s       | 88.5%            |</pre>"
      ],
      "text/plain": [
       "| 17600            | 4m 48s       | 88.5%            |"
      ]
     },
     "metadata": {},
     "output_type": "display_data"
    },
    {
     "data": {
      "text/html": [
       "<pre>| 17920            | 4m 53s       | 90.25%           |</pre>"
      ],
      "text/plain": [
       "| 17920            | 4m 53s       | 90.25%           |"
      ]
     },
     "metadata": {},
     "output_type": "display_data"
    },
    {
     "data": {
      "text/html": [
       "<pre>| 18240            | 4m 58s       | 91.75%           |</pre>"
      ],
      "text/plain": [
       "| 18240            | 4m 58s       | 91.75%           |"
      ]
     },
     "metadata": {},
     "output_type": "display_data"
    },
    {
     "data": {
      "text/html": [
       "<pre>| 18560            | 5m 3s        | 93.5%            |</pre>"
      ],
      "text/plain": [
       "| 18560            | 5m 3s        | 93.5%            |"
      ]
     },
     "metadata": {},
     "output_type": "display_data"
    },
    {
     "data": {
      "text/html": [
       "<pre>| 18880            | 5m 8s        | 95%              |</pre>"
      ],
      "text/plain": [
       "| 18880            | 5m 8s        | 95%              |"
      ]
     },
     "metadata": {},
     "output_type": "display_data"
    },
    {
     "data": {
      "text/html": [
       "<pre>| 19200            | 5m 14s       | 96.75%           |</pre>"
      ],
      "text/plain": [
       "| 19200            | 5m 14s       | 96.75%           |"
      ]
     },
     "metadata": {},
     "output_type": "display_data"
    },
    {
     "data": {
      "text/html": [
       "<pre>| 19520            | 5m 19s       | 98.25%           |</pre>"
      ],
      "text/plain": [
       "| 19520            | 5m 19s       | 98.25%           |"
      ]
     },
     "metadata": {},
     "output_type": "display_data"
    },
    {
     "data": {
      "text/html": [
       "<pre>| 19835            | 5m 24s       | 100%             |</pre>"
      ],
      "text/plain": [
       "| 19835            | 5m 24s       | 100%             |"
      ]
     },
     "metadata": {},
     "output_type": "display_data"
    },
    {
     "data": {
      "text/html": [
       "<pre>+------------------+--------------+------------------+</pre>"
      ],
      "text/plain": [
       "+------------------+--------------+------------------+"
      ]
     },
     "metadata": {},
     "output_type": "display_data"
    },
    {
     "name": "stdout",
     "output_type": "stream",
     "text": [
      "PROGRESS: Creating a validation set from 5 percent of training data. This may take a while.\n",
      "          You can set ``validation_set=None`` to disable validation tracking.\n",
      "\n"
     ]
    },
    {
     "data": {
      "text/html": [
       "<pre>Logistic regression:</pre>"
      ],
      "text/plain": [
       "Logistic regression:"
      ]
     },
     "metadata": {},
     "output_type": "display_data"
    },
    {
     "data": {
      "text/html": [
       "<pre>--------------------------------------------------------</pre>"
      ],
      "text/plain": [
       "--------------------------------------------------------"
      ]
     },
     "metadata": {},
     "output_type": "display_data"
    },
    {
     "data": {
      "text/html": [
       "<pre>Number of examples          : 18850</pre>"
      ],
      "text/plain": [
       "Number of examples          : 18850"
      ]
     },
     "metadata": {},
     "output_type": "display_data"
    },
    {
     "data": {
      "text/html": [
       "<pre>Number of classes           : 2</pre>"
      ],
      "text/plain": [
       "Number of classes           : 2"
      ]
     },
     "metadata": {},
     "output_type": "display_data"
    },
    {
     "data": {
      "text/html": [
       "<pre>Number of feature columns   : 1</pre>"
      ],
      "text/plain": [
       "Number of feature columns   : 1"
      ]
     },
     "metadata": {},
     "output_type": "display_data"
    },
    {
     "data": {
      "text/html": [
       "<pre>Number of unpacked features : 2048</pre>"
      ],
      "text/plain": [
       "Number of unpacked features : 2048"
      ]
     },
     "metadata": {},
     "output_type": "display_data"
    },
    {
     "data": {
      "text/html": [
       "<pre>Number of coefficients      : 2049</pre>"
      ],
      "text/plain": [
       "Number of coefficients      : 2049"
      ]
     },
     "metadata": {},
     "output_type": "display_data"
    },
    {
     "data": {
      "text/html": [
       "<pre>Starting L-BFGS</pre>"
      ],
      "text/plain": [
       "Starting L-BFGS"
      ]
     },
     "metadata": {},
     "output_type": "display_data"
    },
    {
     "data": {
      "text/html": [
       "<pre>--------------------------------------------------------</pre>"
      ],
      "text/plain": [
       "--------------------------------------------------------"
      ]
     },
     "metadata": {},
     "output_type": "display_data"
    },
    {
     "data": {
      "text/html": [
       "<pre>+-----------+----------+-----------+--------------+-------------------+---------------------+</pre>"
      ],
      "text/plain": [
       "+-----------+----------+-----------+--------------+-------------------+---------------------+"
      ]
     },
     "metadata": {},
     "output_type": "display_data"
    },
    {
     "data": {
      "text/html": [
       "<pre>| Iteration | Passes   | Step size | Elapsed Time | Training Accuracy | Validation Accuracy |</pre>"
      ],
      "text/plain": [
       "| Iteration | Passes   | Step size | Elapsed Time | Training Accuracy | Validation Accuracy |"
      ]
     },
     "metadata": {},
     "output_type": "display_data"
    },
    {
     "data": {
      "text/html": [
       "<pre>+-----------+----------+-----------+--------------+-------------------+---------------------+</pre>"
      ],
      "text/plain": [
       "+-----------+----------+-----------+--------------+-------------------+---------------------+"
      ]
     },
     "metadata": {},
     "output_type": "display_data"
    },
    {
     "data": {
      "text/html": [
       "<pre>| 0         | 1        | NaN       | 0.319581     | 0.498302          | 0.517766            |</pre>"
      ],
      "text/plain": [
       "| 0         | 1        | NaN       | 0.319581     | 0.498302          | 0.517766            |"
      ]
     },
     "metadata": {},
     "output_type": "display_data"
    },
    {
     "data": {
      "text/html": [
       "<pre>| 1         | 3        | 0.000053  | 1.222040     | 0.981751          | 0.973604            |</pre>"
      ],
      "text/plain": [
       "| 1         | 3        | 0.000053  | 1.222040     | 0.981751          | 0.973604            |"
      ]
     },
     "metadata": {},
     "output_type": "display_data"
    },
    {
     "data": {
      "text/html": [
       "<pre>| 2         | 6        | 0.500000  | 2.391450     | 0.982759          | 0.973604            |</pre>"
      ],
      "text/plain": [
       "| 2         | 6        | 0.500000  | 2.391450     | 0.982759          | 0.973604            |"
      ]
     },
     "metadata": {},
     "output_type": "display_data"
    },
    {
     "data": {
      "text/html": [
       "<pre>| 3         | 7        | 0.500000  | 3.049551     | 0.983820          | 0.973604            |</pre>"
      ],
      "text/plain": [
       "| 3         | 7        | 0.500000  | 3.049551     | 0.983820          | 0.973604            |"
      ]
     },
     "metadata": {},
     "output_type": "display_data"
    },
    {
     "data": {
      "text/html": [
       "<pre>| 4         | 8        | 0.500000  | 3.672798     | 0.984934          | 0.974619            |</pre>"
      ],
      "text/plain": [
       "| 4         | 8        | 0.500000  | 3.672798     | 0.984934          | 0.974619            |"
      ]
     },
     "metadata": {},
     "output_type": "display_data"
    },
    {
     "data": {
      "text/html": [
       "<pre>| 5         | 9        | 0.500000  | 4.311870     | 0.986101          | 0.977665            |</pre>"
      ],
      "text/plain": [
       "| 5         | 9        | 0.500000  | 4.311870     | 0.986101          | 0.977665            |"
      ]
     },
     "metadata": {},
     "output_type": "display_data"
    },
    {
     "data": {
      "text/html": [
       "<pre>| 10        | 14       | 0.500000  | 7.660055     | 0.990981          | 0.987817            |</pre>"
      ],
      "text/plain": [
       "| 10        | 14       | 0.500000  | 7.660055     | 0.990981          | 0.987817            |"
      ]
     },
     "metadata": {},
     "output_type": "display_data"
    },
    {
     "data": {
      "text/html": [
       "<pre>+-----------+----------+-----------+--------------+-------------------+---------------------+</pre>"
      ],
      "text/plain": [
       "+-----------+----------+-----------+--------------+-------------------+---------------------+"
      ]
     },
     "metadata": {},
     "output_type": "display_data"
    },
    {
     "data": {
      "text/html": [
       "<pre>Completed (Iteration limit reached).</pre>"
      ],
      "text/plain": [
       "Completed (Iteration limit reached)."
      ]
     },
     "metadata": {},
     "output_type": "display_data"
    },
    {
     "data": {
      "text/html": [
       "<pre>This model may not be optimal. To improve it, consider increasing `max_iterations`.</pre>"
      ],
      "text/plain": [
       "This model may not be optimal. To improve it, consider increasing `max_iterations`."
      ]
     },
     "metadata": {},
     "output_type": "display_data"
    }
   ],
   "source": [
    "# 学習\n",
    "model = tc.image_classifier.create(train_data, target='label')"
   ]
  },
  {
   "cell_type": "code",
   "execution_count": 3,
   "metadata": {},
   "outputs": [
    {
     "data": {
      "text/html": [
       "<pre>Analyzing and extracting image features.</pre>"
      ],
      "text/plain": [
       "Analyzing and extracting image features."
      ]
     },
     "metadata": {},
     "output_type": "display_data"
    },
    {
     "data": {
      "text/html": [
       "<pre>+------------------+--------------+------------------+</pre>"
      ],
      "text/plain": [
       "+------------------+--------------+------------------+"
      ]
     },
     "metadata": {},
     "output_type": "display_data"
    },
    {
     "data": {
      "text/html": [
       "<pre>| Images Processed | Elapsed Time | Percent Complete |</pre>"
      ],
      "text/plain": [
       "| Images Processed | Elapsed Time | Percent Complete |"
      ]
     },
     "metadata": {},
     "output_type": "display_data"
    },
    {
     "data": {
      "text/html": [
       "<pre>+------------------+--------------+------------------+</pre>"
      ],
      "text/plain": [
       "+------------------+--------------+------------------+"
      ]
     },
     "metadata": {},
     "output_type": "display_data"
    },
    {
     "data": {
      "text/html": [
       "<pre>| 64               | 1.64s        | 1.25%            |</pre>"
      ],
      "text/plain": [
       "| 64               | 1.64s        | 1.25%            |"
      ]
     },
     "metadata": {},
     "output_type": "display_data"
    },
    {
     "data": {
      "text/html": [
       "<pre>| 128              | 2.68s        | 2.5%             |</pre>"
      ],
      "text/plain": [
       "| 128              | 2.68s        | 2.5%             |"
      ]
     },
     "metadata": {},
     "output_type": "display_data"
    },
    {
     "data": {
      "text/html": [
       "<pre>| 192              | 3.73s        | 3.75%            |</pre>"
      ],
      "text/plain": [
       "| 192              | 3.73s        | 3.75%            |"
      ]
     },
     "metadata": {},
     "output_type": "display_data"
    },
    {
     "data": {
      "text/html": [
       "<pre>| 256              | 4.77s        | 5%               |</pre>"
      ],
      "text/plain": [
       "| 256              | 4.77s        | 5%               |"
      ]
     },
     "metadata": {},
     "output_type": "display_data"
    },
    {
     "data": {
      "text/html": [
       "<pre>| 320              | 5.81s        | 6.25%            |</pre>"
      ],
      "text/plain": [
       "| 320              | 5.81s        | 6.25%            |"
      ]
     },
     "metadata": {},
     "output_type": "display_data"
    },
    {
     "data": {
      "text/html": [
       "<pre>| 640              | 11.04s       | 12.75%           |</pre>"
      ],
      "text/plain": [
       "| 640              | 11.04s       | 12.75%           |"
      ]
     },
     "metadata": {},
     "output_type": "display_data"
    },
    {
     "data": {
      "text/html": [
       "<pre>| 960              | 16.34s       | 19%              |</pre>"
      ],
      "text/plain": [
       "| 960              | 16.34s       | 19%              |"
      ]
     },
     "metadata": {},
     "output_type": "display_data"
    },
    {
     "data": {
      "text/html": [
       "<pre>| 1280             | 21.47s       | 25.5%            |</pre>"
      ],
      "text/plain": [
       "| 1280             | 21.47s       | 25.5%            |"
      ]
     },
     "metadata": {},
     "output_type": "display_data"
    },
    {
     "data": {
      "text/html": [
       "<pre>| 1600             | 26.72s       | 32%              |</pre>"
      ],
      "text/plain": [
       "| 1600             | 26.72s       | 32%              |"
      ]
     },
     "metadata": {},
     "output_type": "display_data"
    },
    {
     "data": {
      "text/html": [
       "<pre>| 1920             | 31.93s       | 38.25%           |</pre>"
      ],
      "text/plain": [
       "| 1920             | 31.93s       | 38.25%           |"
      ]
     },
     "metadata": {},
     "output_type": "display_data"
    },
    {
     "data": {
      "text/html": [
       "<pre>| 2240             | 37.10s       | 44.75%           |</pre>"
      ],
      "text/plain": [
       "| 2240             | 37.10s       | 44.75%           |"
      ]
     },
     "metadata": {},
     "output_type": "display_data"
    },
    {
     "data": {
      "text/html": [
       "<pre>| 2560             | 42.33s       | 51.25%           |</pre>"
      ],
      "text/plain": [
       "| 2560             | 42.33s       | 51.25%           |"
      ]
     },
     "metadata": {},
     "output_type": "display_data"
    },
    {
     "data": {
      "text/html": [
       "<pre>| 2880             | 47.54s       | 57.5%            |</pre>"
      ],
      "text/plain": [
       "| 2880             | 47.54s       | 57.5%            |"
      ]
     },
     "metadata": {},
     "output_type": "display_data"
    },
    {
     "data": {
      "text/html": [
       "<pre>| 3200             | 52.76s       | 64%              |</pre>"
      ],
      "text/plain": [
       "| 3200             | 52.76s       | 64%              |"
      ]
     },
     "metadata": {},
     "output_type": "display_data"
    },
    {
     "data": {
      "text/html": [
       "<pre>| 3520             | 58.01s       | 70.5%            |</pre>"
      ],
      "text/plain": [
       "| 3520             | 58.01s       | 70.5%            |"
      ]
     },
     "metadata": {},
     "output_type": "display_data"
    },
    {
     "data": {
      "text/html": [
       "<pre>| 3840             | 1m 3s        | 76.75%           |</pre>"
      ],
      "text/plain": [
       "| 3840             | 1m 3s        | 76.75%           |"
      ]
     },
     "metadata": {},
     "output_type": "display_data"
    },
    {
     "data": {
      "text/html": [
       "<pre>| 4160             | 1m 8s        | 83.25%           |</pre>"
      ],
      "text/plain": [
       "| 4160             | 1m 8s        | 83.25%           |"
      ]
     },
     "metadata": {},
     "output_type": "display_data"
    },
    {
     "data": {
      "text/html": [
       "<pre>| 4480             | 1m 13s       | 89.5%            |</pre>"
      ],
      "text/plain": [
       "| 4480             | 1m 13s       | 89.5%            |"
      ]
     },
     "metadata": {},
     "output_type": "display_data"
    },
    {
     "data": {
      "text/html": [
       "<pre>| 4800             | 1m 17s       | 96%              |</pre>"
      ],
      "text/plain": [
       "| 4800             | 1m 17s       | 96%              |"
      ]
     },
     "metadata": {},
     "output_type": "display_data"
    },
    {
     "data": {
      "text/html": [
       "<pre>| 4934             | 1m 21s       | 100%             |</pre>"
      ],
      "text/plain": [
       "| 4934             | 1m 21s       | 100%             |"
      ]
     },
     "metadata": {},
     "output_type": "display_data"
    },
    {
     "data": {
      "text/html": [
       "<pre>+------------------+--------------+------------------+</pre>"
      ],
      "text/plain": [
       "+------------------+--------------+------------------+"
      ]
     },
     "metadata": {},
     "output_type": "display_data"
    },
    {
     "name": "stdout",
     "output_type": "stream",
     "text": [
      "0.9886501824077827\n"
     ]
    }
   ],
   "source": [
    "# 評価\n",
    "metrics = model.evaluate(test_data)\n",
    "\n",
    "# 評価データの正解率\n",
    "print(metrics['accuracy'])"
   ]
  },
  {
   "cell_type": "code",
   "execution_count": 4,
   "metadata": {},
   "outputs": [
    {
     "name": "stderr",
     "output_type": "stream",
     "text": [
      "/Users/furukawahidekazu/anaconda3/envs/turicreate/lib/python3.6/site-packages/coremltools/_deps/__init__.py:100: DeprecationWarning: The 'warn' function is deprecated, use 'warning' instead\n",
      "  % (keras.__version__, KERAS_MAX_VERSION))\n",
      "WARNING:root:Keras version 2.2.2 detected. Last version known to be fully compatible of Keras is 2.1.6 .\n",
      "/Users/furukawahidekazu/anaconda3/envs/turicreate/lib/python3.6/site-packages/coremltools/_deps/__init__.py:118: DeprecationWarning: The 'warn' function is deprecated, use 'warning' instead\n",
      "  % (tensorflow.__version__, TF_MAX_VERSION))\n",
      "WARNING:root:TensorFlow version 1.9.0 detected. Last version known to be fully compatible is 1.5.0 .\n"
     ]
    }
   ],
   "source": [
    "# Turi Createモデルの保存\n",
    "model.save('./ImageClassification.model')\n",
    "\n",
    "# Core ML形式のモデルの保存\n",
    "model.export_coreml('./ImageClassification.mlmodel')"
   ]
  },
  {
   "cell_type": "code",
   "execution_count": 5,
   "metadata": {},
   "outputs": [
    {
     "name": "stdout",
     "output_type": "stream",
     "text": [
      "['cat']\n",
      "['cat']\n"
     ]
    }
   ],
   "source": [
    "# 予測\n",
    "prediction = model.predict(tc.SFrame(data=test_data[0:1]))\n",
    "print(prediction)\n",
    "\n",
    "# 正解データ\n",
    "print(test_data[0:1]['label'])"
   ]
  }
 ],
 "metadata": {
  "kernelspec": {
   "display_name": "Python 3",
   "language": "python",
   "name": "python3"
  },
  "language_info": {
   "codemirror_mode": {
    "name": "ipython",
    "version": 3
   },
   "file_extension": ".py",
   "mimetype": "text/x-python",
   "name": "python",
   "nbconvert_exporter": "python",
   "pygments_lexer": "ipython3",
   "version": "3.6.5"
  }
 },
 "nbformat": 4,
 "nbformat_minor": 2
}
