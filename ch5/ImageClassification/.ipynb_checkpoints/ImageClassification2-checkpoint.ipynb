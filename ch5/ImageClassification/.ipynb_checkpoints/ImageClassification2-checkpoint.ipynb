{
 "cells": [
  {
   "cell_type": "code",
   "execution_count": 1,
   "metadata": {},
   "outputs": [
    {
     "name": "stderr",
     "output_type": "stream",
     "text": [
      "/Users/furukawahidekazu/anaconda3/envs/turicreate/lib/python3.6/importlib/_bootstrap.py:219: RuntimeWarning: numpy.dtype size changed, may indicate binary incompatibility. Expected 96, got 88\n",
      "  return f(*args, **kwds)\n",
      "/Users/furukawahidekazu/anaconda3/envs/turicreate/lib/python3.6/importlib/_bootstrap.py:219: RuntimeWarning: numpy.dtype size changed, may indicate binary incompatibility. Expected 96, got 88\n",
      "  return f(*args, **kwds)\n"
     ]
    },
    {
     "data": {
      "text/html": [
       "<pre>Unexpected JPEG decode failure\t file: ./PetImages/Cat/10073.jpg</pre>"
      ],
      "text/plain": [
       "Unexpected JPEG decode failure\t file: ./PetImages/Cat/10073.jpg"
      ]
     },
     "metadata": {},
     "output_type": "display_data"
    },
    {
     "data": {
      "text/html": [
       "<pre>Unexpected JPEG decode failure\t file: ./PetImages/Cat/10125.jpg</pre>"
      ],
      "text/plain": [
       "Unexpected JPEG decode failure\t file: ./PetImages/Cat/10125.jpg"
      ]
     },
     "metadata": {},
     "output_type": "display_data"
    },
    {
     "data": {
      "text/html": [
       "<pre>Unexpected JPEG decode failure\t file: ./PetImages/Cat/10404.jpg</pre>"
      ],
      "text/plain": [
       "Unexpected JPEG decode failure\t file: ./PetImages/Cat/10404.jpg"
      ]
     },
     "metadata": {},
     "output_type": "display_data"
    },
    {
     "data": {
      "text/html": [
       "<pre>Unexpected JPEG decode failure\t file: ./PetImages/Cat/10501.jpg</pre>"
      ],
      "text/plain": [
       "Unexpected JPEG decode failure\t file: ./PetImages/Cat/10501.jpg"
      ]
     },
     "metadata": {},
     "output_type": "display_data"
    },
    {
     "data": {
      "text/html": [
       "<pre>Unexpected JPEG decode failure\t file: ./PetImages/Cat/10820.jpg</pre>"
      ],
      "text/plain": [
       "Unexpected JPEG decode failure\t file: ./PetImages/Cat/10820.jpg"
      ]
     },
     "metadata": {},
     "output_type": "display_data"
    },
    {
     "data": {
      "text/html": [
       "<pre>Unexpected JPEG decode failure\t file: ./PetImages/Cat/10874.jpg</pre>"
      ],
      "text/plain": [
       "Unexpected JPEG decode failure\t file: ./PetImages/Cat/10874.jpg"
      ]
     },
     "metadata": {},
     "output_type": "display_data"
    },
    {
     "data": {
      "text/html": [
       "<pre>Unexpected JPEG decode failure\t file: ./PetImages/Cat/11083.jpg</pre>"
      ],
      "text/plain": [
       "Unexpected JPEG decode failure\t file: ./PetImages/Cat/11083.jpg"
      ]
     },
     "metadata": {},
     "output_type": "display_data"
    },
    {
     "data": {
      "text/html": [
       "<pre>Unexpected JPEG decode failure\t file: ./PetImages/Cat/11086.jpg</pre>"
      ],
      "text/plain": [
       "Unexpected JPEG decode failure\t file: ./PetImages/Cat/11086.jpg"
      ]
     },
     "metadata": {},
     "output_type": "display_data"
    },
    {
     "data": {
      "text/html": [
       "<pre>Unexpected JPEG decode failure\t file: ./PetImages/Cat/11095.jpg</pre>"
      ],
      "text/plain": [
       "Unexpected JPEG decode failure\t file: ./PetImages/Cat/11095.jpg"
      ]
     },
     "metadata": {},
     "output_type": "display_data"
    },
    {
     "data": {
      "text/html": [
       "<pre>Unexpected JPEG decode failure\t file: ./PetImages/Cat/11210.jpg</pre>"
      ],
      "text/plain": [
       "Unexpected JPEG decode failure\t file: ./PetImages/Cat/11210.jpg"
      ]
     },
     "metadata": {},
     "output_type": "display_data"
    },
    {
     "data": {
      "text/html": [
       "<pre>Unexpected JPEG decode failure\t file: ./PetImages/Cat/11397.jpg</pre>"
      ],
      "text/plain": [
       "Unexpected JPEG decode failure\t file: ./PetImages/Cat/11397.jpg"
      ]
     },
     "metadata": {},
     "output_type": "display_data"
    },
    {
     "data": {
      "text/html": [
       "<pre>Unexpected JPEG decode failure\t file: ./PetImages/Cat/1151.jpg</pre>"
      ],
      "text/plain": [
       "Unexpected JPEG decode failure\t file: ./PetImages/Cat/1151.jpg"
      ]
     },
     "metadata": {},
     "output_type": "display_data"
    },
    {
     "data": {
      "text/html": [
       "<pre>Unexpected JPEG decode failure\t file: ./PetImages/Cat/11565.jpg</pre>"
      ],
      "text/plain": [
       "Unexpected JPEG decode failure\t file: ./PetImages/Cat/11565.jpg"
      ]
     },
     "metadata": {},
     "output_type": "display_data"
    },
    {
     "data": {
      "text/html": [
       "<pre>Unexpected JPEG decode failure\t file: ./PetImages/Cat/11729.jpg</pre>"
      ],
      "text/plain": [
       "Unexpected JPEG decode failure\t file: ./PetImages/Cat/11729.jpg"
      ]
     },
     "metadata": {},
     "output_type": "display_data"
    },
    {
     "data": {
      "text/html": [
       "<pre>Unexpected JPEG decode failure\t file: ./PetImages/Cat/11864.jpg</pre>"
      ],
      "text/plain": [
       "Unexpected JPEG decode failure\t file: ./PetImages/Cat/11864.jpg"
      ]
     },
     "metadata": {},
     "output_type": "display_data"
    },
    {
     "data": {
      "text/html": [
       "<pre>Unexpected JPEG decode failure\t file: ./PetImages/Cat/11874.jpg</pre>"
      ],
      "text/plain": [
       "Unexpected JPEG decode failure\t file: ./PetImages/Cat/11874.jpg"
      ]
     },
     "metadata": {},
     "output_type": "display_data"
    },
    {
     "data": {
      "text/html": [
       "<pre>Unexpected JPEG decode failure\t file: ./PetImages/Cat/11935.jpg</pre>"
      ],
      "text/plain": [
       "Unexpected JPEG decode failure\t file: ./PetImages/Cat/11935.jpg"
      ]
     },
     "metadata": {},
     "output_type": "display_data"
    },
    {
     "data": {
      "text/html": [
       "<pre>Unexpected JPEG decode failure\t file: ./PetImages/Cat/12080.jpg</pre>"
      ],
      "text/plain": [
       "Unexpected JPEG decode failure\t file: ./PetImages/Cat/12080.jpg"
      ]
     },
     "metadata": {},
     "output_type": "display_data"
    },
    {
     "data": {
      "text/html": [
       "<pre>Unexpected JPEG decode failure\t file: ./PetImages/Cat/12235.jpg</pre>"
      ],
      "text/plain": [
       "Unexpected JPEG decode failure\t file: ./PetImages/Cat/12235.jpg"
      ]
     },
     "metadata": {},
     "output_type": "display_data"
    },
    {
     "data": {
      "text/html": [
       "<pre>Unexpected JPEG decode failure\t file: ./PetImages/Cat/12269.jpg</pre>"
      ],
      "text/plain": [
       "Unexpected JPEG decode failure\t file: ./PetImages/Cat/12269.jpg"
      ]
     },
     "metadata": {},
     "output_type": "display_data"
    },
    {
     "data": {
      "text/html": [
       "<pre>Unexpected JPEG decode failure\t file: ./PetImages/Cat/1267.jpg</pre>"
      ],
      "text/plain": [
       "Unexpected JPEG decode failure\t file: ./PetImages/Cat/1267.jpg"
      ]
     },
     "metadata": {},
     "output_type": "display_data"
    },
    {
     "data": {
      "text/html": [
       "<pre>Unexpected JPEG decode failure\t file: ./PetImages/Cat/1386.jpg</pre>"
      ],
      "text/plain": [
       "Unexpected JPEG decode failure\t file: ./PetImages/Cat/1386.jpg"
      ]
     },
     "metadata": {},
     "output_type": "display_data"
    },
    {
     "data": {
      "text/html": [
       "<pre>Unexpected JPEG decode failure\t file: ./PetImages/Cat/140.jpg</pre>"
      ],
      "text/plain": [
       "Unexpected JPEG decode failure\t file: ./PetImages/Cat/140.jpg"
      ]
     },
     "metadata": {},
     "output_type": "display_data"
    },
    {
     "data": {
      "text/html": [
       "<pre>Unexpected JPEG decode failure\t file: ./PetImages/Cat/1757.jpg</pre>"
      ],
      "text/plain": [
       "Unexpected JPEG decode failure\t file: ./PetImages/Cat/1757.jpg"
      ]
     },
     "metadata": {},
     "output_type": "display_data"
    },
    {
     "data": {
      "text/html": [
       "<pre>Unexpected JPEG decode failure\t file: ./PetImages/Cat/1914.jpg</pre>"
      ],
      "text/plain": [
       "Unexpected JPEG decode failure\t file: ./PetImages/Cat/1914.jpg"
      ]
     },
     "metadata": {},
     "output_type": "display_data"
    },
    {
     "data": {
      "text/html": [
       "<pre>Unexpected JPEG decode failure\t file: ./PetImages/Cat/1936.jpg</pre>"
      ],
      "text/plain": [
       "Unexpected JPEG decode failure\t file: ./PetImages/Cat/1936.jpg"
      ]
     },
     "metadata": {},
     "output_type": "display_data"
    },
    {
     "data": {
      "text/html": [
       "<pre>Unexpected JPEG decode failure\t file: ./PetImages/Cat/1937.jpg</pre>"
      ],
      "text/plain": [
       "Unexpected JPEG decode failure\t file: ./PetImages/Cat/1937.jpg"
      ]
     },
     "metadata": {},
     "output_type": "display_data"
    },
    {
     "data": {
      "text/html": [
       "<pre>Unexpected JPEG decode failure\t file: ./PetImages/Cat/2021.jpg</pre>"
      ],
      "text/plain": [
       "Unexpected JPEG decode failure\t file: ./PetImages/Cat/2021.jpg"
      ]
     },
     "metadata": {},
     "output_type": "display_data"
    },
    {
     "data": {
      "text/html": [
       "<pre>Unexpected JPEG decode failure\t file: ./PetImages/Cat/2189.jpg</pre>"
      ],
      "text/plain": [
       "Unexpected JPEG decode failure\t file: ./PetImages/Cat/2189.jpg"
      ]
     },
     "metadata": {},
     "output_type": "display_data"
    },
    {
     "data": {
      "text/html": [
       "<pre>Unexpected JPEG decode failure\t file: ./PetImages/Cat/23.jpg</pre>"
      ],
      "text/plain": [
       "Unexpected JPEG decode failure\t file: ./PetImages/Cat/23.jpg"
      ]
     },
     "metadata": {},
     "output_type": "display_data"
    },
    {
     "data": {
      "text/html": [
       "<pre>Unexpected JPEG decode failure\t file: ./PetImages/Cat/2569.jpg</pre>"
      ],
      "text/plain": [
       "Unexpected JPEG decode failure\t file: ./PetImages/Cat/2569.jpg"
      ]
     },
     "metadata": {},
     "output_type": "display_data"
    },
    {
     "data": {
      "text/html": [
       "<pre>Unexpected JPEG decode failure\t file: ./PetImages/Cat/2663.jpg</pre>"
      ],
      "text/plain": [
       "Unexpected JPEG decode failure\t file: ./PetImages/Cat/2663.jpg"
      ]
     },
     "metadata": {},
     "output_type": "display_data"
    },
    {
     "data": {
      "text/html": [
       "<pre>Unexpected JPEG decode failure\t file: ./PetImages/Cat/2742.jpg</pre>"
      ],
      "text/plain": [
       "Unexpected JPEG decode failure\t file: ./PetImages/Cat/2742.jpg"
      ]
     },
     "metadata": {},
     "output_type": "display_data"
    },
    {
     "data": {
      "text/html": [
       "<pre>Unexpected JPEG decode failure\t file: ./PetImages/Cat/3153.jpg</pre>"
      ],
      "text/plain": [
       "Unexpected JPEG decode failure\t file: ./PetImages/Cat/3153.jpg"
      ]
     },
     "metadata": {},
     "output_type": "display_data"
    },
    {
     "data": {
      "text/html": [
       "<pre>Unexpected JPEG decode failure\t file: ./PetImages/Cat/3161.jpg</pre>"
      ],
      "text/plain": [
       "Unexpected JPEG decode failure\t file: ./PetImages/Cat/3161.jpg"
      ]
     },
     "metadata": {},
     "output_type": "display_data"
    },
    {
     "data": {
      "text/html": [
       "<pre>Unexpected JPEG decode failure\t file: ./PetImages/Cat/3197.jpg</pre>"
      ],
      "text/plain": [
       "Unexpected JPEG decode failure\t file: ./PetImages/Cat/3197.jpg"
      ]
     },
     "metadata": {},
     "output_type": "display_data"
    },
    {
     "data": {
      "text/html": [
       "<pre>Unexpected JPEG decode failure\t file: ./PetImages/Cat/3300.jpg</pre>"
      ],
      "text/plain": [
       "Unexpected JPEG decode failure\t file: ./PetImages/Cat/3300.jpg"
      ]
     },
     "metadata": {},
     "output_type": "display_data"
    },
    {
     "data": {
      "text/html": [
       "<pre>Read 5128 images in 5.00106 secs\tspeed: 1025.38 file/sec</pre>"
      ],
      "text/plain": [
       "Read 5128 images in 5.00106 secs\tspeed: 1025.38 file/sec"
      ]
     },
     "metadata": {},
     "output_type": "display_data"
    },
    {
     "data": {
      "text/html": [
       "<pre>Unexpected JPEG decode failure\t file: ./PetImages/Cat/3491.jpg</pre>"
      ],
      "text/plain": [
       "Unexpected JPEG decode failure\t file: ./PetImages/Cat/3491.jpg"
      ]
     },
     "metadata": {},
     "output_type": "display_data"
    },
    {
     "data": {
      "text/html": [
       "<pre>Unexpected JPEG decode failure\t file: ./PetImages/Cat/3649.jpg</pre>"
      ],
      "text/plain": [
       "Unexpected JPEG decode failure\t file: ./PetImages/Cat/3649.jpg"
      ]
     },
     "metadata": {},
     "output_type": "display_data"
    },
    {
     "data": {
      "text/html": [
       "<pre>Unexpected JPEG decode failure\t file: ./PetImages/Cat/3710.jpg</pre>"
      ],
      "text/plain": [
       "Unexpected JPEG decode failure\t file: ./PetImages/Cat/3710.jpg"
      ]
     },
     "metadata": {},
     "output_type": "display_data"
    },
    {
     "data": {
      "text/html": [
       "<pre>Unexpected JPEG decode failure\t file: ./PetImages/Cat/391.jpg</pre>"
      ],
      "text/plain": [
       "Unexpected JPEG decode failure\t file: ./PetImages/Cat/391.jpg"
      ]
     },
     "metadata": {},
     "output_type": "display_data"
    },
    {
     "data": {
      "text/html": [
       "<pre>Unexpected JPEG decode failure\t file: ./PetImages/Cat/3967.jpg</pre>"
      ],
      "text/plain": [
       "Unexpected JPEG decode failure\t file: ./PetImages/Cat/3967.jpg"
      ]
     },
     "metadata": {},
     "output_type": "display_data"
    },
    {
     "data": {
      "text/html": [
       "<pre>Unexpected JPEG decode failure\t file: ./PetImages/Cat/4000.jpg</pre>"
      ],
      "text/plain": [
       "Unexpected JPEG decode failure\t file: ./PetImages/Cat/4000.jpg"
      ]
     },
     "metadata": {},
     "output_type": "display_data"
    },
    {
     "data": {
      "text/html": [
       "<pre>Unexpected JPEG decode failure\t file: ./PetImages/Cat/4293.jpg</pre>"
      ],
      "text/plain": [
       "Unexpected JPEG decode failure\t file: ./PetImages/Cat/4293.jpg"
      ]
     },
     "metadata": {},
     "output_type": "display_data"
    },
    {
     "data": {
      "text/html": [
       "<pre>Unexpected JPEG decode failure\t file: ./PetImages/Cat/4322.jpg</pre>"
      ],
      "text/plain": [
       "Unexpected JPEG decode failure\t file: ./PetImages/Cat/4322.jpg"
      ]
     },
     "metadata": {},
     "output_type": "display_data"
    },
    {
     "data": {
      "text/html": [
       "<pre>Unexpected JPEG decode failure\t file: ./PetImages/Cat/4334.jpg</pre>"
      ],
      "text/plain": [
       "Unexpected JPEG decode failure\t file: ./PetImages/Cat/4334.jpg"
      ]
     },
     "metadata": {},
     "output_type": "display_data"
    },
    {
     "data": {
      "text/html": [
       "<pre>Unexpected JPEG decode failure\t file: ./PetImages/Cat/4351.jpg</pre>"
      ],
      "text/plain": [
       "Unexpected JPEG decode failure\t file: ./PetImages/Cat/4351.jpg"
      ]
     },
     "metadata": {},
     "output_type": "display_data"
    },
    {
     "data": {
      "text/html": [
       "<pre>Unexpected JPEG decode failure\t file: ./PetImages/Cat/445.jpg</pre>"
      ],
      "text/plain": [
       "Unexpected JPEG decode failure\t file: ./PetImages/Cat/445.jpg"
      ]
     },
     "metadata": {},
     "output_type": "display_data"
    },
    {
     "data": {
      "text/html": [
       "<pre>Unexpected JPEG decode failure\t file: ./PetImages/Cat/4629.jpg</pre>"
      ],
      "text/plain": [
       "Unexpected JPEG decode failure\t file: ./PetImages/Cat/4629.jpg"
      ]
     },
     "metadata": {},
     "output_type": "display_data"
    },
    {
     "data": {
      "text/html": [
       "<pre>Unexpected JPEG decode failure\t file: ./PetImages/Cat/4750.jpg</pre>"
      ],
      "text/plain": [
       "Unexpected JPEG decode failure\t file: ./PetImages/Cat/4750.jpg"
      ]
     },
     "metadata": {},
     "output_type": "display_data"
    },
    {
     "data": {
      "text/html": [
       "<pre>Unexpected JPEG decode failure\t file: ./PetImages/Cat/4821.jpg</pre>"
      ],
      "text/plain": [
       "Unexpected JPEG decode failure\t file: ./PetImages/Cat/4821.jpg"
      ]
     },
     "metadata": {},
     "output_type": "display_data"
    },
    {
     "data": {
      "text/html": [
       "<pre>Unexpected JPEG decode failure\t file: ./PetImages/Cat/4833.jpg</pre>"
      ],
      "text/plain": [
       "Unexpected JPEG decode failure\t file: ./PetImages/Cat/4833.jpg"
      ]
     },
     "metadata": {},
     "output_type": "display_data"
    },
    {
     "data": {
      "text/html": [
       "<pre>Unexpected JPEG decode failure\t file: ./PetImages/Cat/4874.jpg</pre>"
      ],
      "text/plain": [
       "Unexpected JPEG decode failure\t file: ./PetImages/Cat/4874.jpg"
      ]
     },
     "metadata": {},
     "output_type": "display_data"
    },
    {
     "data": {
      "text/html": [
       "<pre>Unexpected JPEG decode failure\t file: ./PetImages/Cat/4929.jpg</pre>"
      ],
      "text/plain": [
       "Unexpected JPEG decode failure\t file: ./PetImages/Cat/4929.jpg"
      ]
     },
     "metadata": {},
     "output_type": "display_data"
    },
    {
     "data": {
      "text/html": [
       "<pre>Unexpected JPEG decode failure\t file: ./PetImages/Cat/5077.jpg</pre>"
      ],
      "text/plain": [
       "Unexpected JPEG decode failure\t file: ./PetImages/Cat/5077.jpg"
      ]
     },
     "metadata": {},
     "output_type": "display_data"
    },
    {
     "data": {
      "text/html": [
       "<pre>Unexpected JPEG decode failure\t file: ./PetImages/Cat/5370.jpg</pre>"
      ],
      "text/plain": [
       "Unexpected JPEG decode failure\t file: ./PetImages/Cat/5370.jpg"
      ]
     },
     "metadata": {},
     "output_type": "display_data"
    },
    {
     "data": {
      "text/html": [
       "<pre>Unexpected JPEG decode failure\t file: ./PetImages/Cat/5553.jpg</pre>"
      ],
      "text/plain": [
       "Unexpected JPEG decode failure\t file: ./PetImages/Cat/5553.jpg"
      ]
     },
     "metadata": {},
     "output_type": "display_data"
    },
    {
     "data": {
      "text/html": [
       "<pre>Unexpected JPEG decode failure\t file: ./PetImages/Cat/5614.jpg</pre>"
      ],
      "text/plain": [
       "Unexpected JPEG decode failure\t file: ./PetImages/Cat/5614.jpg"
      ]
     },
     "metadata": {},
     "output_type": "display_data"
    },
    {
     "data": {
      "text/html": [
       "<pre>Unexpected JPEG decode failure\t file: ./PetImages/Cat/5819.jpg</pre>"
      ],
      "text/plain": [
       "Unexpected JPEG decode failure\t file: ./PetImages/Cat/5819.jpg"
      ]
     },
     "metadata": {},
     "output_type": "display_data"
    },
    {
     "data": {
      "text/html": [
       "<pre>Unexpected JPEG decode failure\t file: ./PetImages/Cat/6029.jpg</pre>"
      ],
      "text/plain": [
       "Unexpected JPEG decode failure\t file: ./PetImages/Cat/6029.jpg"
      ]
     },
     "metadata": {},
     "output_type": "display_data"
    },
    {
     "data": {
      "text/html": [
       "<pre>Unexpected JPEG decode failure\t file: ./PetImages/Cat/6376.jpg</pre>"
      ],
      "text/plain": [
       "Unexpected JPEG decode failure\t file: ./PetImages/Cat/6376.jpg"
      ]
     },
     "metadata": {},
     "output_type": "display_data"
    },
    {
     "data": {
      "text/html": [
       "<pre>Unexpected JPEG decode failure\t file: ./PetImages/Cat/6435.jpg</pre>"
      ],
      "text/plain": [
       "Unexpected JPEG decode failure\t file: ./PetImages/Cat/6435.jpg"
      ]
     },
     "metadata": {},
     "output_type": "display_data"
    },
    {
     "data": {
      "text/html": [
       "<pre>Unexpected JPEG decode failure\t file: ./PetImages/Cat/6486.jpg</pre>"
      ],
      "text/plain": [
       "Unexpected JPEG decode failure\t file: ./PetImages/Cat/6486.jpg"
      ]
     },
     "metadata": {},
     "output_type": "display_data"
    },
    {
     "data": {
      "text/html": [
       "<pre>Unexpected JPEG decode failure\t file: ./PetImages/Cat/6491.jpg</pre>"
      ],
      "text/plain": [
       "Unexpected JPEG decode failure\t file: ./PetImages/Cat/6491.jpg"
      ]
     },
     "metadata": {},
     "output_type": "display_data"
    },
    {
     "data": {
      "text/html": [
       "<pre>Unexpected JPEG decode failure\t file: ./PetImages/Cat/660.jpg</pre>"
      ],
      "text/plain": [
       "Unexpected JPEG decode failure\t file: ./PetImages/Cat/660.jpg"
      ]
     },
     "metadata": {},
     "output_type": "display_data"
    },
    {
     "data": {
      "text/html": [
       "<pre>Unexpected JPEG decode failure\t file: ./PetImages/Cat/666.jpg</pre>"
      ],
      "text/plain": [
       "Unexpected JPEG decode failure\t file: ./PetImages/Cat/666.jpg"
      ]
     },
     "metadata": {},
     "output_type": "display_data"
    },
    {
     "data": {
      "text/html": [
       "<pre>Unexpected JPEG decode failure\t file: ./PetImages/Cat/6768.jpg</pre>"
      ],
      "text/plain": [
       "Unexpected JPEG decode failure\t file: ./PetImages/Cat/6768.jpg"
      ]
     },
     "metadata": {},
     "output_type": "display_data"
    },
    {
     "data": {
      "text/html": [
       "<pre>Unexpected JPEG decode failure\t file: ./PetImages/Cat/6900.jpg</pre>"
      ],
      "text/plain": [
       "Unexpected JPEG decode failure\t file: ./PetImages/Cat/6900.jpg"
      ]
     },
     "metadata": {},
     "output_type": "display_data"
    },
    {
     "data": {
      "text/html": [
       "<pre>Unexpected JPEG decode failure\t file: ./PetImages/Cat/6906.jpg</pre>"
      ],
      "text/plain": [
       "Unexpected JPEG decode failure\t file: ./PetImages/Cat/6906.jpg"
      ]
     },
     "metadata": {},
     "output_type": "display_data"
    },
    {
     "data": {
      "text/html": [
       "<pre>Unexpected JPEG decode failure\t file: ./PetImages/Cat/6980.jpg</pre>"
      ],
      "text/plain": [
       "Unexpected JPEG decode failure\t file: ./PetImages/Cat/6980.jpg"
      ]
     },
     "metadata": {},
     "output_type": "display_data"
    },
    {
     "data": {
      "text/html": [
       "<pre>Unexpected JPEG decode failure\t file: ./PetImages/Cat/7003.jpg</pre>"
      ],
      "text/plain": [
       "Unexpected JPEG decode failure\t file: ./PetImages/Cat/7003.jpg"
      ]
     },
     "metadata": {},
     "output_type": "display_data"
    },
    {
     "data": {
      "text/html": [
       "<pre>Unexpected JPEG decode failure\t file: ./PetImages/Cat/7502.jpg</pre>"
      ],
      "text/plain": [
       "Unexpected JPEG decode failure\t file: ./PetImages/Cat/7502.jpg"
      ]
     },
     "metadata": {},
     "output_type": "display_data"
    },
    {
     "data": {
      "text/html": [
       "<pre>Unexpected JPEG decode failure\t file: ./PetImages/Cat/7642.jpg</pre>"
      ],
      "text/plain": [
       "Unexpected JPEG decode failure\t file: ./PetImages/Cat/7642.jpg"
      ]
     },
     "metadata": {},
     "output_type": "display_data"
    },
    {
     "data": {
      "text/html": [
       "<pre>Unexpected JPEG decode failure\t file: ./PetImages/Cat/7647.jpg</pre>"
      ],
      "text/plain": [
       "Unexpected JPEG decode failure\t file: ./PetImages/Cat/7647.jpg"
      ]
     },
     "metadata": {},
     "output_type": "display_data"
    },
    {
     "data": {
      "text/html": [
       "<pre>Read 10005 images in 10.0013 secs\tspeed: 975.353 file/sec</pre>"
      ],
      "text/plain": [
       "Read 10005 images in 10.0013 secs\tspeed: 975.353 file/sec"
      ]
     },
     "metadata": {},
     "output_type": "display_data"
    },
    {
     "data": {
      "text/html": [
       "<pre>Unexpected JPEG decode failure\t file: ./PetImages/Cat/7845.jpg</pre>"
      ],
      "text/plain": [
       "Unexpected JPEG decode failure\t file: ./PetImages/Cat/7845.jpg"
      ]
     },
     "metadata": {},
     "output_type": "display_data"
    },
    {
     "data": {
      "text/html": [
       "<pre>Unexpected JPEG decode failure\t file: ./PetImages/Cat/7968.jpg</pre>"
      ],
      "text/plain": [
       "Unexpected JPEG decode failure\t file: ./PetImages/Cat/7968.jpg"
      ]
     },
     "metadata": {},
     "output_type": "display_data"
    },
    {
     "data": {
      "text/html": [
       "<pre>Unexpected JPEG decode failure\t file: ./PetImages/Cat/7978.jpg</pre>"
      ],
      "text/plain": [
       "Unexpected JPEG decode failure\t file: ./PetImages/Cat/7978.jpg"
      ]
     },
     "metadata": {},
     "output_type": "display_data"
    },
    {
     "data": {
      "text/html": [
       "<pre>Unexpected JPEG decode failure\t file: ./PetImages/Cat/8183.jpg</pre>"
      ],
      "text/plain": [
       "Unexpected JPEG decode failure\t file: ./PetImages/Cat/8183.jpg"
      ]
     },
     "metadata": {},
     "output_type": "display_data"
    },
    {
     "data": {
      "text/html": [
       "<pre>Unexpected JPEG decode failure\t file: ./PetImages/Cat/8295.jpg</pre>"
      ],
      "text/plain": [
       "Unexpected JPEG decode failure\t file: ./PetImages/Cat/8295.jpg"
      ]
     },
     "metadata": {},
     "output_type": "display_data"
    },
    {
     "data": {
      "text/html": [
       "<pre>Unexpected JPEG decode failure\t file: ./PetImages/Cat/8415.jpg</pre>"
      ],
      "text/plain": [
       "Unexpected JPEG decode failure\t file: ./PetImages/Cat/8415.jpg"
      ]
     },
     "metadata": {},
     "output_type": "display_data"
    },
    {
     "data": {
      "text/html": [
       "<pre>Unexpected JPEG decode failure\t file: ./PetImages/Cat/8470.jpg</pre>"
      ],
      "text/plain": [
       "Unexpected JPEG decode failure\t file: ./PetImages/Cat/8470.jpg"
      ]
     },
     "metadata": {},
     "output_type": "display_data"
    },
    {
     "data": {
      "text/html": [
       "<pre>Unexpected JPEG decode failure\t file: ./PetImages/Cat/850.jpg</pre>"
      ],
      "text/plain": [
       "Unexpected JPEG decode failure\t file: ./PetImages/Cat/850.jpg"
      ]
     },
     "metadata": {},
     "output_type": "display_data"
    },
    {
     "data": {
      "text/html": [
       "<pre>Unexpected JPEG decode failure\t file: ./PetImages/Cat/8553.jpg</pre>"
      ],
      "text/plain": [
       "Unexpected JPEG decode failure\t file: ./PetImages/Cat/8553.jpg"
      ]
     },
     "metadata": {},
     "output_type": "display_data"
    },
    {
     "data": {
      "text/html": [
       "<pre>Unexpected JPEG decode failure\t file: ./PetImages/Cat/8832.jpg</pre>"
      ],
      "text/plain": [
       "Unexpected JPEG decode failure\t file: ./PetImages/Cat/8832.jpg"
      ]
     },
     "metadata": {},
     "output_type": "display_data"
    },
    {
     "data": {
      "text/html": [
       "<pre>Unexpected JPEG decode failure\t file: ./PetImages/Cat/8958.jpg</pre>"
      ],
      "text/plain": [
       "Unexpected JPEG decode failure\t file: ./PetImages/Cat/8958.jpg"
      ]
     },
     "metadata": {},
     "output_type": "display_data"
    },
    {
     "data": {
      "text/html": [
       "<pre>Unexpected JPEG decode failure\t file: ./PetImages/Cat/910.jpg</pre>"
      ],
      "text/plain": [
       "Unexpected JPEG decode failure\t file: ./PetImages/Cat/910.jpg"
      ]
     },
     "metadata": {},
     "output_type": "display_data"
    },
    {
     "data": {
      "text/html": [
       "<pre>Unexpected JPEG decode failure\t file: ./PetImages/Cat/9100.jpg</pre>"
      ],
      "text/plain": [
       "Unexpected JPEG decode failure\t file: ./PetImages/Cat/9100.jpg"
      ]
     },
     "metadata": {},
     "output_type": "display_data"
    },
    {
     "data": {
      "text/html": [
       "<pre>Unexpected JPEG decode failure\t file: ./PetImages/Cat/9171.jpg</pre>"
      ],
      "text/plain": [
       "Unexpected JPEG decode failure\t file: ./PetImages/Cat/9171.jpg"
      ]
     },
     "metadata": {},
     "output_type": "display_data"
    },
    {
     "data": {
      "text/html": [
       "<pre>Unexpected JPEG decode failure\t file: ./PetImages/Cat/9208.jpg</pre>"
      ],
      "text/plain": [
       "Unexpected JPEG decode failure\t file: ./PetImages/Cat/9208.jpg"
      ]
     },
     "metadata": {},
     "output_type": "display_data"
    },
    {
     "data": {
      "text/html": [
       "<pre>Unexpected JPEG decode failure\t file: ./PetImages/Cat/9328.jpg</pre>"
      ],
      "text/plain": [
       "Unexpected JPEG decode failure\t file: ./PetImages/Cat/9328.jpg"
      ]
     },
     "metadata": {},
     "output_type": "display_data"
    },
    {
     "data": {
      "text/html": [
       "<pre>Unexpected JPEG decode failure\t file: ./PetImages/Cat/936.jpg</pre>"
      ],
      "text/plain": [
       "Unexpected JPEG decode failure\t file: ./PetImages/Cat/936.jpg"
      ]
     },
     "metadata": {},
     "output_type": "display_data"
    },
    {
     "data": {
      "text/html": [
       "<pre>Unexpected JPEG decode failure\t file: ./PetImages/Cat/9361.jpg</pre>"
      ],
      "text/plain": [
       "Unexpected JPEG decode failure\t file: ./PetImages/Cat/9361.jpg"
      ]
     },
     "metadata": {},
     "output_type": "display_data"
    },
    {
     "data": {
      "text/html": [
       "<pre>Unexpected JPEG decode failure\t file: ./PetImages/Cat/9565.jpg</pre>"
      ],
      "text/plain": [
       "Unexpected JPEG decode failure\t file: ./PetImages/Cat/9565.jpg"
      ]
     },
     "metadata": {},
     "output_type": "display_data"
    },
    {
     "data": {
      "text/html": [
       "<pre>Unexpected JPEG decode failure\t file: ./PetImages/Cat/9619.jpg</pre>"
      ],
      "text/plain": [
       "Unexpected JPEG decode failure\t file: ./PetImages/Cat/9619.jpg"
      ]
     },
     "metadata": {},
     "output_type": "display_data"
    },
    {
     "data": {
      "text/html": [
       "<pre>Unexpected JPEG decode failure\t file: ./PetImages/Cat/9778.jpg</pre>"
      ],
      "text/plain": [
       "Unexpected JPEG decode failure\t file: ./PetImages/Cat/9778.jpg"
      ]
     },
     "metadata": {},
     "output_type": "display_data"
    },
    {
     "data": {
      "text/html": [
       "<pre>Unexpected JPEG decode failure\t file: ./PetImages/Dog/10158.jpg</pre>"
      ],
      "text/plain": [
       "Unexpected JPEG decode failure\t file: ./PetImages/Dog/10158.jpg"
      ]
     },
     "metadata": {},
     "output_type": "display_data"
    },
    {
     "data": {
      "text/html": [
       "<pre>Unexpected JPEG decode failure\t file: ./PetImages/Dog/1017.jpg</pre>"
      ],
      "text/plain": [
       "Unexpected JPEG decode failure\t file: ./PetImages/Dog/1017.jpg"
      ]
     },
     "metadata": {},
     "output_type": "display_data"
    },
    {
     "data": {
      "text/html": [
       "<pre>Unexpected JPEG decode failure\t file: ./PetImages/Dog/10173.jpg</pre>"
      ],
      "text/plain": [
       "Unexpected JPEG decode failure\t file: ./PetImages/Dog/10173.jpg"
      ]
     },
     "metadata": {},
     "output_type": "display_data"
    },
    {
     "data": {
      "text/html": [
       "<pre>Unexpected JPEG decode failure\t file: ./PetImages/Dog/10351.jpg</pre>"
      ],
      "text/plain": [
       "Unexpected JPEG decode failure\t file: ./PetImages/Dog/10351.jpg"
      ]
     },
     "metadata": {},
     "output_type": "display_data"
    },
    {
     "data": {
      "text/html": [
       "<pre>Unexpected JPEG decode failure\t file: ./PetImages/Dog/10353.jpg</pre>"
      ],
      "text/plain": [
       "Unexpected JPEG decode failure\t file: ./PetImages/Dog/10353.jpg"
      ]
     },
     "metadata": {},
     "output_type": "display_data"
    },
    {
     "data": {
      "text/html": [
       "<pre>Unexpected JPEG decode failure\t file: ./PetImages/Dog/10383.jpg</pre>"
      ],
      "text/plain": [
       "Unexpected JPEG decode failure\t file: ./PetImages/Dog/10383.jpg"
      ]
     },
     "metadata": {},
     "output_type": "display_data"
    },
    {
     "data": {
      "text/html": [
       "<pre>Unexpected JPEG decode failure\t file: ./PetImages/Dog/10401.jpg</pre>"
      ],
      "text/plain": [
       "Unexpected JPEG decode failure\t file: ./PetImages/Dog/10401.jpg"
      ]
     },
     "metadata": {},
     "output_type": "display_data"
    },
    {
     "data": {
      "text/html": [
       "<pre>Unexpected JPEG decode failure\t file: ./PetImages/Dog/10637.jpg</pre>"
      ],
      "text/plain": [
       "Unexpected JPEG decode failure\t file: ./PetImages/Dog/10637.jpg"
      ]
     },
     "metadata": {},
     "output_type": "display_data"
    },
    {
     "data": {
      "text/html": [
       "<pre>Unexpected JPEG decode failure\t file: ./PetImages/Dog/10678.jpg</pre>"
      ],
      "text/plain": [
       "Unexpected JPEG decode failure\t file: ./PetImages/Dog/10678.jpg"
      ]
     },
     "metadata": {},
     "output_type": "display_data"
    },
    {
     "data": {
      "text/html": [
       "<pre>Unexpected JPEG decode failure\t file: ./PetImages/Dog/10705.jpg</pre>"
      ],
      "text/plain": [
       "Unexpected JPEG decode failure\t file: ./PetImages/Dog/10705.jpg"
      ]
     },
     "metadata": {},
     "output_type": "display_data"
    },
    {
     "data": {
      "text/html": [
       "<pre>Unexpected JPEG decode failure\t file: ./PetImages/Dog/10726.jpg</pre>"
      ],
      "text/plain": [
       "Unexpected JPEG decode failure\t file: ./PetImages/Dog/10726.jpg"
      ]
     },
     "metadata": {},
     "output_type": "display_data"
    },
    {
     "data": {
      "text/html": [
       "<pre>Unexpected JPEG decode failure\t file: ./PetImages/Dog/10733.jpg</pre>"
      ],
      "text/plain": [
       "Unexpected JPEG decode failure\t file: ./PetImages/Dog/10733.jpg"
      ]
     },
     "metadata": {},
     "output_type": "display_data"
    },
    {
     "data": {
      "text/html": [
       "<pre>Unexpected JPEG decode failure\t file: ./PetImages/Dog/10747.jpg</pre>"
      ],
      "text/plain": [
       "Unexpected JPEG decode failure\t file: ./PetImages/Dog/10747.jpg"
      ]
     },
     "metadata": {},
     "output_type": "display_data"
    },
    {
     "data": {
      "text/html": [
       "<pre>Unexpected JPEG decode failure\t file: ./PetImages/Dog/10797.jpg</pre>"
      ],
      "text/plain": [
       "Unexpected JPEG decode failure\t file: ./PetImages/Dog/10797.jpg"
      ]
     },
     "metadata": {},
     "output_type": "display_data"
    },
    {
     "data": {
      "text/html": [
       "<pre>Unexpected JPEG decode failure\t file: ./PetImages/Dog/10863.jpg</pre>"
      ],
      "text/plain": [
       "Unexpected JPEG decode failure\t file: ./PetImages/Dog/10863.jpg"
      ]
     },
     "metadata": {},
     "output_type": "display_data"
    },
    {
     "data": {
      "text/html": [
       "<pre>Unexpected JPEG decode failure\t file: ./PetImages/Dog/10907.jpg</pre>"
      ],
      "text/plain": [
       "Unexpected JPEG decode failure\t file: ./PetImages/Dog/10907.jpg"
      ]
     },
     "metadata": {},
     "output_type": "display_data"
    },
    {
     "data": {
      "text/html": [
       "<pre>Unexpected JPEG decode failure\t file: ./PetImages/Dog/10969.jpg</pre>"
      ],
      "text/plain": [
       "Unexpected JPEG decode failure\t file: ./PetImages/Dog/10969.jpg"
      ]
     },
     "metadata": {},
     "output_type": "display_data"
    },
    {
     "data": {
      "text/html": [
       "<pre>Unexpected JPEG decode failure\t file: ./PetImages/Dog/10972.jpg</pre>"
      ],
      "text/plain": [
       "Unexpected JPEG decode failure\t file: ./PetImages/Dog/10972.jpg"
      ]
     },
     "metadata": {},
     "output_type": "display_data"
    },
    {
     "data": {
      "text/html": [
       "<pre>Unexpected JPEG decode failure\t file: ./PetImages/Dog/11166.jpg</pre>"
      ],
      "text/plain": [
       "Unexpected JPEG decode failure\t file: ./PetImages/Dog/11166.jpg"
      ]
     },
     "metadata": {},
     "output_type": "display_data"
    },
    {
     "data": {
      "text/html": [
       "<pre>Unexpected JPEG decode failure\t file: ./PetImages/Dog/11233.jpg</pre>"
      ],
      "text/plain": [
       "Unexpected JPEG decode failure\t file: ./PetImages/Dog/11233.jpg"
      ]
     },
     "metadata": {},
     "output_type": "display_data"
    },
    {
     "data": {
      "text/html": [
       "<pre>Unexpected JPEG decode failure\t file: ./PetImages/Dog/11253.jpg</pre>"
      ],
      "text/plain": [
       "Unexpected JPEG decode failure\t file: ./PetImages/Dog/11253.jpg"
      ]
     },
     "metadata": {},
     "output_type": "display_data"
    },
    {
     "data": {
      "text/html": [
       "<pre>Unexpected JPEG decode failure\t file: ./PetImages/Dog/11285.jpg</pre>"
      ],
      "text/plain": [
       "Unexpected JPEG decode failure\t file: ./PetImages/Dog/11285.jpg"
      ]
     },
     "metadata": {},
     "output_type": "display_data"
    },
    {
     "data": {
      "text/html": [
       "<pre>Unexpected JPEG decode failure\t file: ./PetImages/Dog/11410.jpg</pre>"
      ],
      "text/plain": [
       "Unexpected JPEG decode failure\t file: ./PetImages/Dog/11410.jpg"
      ]
     },
     "metadata": {},
     "output_type": "display_data"
    },
    {
     "data": {
      "text/html": [
       "<pre>Unexpected JPEG decode failure\t file: ./PetImages/Dog/11560.jpg</pre>"
      ],
      "text/plain": [
       "Unexpected JPEG decode failure\t file: ./PetImages/Dog/11560.jpg"
      ]
     },
     "metadata": {},
     "output_type": "display_data"
    },
    {
     "data": {
      "text/html": [
       "<pre>Unexpected JPEG decode failure\t file: ./PetImages/Dog/11590.jpg</pre>"
      ],
      "text/plain": [
       "Unexpected JPEG decode failure\t file: ./PetImages/Dog/11590.jpg"
      ]
     },
     "metadata": {},
     "output_type": "display_data"
    },
    {
     "data": {
      "text/html": [
       "<pre>Read 14224 images in 15.0019 secs\tspeed: 843.703 file/sec</pre>"
      ],
      "text/plain": [
       "Read 14224 images in 15.0019 secs\tspeed: 843.703 file/sec"
      ]
     },
     "metadata": {},
     "output_type": "display_data"
    },
    {
     "data": {
      "text/html": [
       "<pre>Unexpected JPEG decode failure\t file: ./PetImages/Dog/11675.jpg</pre>"
      ],
      "text/plain": [
       "Unexpected JPEG decode failure\t file: ./PetImages/Dog/11675.jpg"
      ]
     },
     "metadata": {},
     "output_type": "display_data"
    },
    {
     "data": {
      "text/html": [
       "<pre>Unexpected JPEG decode failure\t file: ./PetImages/Dog/1168.jpg</pre>"
      ],
      "text/plain": [
       "Unexpected JPEG decode failure\t file: ./PetImages/Dog/1168.jpg"
      ]
     },
     "metadata": {},
     "output_type": "display_data"
    },
    {
     "data": {
      "text/html": [
       "<pre>Unexpected JPEG decode failure\t file: ./PetImages/Dog/11692.jpg</pre>"
      ],
      "text/plain": [
       "Unexpected JPEG decode failure\t file: ./PetImages/Dog/11692.jpg"
      ]
     },
     "metadata": {},
     "output_type": "display_data"
    },
    {
     "data": {
      "text/html": [
       "<pre>Unexpected JPEG decode failure\t file: ./PetImages/Dog/11702.jpg</pre>"
      ],
      "text/plain": [
       "Unexpected JPEG decode failure\t file: ./PetImages/Dog/11702.jpg"
      ]
     },
     "metadata": {},
     "output_type": "display_data"
    },
    {
     "data": {
      "text/html": [
       "<pre>Unexpected JPEG decode failure\t file: ./PetImages/Dog/11849.jpg</pre>"
      ],
      "text/plain": [
       "Unexpected JPEG decode failure\t file: ./PetImages/Dog/11849.jpg"
      ]
     },
     "metadata": {},
     "output_type": "display_data"
    },
    {
     "data": {
      "text/html": [
       "<pre>Unexpected JPEG decode failure\t file: ./PetImages/Dog/11853.jpg</pre>"
      ],
      "text/plain": [
       "Unexpected JPEG decode failure\t file: ./PetImages/Dog/11853.jpg"
      ]
     },
     "metadata": {},
     "output_type": "display_data"
    },
    {
     "data": {
      "text/html": [
       "<pre>Unexpected JPEG decode failure\t file: ./PetImages/Dog/11912.jpg</pre>"
      ],
      "text/plain": [
       "Unexpected JPEG decode failure\t file: ./PetImages/Dog/11912.jpg"
      ]
     },
     "metadata": {},
     "output_type": "display_data"
    },
    {
     "data": {
      "text/html": [
       "<pre>Unexpected JPEG decode failure\t file: ./PetImages/Dog/12102.jpg</pre>"
      ],
      "text/plain": [
       "Unexpected JPEG decode failure\t file: ./PetImages/Dog/12102.jpg"
      ]
     },
     "metadata": {},
     "output_type": "display_data"
    },
    {
     "data": {
      "text/html": [
       "<pre>Unexpected JPEG decode failure\t file: ./PetImages/Dog/12114.jpg</pre>"
      ],
      "text/plain": [
       "Unexpected JPEG decode failure\t file: ./PetImages/Dog/12114.jpg"
      ]
     },
     "metadata": {},
     "output_type": "display_data"
    },
    {
     "data": {
      "text/html": [
       "<pre>Unexpected JPEG decode failure\t file: ./PetImages/Dog/12289.jpg</pre>"
      ],
      "text/plain": [
       "Unexpected JPEG decode failure\t file: ./PetImages/Dog/12289.jpg"
      ]
     },
     "metadata": {},
     "output_type": "display_data"
    },
    {
     "data": {
      "text/html": [
       "<pre>Unexpected JPEG decode failure\t file: ./PetImages/Dog/1259.jpg</pre>"
      ],
      "text/plain": [
       "Unexpected JPEG decode failure\t file: ./PetImages/Dog/1259.jpg"
      ]
     },
     "metadata": {},
     "output_type": "display_data"
    },
    {
     "data": {
      "text/html": [
       "<pre>Unexpected JPEG decode failure\t file: ./PetImages/Dog/1308.jpg</pre>"
      ],
      "text/plain": [
       "Unexpected JPEG decode failure\t file: ./PetImages/Dog/1308.jpg"
      ]
     },
     "metadata": {},
     "output_type": "display_data"
    },
    {
     "data": {
      "text/html": [
       "<pre>Unexpected JPEG decode failure\t file: ./PetImages/Dog/1356.jpg</pre>"
      ],
      "text/plain": [
       "Unexpected JPEG decode failure\t file: ./PetImages/Dog/1356.jpg"
      ]
     },
     "metadata": {},
     "output_type": "display_data"
    },
    {
     "data": {
      "text/html": [
       "<pre>Unexpected JPEG decode failure\t file: ./PetImages/Dog/1866.jpg</pre>"
      ],
      "text/plain": [
       "Unexpected JPEG decode failure\t file: ./PetImages/Dog/1866.jpg"
      ]
     },
     "metadata": {},
     "output_type": "display_data"
    },
    {
     "data": {
      "text/html": [
       "<pre>Unexpected JPEG decode failure\t file: ./PetImages/Dog/1884.jpg</pre>"
      ],
      "text/plain": [
       "Unexpected JPEG decode failure\t file: ./PetImages/Dog/1884.jpg"
      ]
     },
     "metadata": {},
     "output_type": "display_data"
    },
    {
     "data": {
      "text/html": [
       "<pre>Unexpected JPEG decode failure\t file: ./PetImages/Dog/1900.jpg</pre>"
      ],
      "text/plain": [
       "Unexpected JPEG decode failure\t file: ./PetImages/Dog/1900.jpg"
      ]
     },
     "metadata": {},
     "output_type": "display_data"
    },
    {
     "data": {
      "text/html": [
       "<pre>Unexpected JPEG decode failure\t file: ./PetImages/Dog/2317.jpg</pre>"
      ],
      "text/plain": [
       "Unexpected JPEG decode failure\t file: ./PetImages/Dog/2317.jpg"
      ]
     },
     "metadata": {},
     "output_type": "display_data"
    },
    {
     "data": {
      "text/html": [
       "<pre>Unexpected JPEG decode failure\t file: ./PetImages/Dog/2353.jpg</pre>"
      ],
      "text/plain": [
       "Unexpected JPEG decode failure\t file: ./PetImages/Dog/2353.jpg"
      ]
     },
     "metadata": {},
     "output_type": "display_data"
    },
    {
     "data": {
      "text/html": [
       "<pre>Unexpected JPEG decode failure\t file: ./PetImages/Dog/2384.jpg</pre>"
      ],
      "text/plain": [
       "Unexpected JPEG decode failure\t file: ./PetImages/Dog/2384.jpg"
      ]
     },
     "metadata": {},
     "output_type": "display_data"
    },
    {
     "data": {
      "text/html": [
       "<pre>Unexpected JPEG decode failure\t file: ./PetImages/Dog/2479.jpg</pre>"
      ],
      "text/plain": [
       "Unexpected JPEG decode failure\t file: ./PetImages/Dog/2479.jpg"
      ]
     },
     "metadata": {},
     "output_type": "display_data"
    },
    {
     "data": {
      "text/html": [
       "<pre>Unexpected JPEG decode failure\t file: ./PetImages/Dog/2494.jpg</pre>"
      ],
      "text/plain": [
       "Unexpected JPEG decode failure\t file: ./PetImages/Dog/2494.jpg"
      ]
     },
     "metadata": {},
     "output_type": "display_data"
    },
    {
     "data": {
      "text/html": [
       "<pre>Unexpected JPEG decode failure\t file: ./PetImages/Dog/2688.jpg</pre>"
      ],
      "text/plain": [
       "Unexpected JPEG decode failure\t file: ./PetImages/Dog/2688.jpg"
      ]
     },
     "metadata": {},
     "output_type": "display_data"
    },
    {
     "data": {
      "text/html": [
       "<pre>Unexpected JPEG decode failure\t file: ./PetImages/Dog/2877.jpg</pre>"
      ],
      "text/plain": [
       "Unexpected JPEG decode failure\t file: ./PetImages/Dog/2877.jpg"
      ]
     },
     "metadata": {},
     "output_type": "display_data"
    },
    {
     "data": {
      "text/html": [
       "<pre>Unexpected JPEG decode failure\t file: ./PetImages/Dog/2905.jpg</pre>"
      ],
      "text/plain": [
       "Unexpected JPEG decode failure\t file: ./PetImages/Dog/2905.jpg"
      ]
     },
     "metadata": {},
     "output_type": "display_data"
    },
    {
     "data": {
      "text/html": [
       "<pre>Unexpected JPEG decode failure\t file: ./PetImages/Dog/2915.jpg</pre>"
      ],
      "text/plain": [
       "Unexpected JPEG decode failure\t file: ./PetImages/Dog/2915.jpg"
      ]
     },
     "metadata": {},
     "output_type": "display_data"
    },
    {
     "data": {
      "text/html": [
       "<pre>Unexpected JPEG decode failure\t file: ./PetImages/Dog/296.jpg</pre>"
      ],
      "text/plain": [
       "Unexpected JPEG decode failure\t file: ./PetImages/Dog/296.jpg"
      ]
     },
     "metadata": {},
     "output_type": "display_data"
    },
    {
     "data": {
      "text/html": [
       "<pre>Unexpected JPEG decode failure\t file: ./PetImages/Dog/3038.jpg</pre>"
      ],
      "text/plain": [
       "Unexpected JPEG decode failure\t file: ./PetImages/Dog/3038.jpg"
      ]
     },
     "metadata": {},
     "output_type": "display_data"
    },
    {
     "data": {
      "text/html": [
       "<pre>Unexpected JPEG decode failure\t file: ./PetImages/Dog/3136.jpg</pre>"
      ],
      "text/plain": [
       "Unexpected JPEG decode failure\t file: ./PetImages/Dog/3136.jpg"
      ]
     },
     "metadata": {},
     "output_type": "display_data"
    },
    {
     "data": {
      "text/html": [
       "<pre>Unexpected JPEG decode failure\t file: ./PetImages/Dog/3155.jpg</pre>"
      ],
      "text/plain": [
       "Unexpected JPEG decode failure\t file: ./PetImages/Dog/3155.jpg"
      ]
     },
     "metadata": {},
     "output_type": "display_data"
    },
    {
     "data": {
      "text/html": [
       "<pre>Unexpected JPEG decode failure\t file: ./PetImages/Dog/3288.jpg</pre>"
      ],
      "text/plain": [
       "Unexpected JPEG decode failure\t file: ./PetImages/Dog/3288.jpg"
      ]
     },
     "metadata": {},
     "output_type": "display_data"
    },
    {
     "data": {
      "text/html": [
       "<pre>Unexpected JPEG decode failure\t file: ./PetImages/Dog/3320.jpg</pre>"
      ],
      "text/plain": [
       "Unexpected JPEG decode failure\t file: ./PetImages/Dog/3320.jpg"
      ]
     },
     "metadata": {},
     "output_type": "display_data"
    },
    {
     "data": {
      "text/html": [
       "<pre>Unexpected JPEG decode failure\t file: ./PetImages/Dog/3546.jpg</pre>"
      ],
      "text/plain": [
       "Unexpected JPEG decode failure\t file: ./PetImages/Dog/3546.jpg"
      ]
     },
     "metadata": {},
     "output_type": "display_data"
    },
    {
     "data": {
      "text/html": [
       "<pre>Unexpected JPEG decode failure\t file: ./PetImages/Dog/3588.jpg</pre>"
      ],
      "text/plain": [
       "Unexpected JPEG decode failure\t file: ./PetImages/Dog/3588.jpg"
      ]
     },
     "metadata": {},
     "output_type": "display_data"
    },
    {
     "data": {
      "text/html": [
       "<pre>Read 17828 images in 20.002 secs\tspeed: 720.786 file/sec</pre>"
      ],
      "text/plain": [
       "Read 17828 images in 20.002 secs\tspeed: 720.786 file/sec"
      ]
     },
     "metadata": {},
     "output_type": "display_data"
    },
    {
     "data": {
      "text/html": [
       "<pre>Unexpected JPEG decode failure\t file: ./PetImages/Dog/3885.jpg</pre>"
      ],
      "text/plain": [
       "Unexpected JPEG decode failure\t file: ./PetImages/Dog/3885.jpg"
      ]
     },
     "metadata": {},
     "output_type": "display_data"
    },
    {
     "data": {
      "text/html": [
       "<pre>Unexpected JPEG decode failure\t file: ./PetImages/Dog/3927.jpg</pre>"
      ],
      "text/plain": [
       "Unexpected JPEG decode failure\t file: ./PetImages/Dog/3927.jpg"
      ]
     },
     "metadata": {},
     "output_type": "display_data"
    },
    {
     "data": {
      "text/html": [
       "<pre>Unexpected JPEG decode failure\t file: ./PetImages/Dog/4086.jpg</pre>"
      ],
      "text/plain": [
       "Unexpected JPEG decode failure\t file: ./PetImages/Dog/4086.jpg"
      ]
     },
     "metadata": {},
     "output_type": "display_data"
    },
    {
     "data": {
      "text/html": [
       "<pre>Unexpected JPEG decode failure\t file: ./PetImages/Dog/4134.jpg</pre>"
      ],
      "text/plain": [
       "Unexpected JPEG decode failure\t file: ./PetImages/Dog/4134.jpg"
      ]
     },
     "metadata": {},
     "output_type": "display_data"
    },
    {
     "data": {
      "text/html": [
       "<pre>Unexpected JPEG decode failure\t file: ./PetImages/Dog/414.jpg</pre>"
      ],
      "text/plain": [
       "Unexpected JPEG decode failure\t file: ./PetImages/Dog/414.jpg"
      ]
     },
     "metadata": {},
     "output_type": "display_data"
    },
    {
     "data": {
      "text/html": [
       "<pre>Unexpected JPEG decode failure\t file: ./PetImages/Dog/4203.jpg</pre>"
      ],
      "text/plain": [
       "Unexpected JPEG decode failure\t file: ./PetImages/Dog/4203.jpg"
      ]
     },
     "metadata": {},
     "output_type": "display_data"
    },
    {
     "data": {
      "text/html": [
       "<pre>Unexpected JPEG decode failure\t file: ./PetImages/Dog/4257.jpg</pre>"
      ],
      "text/plain": [
       "Unexpected JPEG decode failure\t file: ./PetImages/Dog/4257.jpg"
      ]
     },
     "metadata": {},
     "output_type": "display_data"
    },
    {
     "data": {
      "text/html": [
       "<pre>Unexpected JPEG decode failure\t file: ./PetImages/Dog/4301.jpg</pre>"
      ],
      "text/plain": [
       "Unexpected JPEG decode failure\t file: ./PetImages/Dog/4301.jpg"
      ]
     },
     "metadata": {},
     "output_type": "display_data"
    },
    {
     "data": {
      "text/html": [
       "<pre>Unexpected JPEG decode failure\t file: ./PetImages/Dog/4367.jpg</pre>"
      ],
      "text/plain": [
       "Unexpected JPEG decode failure\t file: ./PetImages/Dog/4367.jpg"
      ]
     },
     "metadata": {},
     "output_type": "display_data"
    },
    {
     "data": {
      "text/html": [
       "<pre>Unexpected JPEG decode failure\t file: ./PetImages/Dog/4640.jpg</pre>"
      ],
      "text/plain": [
       "Unexpected JPEG decode failure\t file: ./PetImages/Dog/4640.jpg"
      ]
     },
     "metadata": {},
     "output_type": "display_data"
    },
    {
     "data": {
      "text/html": [
       "<pre>Unexpected JPEG decode failure\t file: ./PetImages/Dog/4654.jpg</pre>"
      ],
      "text/plain": [
       "Unexpected JPEG decode failure\t file: ./PetImages/Dog/4654.jpg"
      ]
     },
     "metadata": {},
     "output_type": "display_data"
    },
    {
     "data": {
      "text/html": [
       "<pre>Unexpected JPEG decode failure\t file: ./PetImages/Dog/4924.jpg</pre>"
      ],
      "text/plain": [
       "Unexpected JPEG decode failure\t file: ./PetImages/Dog/4924.jpg"
      ]
     },
     "metadata": {},
     "output_type": "display_data"
    },
    {
     "data": {
      "text/html": [
       "<pre>Unexpected JPEG decode failure\t file: ./PetImages/Dog/50.jpg</pre>"
      ],
      "text/plain": [
       "Unexpected JPEG decode failure\t file: ./PetImages/Dog/50.jpg"
      ]
     },
     "metadata": {},
     "output_type": "display_data"
    },
    {
     "data": {
      "text/html": [
       "<pre>Unexpected JPEG decode failure\t file: ./PetImages/Dog/5104.jpg</pre>"
      ],
      "text/plain": [
       "Unexpected JPEG decode failure\t file: ./PetImages/Dog/5104.jpg"
      ]
     },
     "metadata": {},
     "output_type": "display_data"
    },
    {
     "data": {
      "text/html": [
       "<pre>Unexpected JPEG decode failure\t file: ./PetImages/Dog/522.jpg</pre>"
      ],
      "text/plain": [
       "Unexpected JPEG decode failure\t file: ./PetImages/Dog/522.jpg"
      ]
     },
     "metadata": {},
     "output_type": "display_data"
    },
    {
     "data": {
      "text/html": [
       "<pre>Unexpected JPEG decode failure\t file: ./PetImages/Dog/5243.jpg</pre>"
      ],
      "text/plain": [
       "Unexpected JPEG decode failure\t file: ./PetImages/Dog/5243.jpg"
      ]
     },
     "metadata": {},
     "output_type": "display_data"
    },
    {
     "data": {
      "text/html": [
       "<pre>Unexpected JPEG decode failure\t file: ./PetImages/Dog/5263.jpg</pre>"
      ],
      "text/plain": [
       "Unexpected JPEG decode failure\t file: ./PetImages/Dog/5263.jpg"
      ]
     },
     "metadata": {},
     "output_type": "display_data"
    },
    {
     "data": {
      "text/html": [
       "<pre>Unexpected JPEG decode failure\t file: ./PetImages/Dog/543.jpg</pre>"
      ],
      "text/plain": [
       "Unexpected JPEG decode failure\t file: ./PetImages/Dog/543.jpg"
      ]
     },
     "metadata": {},
     "output_type": "display_data"
    },
    {
     "data": {
      "text/html": [
       "<pre>Unexpected JPEG decode failure\t file: ./PetImages/Dog/5547.jpg</pre>"
      ],
      "text/plain": [
       "Unexpected JPEG decode failure\t file: ./PetImages/Dog/5547.jpg"
      ]
     },
     "metadata": {},
     "output_type": "display_data"
    },
    {
     "data": {
      "text/html": [
       "<pre>Unexpected JPEG decode failure\t file: ./PetImages/Dog/5604.jpg</pre>"
      ],
      "text/plain": [
       "Unexpected JPEG decode failure\t file: ./PetImages/Dog/5604.jpg"
      ]
     },
     "metadata": {},
     "output_type": "display_data"
    },
    {
     "data": {
      "text/html": [
       "<pre>Unexpected JPEG decode failure\t file: ./PetImages/Dog/561.jpg</pre>"
      ],
      "text/plain": [
       "Unexpected JPEG decode failure\t file: ./PetImages/Dog/561.jpg"
      ]
     },
     "metadata": {},
     "output_type": "display_data"
    },
    {
     "data": {
      "text/html": [
       "<pre>Unexpected JPEG decode failure\t file: ./PetImages/Dog/5618.jpg</pre>"
      ],
      "text/plain": [
       "Unexpected JPEG decode failure\t file: ./PetImages/Dog/5618.jpg"
      ]
     },
     "metadata": {},
     "output_type": "display_data"
    },
    {
     "data": {
      "text/html": [
       "<pre>Unexpected JPEG decode failure\t file: ./PetImages/Dog/565.jpg</pre>"
      ],
      "text/plain": [
       "Unexpected JPEG decode failure\t file: ./PetImages/Dog/565.jpg"
      ]
     },
     "metadata": {},
     "output_type": "display_data"
    },
    {
     "data": {
      "text/html": [
       "<pre>Unexpected JPEG decode failure\t file: ./PetImages/Dog/573.jpg</pre>"
      ],
      "text/plain": [
       "Unexpected JPEG decode failure\t file: ./PetImages/Dog/573.jpg"
      ]
     },
     "metadata": {},
     "output_type": "display_data"
    },
    {
     "data": {
      "text/html": [
       "<pre>Unexpected JPEG decode failure\t file: ./PetImages/Dog/5730.jpg</pre>"
      ],
      "text/plain": [
       "Unexpected JPEG decode failure\t file: ./PetImages/Dog/5730.jpg"
      ]
     },
     "metadata": {},
     "output_type": "display_data"
    },
    {
     "data": {
      "text/html": [
       "<pre>Unexpected JPEG decode failure\t file: ./PetImages/Dog/5736.jpg</pre>"
      ],
      "text/plain": [
       "Unexpected JPEG decode failure\t file: ./PetImages/Dog/5736.jpg"
      ]
     },
     "metadata": {},
     "output_type": "display_data"
    },
    {
     "data": {
      "text/html": [
       "<pre>Unexpected JPEG decode failure\t file: ./PetImages/Dog/5790.jpg</pre>"
      ],
      "text/plain": [
       "Unexpected JPEG decode failure\t file: ./PetImages/Dog/5790.jpg"
      ]
     },
     "metadata": {},
     "output_type": "display_data"
    },
    {
     "data": {
      "text/html": [
       "<pre>Unexpected JPEG decode failure\t file: ./PetImages/Dog/5955.jpg</pre>"
      ],
      "text/plain": [
       "Unexpected JPEG decode failure\t file: ./PetImages/Dog/5955.jpg"
      ]
     },
     "metadata": {},
     "output_type": "display_data"
    },
    {
     "data": {
      "text/html": [
       "<pre>Unexpected JPEG decode failure\t file: ./PetImages/Dog/6032.jpg</pre>"
      ],
      "text/plain": [
       "Unexpected JPEG decode failure\t file: ./PetImages/Dog/6032.jpg"
      ]
     },
     "metadata": {},
     "output_type": "display_data"
    },
    {
     "data": {
      "text/html": [
       "<pre>Unexpected JPEG decode failure\t file: ./PetImages/Dog/6059.jpg</pre>"
      ],
      "text/plain": [
       "Unexpected JPEG decode failure\t file: ./PetImages/Dog/6059.jpg"
      ]
     },
     "metadata": {},
     "output_type": "display_data"
    },
    {
     "data": {
      "text/html": [
       "<pre>Unexpected JPEG decode failure\t file: ./PetImages/Dog/6213.jpg</pre>"
      ],
      "text/plain": [
       "Unexpected JPEG decode failure\t file: ./PetImages/Dog/6213.jpg"
      ]
     },
     "metadata": {},
     "output_type": "display_data"
    },
    {
     "data": {
      "text/html": [
       "<pre>Unexpected JPEG decode failure\t file: ./PetImages/Dog/6238.jpg</pre>"
      ],
      "text/plain": [
       "Unexpected JPEG decode failure\t file: ./PetImages/Dog/6238.jpg"
      ]
     },
     "metadata": {},
     "output_type": "display_data"
    },
    {
     "data": {
      "text/html": [
       "<pre>Unexpected JPEG decode failure\t file: ./PetImages/Dog/6305.jpg</pre>"
      ],
      "text/plain": [
       "Unexpected JPEG decode failure\t file: ./PetImages/Dog/6305.jpg"
      ]
     },
     "metadata": {},
     "output_type": "display_data"
    },
    {
     "data": {
      "text/html": [
       "<pre>Unexpected JPEG decode failure\t file: ./PetImages/Dog/6318.jpg</pre>"
      ],
      "text/plain": [
       "Unexpected JPEG decode failure\t file: ./PetImages/Dog/6318.jpg"
      ]
     },
     "metadata": {},
     "output_type": "display_data"
    },
    {
     "data": {
      "text/html": [
       "<pre>Unexpected JPEG decode failure\t file: ./PetImages/Dog/6430.jpg</pre>"
      ],
      "text/plain": [
       "Unexpected JPEG decode failure\t file: ./PetImages/Dog/6430.jpg"
      ]
     },
     "metadata": {},
     "output_type": "display_data"
    },
    {
     "data": {
      "text/html": [
       "<pre>Unexpected JPEG decode failure\t file: ./PetImages/Dog/6500.jpg</pre>"
      ],
      "text/plain": [
       "Unexpected JPEG decode failure\t file: ./PetImages/Dog/6500.jpg"
      ]
     },
     "metadata": {},
     "output_type": "display_data"
    },
    {
     "data": {
      "text/html": [
       "<pre>Unexpected JPEG decode failure\t file: ./PetImages/Dog/6503.jpg</pre>"
      ],
      "text/plain": [
       "Unexpected JPEG decode failure\t file: ./PetImages/Dog/6503.jpg"
      ]
     },
     "metadata": {},
     "output_type": "display_data"
    },
    {
     "data": {
      "text/html": [
       "<pre>Unexpected JPEG decode failure\t file: ./PetImages/Dog/6555.jpg</pre>"
      ],
      "text/plain": [
       "Unexpected JPEG decode failure\t file: ./PetImages/Dog/6555.jpg"
      ]
     },
     "metadata": {},
     "output_type": "display_data"
    },
    {
     "data": {
      "text/html": [
       "<pre>Unexpected JPEG decode failure\t file: ./PetImages/Dog/663.jpg</pre>"
      ],
      "text/plain": [
       "Unexpected JPEG decode failure\t file: ./PetImages/Dog/663.jpg"
      ]
     },
     "metadata": {},
     "output_type": "display_data"
    },
    {
     "data": {
      "text/html": [
       "<pre>Unexpected JPEG decode failure\t file: ./PetImages/Dog/6718.jpg</pre>"
      ],
      "text/plain": [
       "Unexpected JPEG decode failure\t file: ./PetImages/Dog/6718.jpg"
      ]
     },
     "metadata": {},
     "output_type": "display_data"
    },
    {
     "data": {
      "text/html": [
       "<pre>Unexpected JPEG decode failure\t file: ./PetImages/Dog/6855.jpg</pre>"
      ],
      "text/plain": [
       "Unexpected JPEG decode failure\t file: ./PetImages/Dog/6855.jpg"
      ]
     },
     "metadata": {},
     "output_type": "display_data"
    },
    {
     "data": {
      "text/html": [
       "<pre>Unexpected JPEG decode failure\t file: ./PetImages/Dog/7112.jpg</pre>"
      ],
      "text/plain": [
       "Unexpected JPEG decode failure\t file: ./PetImages/Dog/7112.jpg"
      ]
     },
     "metadata": {},
     "output_type": "display_data"
    },
    {
     "data": {
      "text/html": [
       "<pre>Unexpected JPEG decode failure\t file: ./PetImages/Dog/7128.jpg</pre>"
      ],
      "text/plain": [
       "Unexpected JPEG decode failure\t file: ./PetImages/Dog/7128.jpg"
      ]
     },
     "metadata": {},
     "output_type": "display_data"
    },
    {
     "data": {
      "text/html": [
       "<pre>Unexpected JPEG decode failure\t file: ./PetImages/Dog/7133.jpg</pre>"
      ],
      "text/plain": [
       "Unexpected JPEG decode failure\t file: ./PetImages/Dog/7133.jpg"
      ]
     },
     "metadata": {},
     "output_type": "display_data"
    },
    {
     "data": {
      "text/html": [
       "<pre>Read 21671 images in 25.0024 secs\tspeed: 768.536 file/sec</pre>"
      ],
      "text/plain": [
       "Read 21671 images in 25.0024 secs\tspeed: 768.536 file/sec"
      ]
     },
     "metadata": {},
     "output_type": "display_data"
    },
    {
     "data": {
      "text/html": [
       "<pre>Unexpected JPEG decode failure\t file: ./PetImages/Dog/719.jpg</pre>"
      ],
      "text/plain": [
       "Unexpected JPEG decode failure\t file: ./PetImages/Dog/719.jpg"
      ]
     },
     "metadata": {},
     "output_type": "display_data"
    },
    {
     "data": {
      "text/html": [
       "<pre>Unexpected JPEG decode failure\t file: ./PetImages/Dog/7311.jpg</pre>"
      ],
      "text/plain": [
       "Unexpected JPEG decode failure\t file: ./PetImages/Dog/7311.jpg"
      ]
     },
     "metadata": {},
     "output_type": "display_data"
    },
    {
     "data": {
      "text/html": [
       "<pre>Unexpected JPEG decode failure\t file: ./PetImages/Dog/7369.jpg</pre>"
      ],
      "text/plain": [
       "Unexpected JPEG decode failure\t file: ./PetImages/Dog/7369.jpg"
      ]
     },
     "metadata": {},
     "output_type": "display_data"
    },
    {
     "data": {
      "text/html": [
       "<pre>Unexpected JPEG decode failure\t file: ./PetImages/Dog/7459.jpg</pre>"
      ],
      "text/plain": [
       "Unexpected JPEG decode failure\t file: ./PetImages/Dog/7459.jpg"
      ]
     },
     "metadata": {},
     "output_type": "display_data"
    },
    {
     "data": {
      "text/html": [
       "<pre>Unexpected JPEG decode failure\t file: ./PetImages/Dog/7514.jpg</pre>"
      ],
      "text/plain": [
       "Unexpected JPEG decode failure\t file: ./PetImages/Dog/7514.jpg"
      ]
     },
     "metadata": {},
     "output_type": "display_data"
    },
    {
     "data": {
      "text/html": [
       "<pre>Unexpected JPEG decode failure\t file: ./PetImages/Dog/7652.jpg</pre>"
      ],
      "text/plain": [
       "Unexpected JPEG decode failure\t file: ./PetImages/Dog/7652.jpg"
      ]
     },
     "metadata": {},
     "output_type": "display_data"
    },
    {
     "data": {
      "text/html": [
       "<pre>Unexpected JPEG decode failure\t file: ./PetImages/Dog/7718.jpg</pre>"
      ],
      "text/plain": [
       "Unexpected JPEG decode failure\t file: ./PetImages/Dog/7718.jpg"
      ]
     },
     "metadata": {},
     "output_type": "display_data"
    },
    {
     "data": {
      "text/html": [
       "<pre>Unexpected JPEG decode failure\t file: ./PetImages/Dog/7739.jpg</pre>"
      ],
      "text/plain": [
       "Unexpected JPEG decode failure\t file: ./PetImages/Dog/7739.jpg"
      ]
     },
     "metadata": {},
     "output_type": "display_data"
    },
    {
     "data": {
      "text/html": [
       "<pre>Unexpected JPEG decode failure\t file: ./PetImages/Dog/7743.jpg</pre>"
      ],
      "text/plain": [
       "Unexpected JPEG decode failure\t file: ./PetImages/Dog/7743.jpg"
      ]
     },
     "metadata": {},
     "output_type": "display_data"
    },
    {
     "data": {
      "text/html": [
       "<pre>Unexpected JPEG decode failure\t file: ./PetImages/Dog/7969.jpg</pre>"
      ],
      "text/plain": [
       "Unexpected JPEG decode failure\t file: ./PetImages/Dog/7969.jpg"
      ]
     },
     "metadata": {},
     "output_type": "display_data"
    },
    {
     "data": {
      "text/html": [
       "<pre>Unexpected JPEG decode failure\t file: ./PetImages/Dog/8126.jpg</pre>"
      ],
      "text/plain": [
       "Unexpected JPEG decode failure\t file: ./PetImages/Dog/8126.jpg"
      ]
     },
     "metadata": {},
     "output_type": "display_data"
    },
    {
     "data": {
      "text/html": [
       "<pre>Unexpected JPEG decode failure\t file: ./PetImages/Dog/8194.jpg</pre>"
      ],
      "text/plain": [
       "Unexpected JPEG decode failure\t file: ./PetImages/Dog/8194.jpg"
      ]
     },
     "metadata": {},
     "output_type": "display_data"
    },
    {
     "data": {
      "text/html": [
       "<pre>Unexpected JPEG decode failure\t file: ./PetImages/Dog/8364.jpg</pre>"
      ],
      "text/plain": [
       "Unexpected JPEG decode failure\t file: ./PetImages/Dog/8364.jpg"
      ]
     },
     "metadata": {},
     "output_type": "display_data"
    },
    {
     "data": {
      "text/html": [
       "<pre>Unexpected JPEG decode failure\t file: ./PetImages/Dog/8521.jpg</pre>"
      ],
      "text/plain": [
       "Unexpected JPEG decode failure\t file: ./PetImages/Dog/8521.jpg"
      ]
     },
     "metadata": {},
     "output_type": "display_data"
    },
    {
     "data": {
      "text/html": [
       "<pre>Unexpected JPEG decode failure\t file: ./PetImages/Dog/8557.jpg</pre>"
      ],
      "text/plain": [
       "Unexpected JPEG decode failure\t file: ./PetImages/Dog/8557.jpg"
      ]
     },
     "metadata": {},
     "output_type": "display_data"
    },
    {
     "data": {
      "text/html": [
       "<pre>Unexpected JPEG decode failure\t file: ./PetImages/Dog/8563.jpg</pre>"
      ],
      "text/plain": [
       "Unexpected JPEG decode failure\t file: ./PetImages/Dog/8563.jpg"
      ]
     },
     "metadata": {},
     "output_type": "display_data"
    },
    {
     "data": {
      "text/html": [
       "<pre>Unexpected JPEG decode failure\t file: ./PetImages/Dog/8641.jpg</pre>"
      ],
      "text/plain": [
       "Unexpected JPEG decode failure\t file: ./PetImages/Dog/8641.jpg"
      ]
     },
     "metadata": {},
     "output_type": "display_data"
    },
    {
     "data": {
      "text/html": [
       "<pre>Unexpected JPEG decode failure\t file: ./PetImages/Dog/8693.jpg</pre>"
      ],
      "text/plain": [
       "Unexpected JPEG decode failure\t file: ./PetImages/Dog/8693.jpg"
      ]
     },
     "metadata": {},
     "output_type": "display_data"
    },
    {
     "data": {
      "text/html": [
       "<pre>Unexpected JPEG decode failure\t file: ./PetImages/Dog/8715.jpg</pre>"
      ],
      "text/plain": [
       "Unexpected JPEG decode failure\t file: ./PetImages/Dog/8715.jpg"
      ]
     },
     "metadata": {},
     "output_type": "display_data"
    },
    {
     "data": {
      "text/html": [
       "<pre>Unexpected JPEG decode failure\t file: ./PetImages/Dog/8730.jpg</pre>"
      ],
      "text/plain": [
       "Unexpected JPEG decode failure\t file: ./PetImages/Dog/8730.jpg"
      ]
     },
     "metadata": {},
     "output_type": "display_data"
    },
    {
     "data": {
      "text/html": [
       "<pre>Unexpected JPEG decode failure\t file: ./PetImages/Dog/8889.jpg</pre>"
      ],
      "text/plain": [
       "Unexpected JPEG decode failure\t file: ./PetImages/Dog/8889.jpg"
      ]
     },
     "metadata": {},
     "output_type": "display_data"
    },
    {
     "data": {
      "text/html": [
       "<pre>Unexpected JPEG decode failure\t file: ./PetImages/Dog/9026.jpg</pre>"
      ],
      "text/plain": [
       "Unexpected JPEG decode failure\t file: ./PetImages/Dog/9026.jpg"
      ]
     },
     "metadata": {},
     "output_type": "display_data"
    },
    {
     "data": {
      "text/html": [
       "<pre>Unexpected JPEG decode failure\t file: ./PetImages/Dog/9043.jpg</pre>"
      ],
      "text/plain": [
       "Unexpected JPEG decode failure\t file: ./PetImages/Dog/9043.jpg"
      ]
     },
     "metadata": {},
     "output_type": "display_data"
    },
    {
     "data": {
      "text/html": [
       "<pre>Unexpected JPEG decode failure\t file: ./PetImages/Dog/9145.jpg</pre>"
      ],
      "text/plain": [
       "Unexpected JPEG decode failure\t file: ./PetImages/Dog/9145.jpg"
      ]
     },
     "metadata": {},
     "output_type": "display_data"
    },
    {
     "data": {
      "text/html": [
       "<pre>Unexpected JPEG decode failure\t file: ./PetImages/Dog/9188.jpg</pre>"
      ],
      "text/plain": [
       "Unexpected JPEG decode failure\t file: ./PetImages/Dog/9188.jpg"
      ]
     },
     "metadata": {},
     "output_type": "display_data"
    },
    {
     "data": {
      "text/html": [
       "<pre>Unexpected JPEG decode failure\t file: ./PetImages/Dog/9367.jpg</pre>"
      ],
      "text/plain": [
       "Unexpected JPEG decode failure\t file: ./PetImages/Dog/9367.jpg"
      ]
     },
     "metadata": {},
     "output_type": "display_data"
    },
    {
     "data": {
      "text/html": [
       "<pre>Unexpected JPEG decode failure\t file: ./PetImages/Dog/9414.jpg</pre>"
      ],
      "text/plain": [
       "Unexpected JPEG decode failure\t file: ./PetImages/Dog/9414.jpg"
      ]
     },
     "metadata": {},
     "output_type": "display_data"
    },
    {
     "data": {
      "text/html": [
       "<pre>Unexpected JPEG decode failure\t file: ./PetImages/Dog/9500.jpg</pre>"
      ],
      "text/plain": [
       "Unexpected JPEG decode failure\t file: ./PetImages/Dog/9500.jpg"
      ]
     },
     "metadata": {},
     "output_type": "display_data"
    },
    {
     "data": {
      "text/html": [
       "<pre>Unexpected JPEG decode failure\t file: ./PetImages/Dog/9556.jpg</pre>"
      ],
      "text/plain": [
       "Unexpected JPEG decode failure\t file: ./PetImages/Dog/9556.jpg"
      ]
     },
     "metadata": {},
     "output_type": "display_data"
    },
    {
     "data": {
      "text/html": [
       "<pre>Unexpected JPEG decode failure\t file: ./PetImages/Dog/9640.jpg</pre>"
      ],
      "text/plain": [
       "Unexpected JPEG decode failure\t file: ./PetImages/Dog/9640.jpg"
      ]
     },
     "metadata": {},
     "output_type": "display_data"
    },
    {
     "data": {
      "text/html": [
       "<pre>Unexpected JPEG decode failure\t file: ./PetImages/Dog/9643.jpg</pre>"
      ],
      "text/plain": [
       "Unexpected JPEG decode failure\t file: ./PetImages/Dog/9643.jpg"
      ]
     },
     "metadata": {},
     "output_type": "display_data"
    },
    {
     "data": {
      "text/html": [
       "<pre>Unexpected JPEG decode failure\t file: ./PetImages/Dog/9851.jpg</pre>"
      ],
      "text/plain": [
       "Unexpected JPEG decode failure\t file: ./PetImages/Dog/9851.jpg"
      ]
     },
     "metadata": {},
     "output_type": "display_data"
    },
    {
     "data": {
      "text/html": [
       "<pre>Unexpected JPEG decode failure\t file: ./PetImages/Dog/9961.jpg</pre>"
      ],
      "text/plain": [
       "Unexpected JPEG decode failure\t file: ./PetImages/Dog/9961.jpg"
      ]
     },
     "metadata": {},
     "output_type": "display_data"
    },
    {
     "data": {
      "text/html": [
       "<pre>Unexpected JPEG decode failure\t file: ./PetImages/Dog/9967.jpg</pre>"
      ],
      "text/plain": [
       "Unexpected JPEG decode failure\t file: ./PetImages/Dog/9967.jpg"
      ]
     },
     "metadata": {},
     "output_type": "display_data"
    },
    {
     "data": {
      "text/html": [
       "<pre>Materializing SFrame</pre>"
      ],
      "text/plain": [
       "Materializing SFrame"
      ]
     },
     "metadata": {},
     "output_type": "display_data"
    }
   ],
   "source": [
    "import turicreate as tc\n",
    "\n",
    "# データセットの読み込み\n",
    "data = tc.image_analysis.load_images('./PetImages', with_path=True)\n",
    "\n",
    "# パス名からラベルを生成\n",
    "data['label'] = data['path'].apply(lambda path: 'dog' if '/Dog' in path else 'cat')\n",
    "\n",
    "# データセットの確認\n",
    "data.explore()\n",
    "\n",
    "# 訓練データと評価データの分割\n",
    "train_data, test_data = data.random_split(0.8)"
   ]
  },
  {
   "cell_type": "code",
   "execution_count": null,
   "metadata": {},
   "outputs": [
    {
     "name": "stdout",
     "output_type": "stream",
     "text": [
      "Downloading https://docs-assets.developer.apple.com/turicreate/models/resnet-50-symbol.json\n",
      "Download completed: /var/folders/gx/c__vwtf50339svt6kx9bg_y00000gn/T/model_cache/resnet-50-symbol.json\n",
      "Downloading https://docs-assets.developer.apple.com/turicreate/models/resnet-50-0000.params\n",
      "Download completed: /var/folders/gx/c__vwtf50339svt6kx9bg_y00000gn/T/model_cache/resnet-50-0000.params\n"
     ]
    },
    {
     "name": "stderr",
     "output_type": "stream",
     "text": [
      "/Users/furukawahidekazu/anaconda3/envs/turicreate/lib/python3.6/site-packages/coremltools/_deps/__init__.py:100: DeprecationWarning: The 'warn' function is deprecated, use 'warning' instead\n",
      "  % (keras.__version__, KERAS_MAX_VERSION))\n",
      "WARNING:root:Keras version 2.2.2 detected. Last version known to be fully compatible of Keras is 2.1.6 .\n",
      "/Users/furukawahidekazu/anaconda3/envs/turicreate/lib/python3.6/site-packages/coremltools/_deps/__init__.py:118: DeprecationWarning: The 'warn' function is deprecated, use 'warning' instead\n",
      "  % (tensorflow.__version__, TF_MAX_VERSION))\n",
      "WARNING:root:TensorFlow version 1.9.0 detected. Last version known to be fully compatible is 1.5.0 .\n"
     ]
    },
    {
     "data": {
      "text/html": [
       "<pre>Analyzing and extracting image features.</pre>"
      ],
      "text/plain": [
       "Analyzing and extracting image features."
      ]
     },
     "metadata": {},
     "output_type": "display_data"
    },
    {
     "data": {
      "text/html": [
       "<pre>+------------------+--------------+------------------+</pre>"
      ],
      "text/plain": [
       "+------------------+--------------+------------------+"
      ]
     },
     "metadata": {},
     "output_type": "display_data"
    },
    {
     "data": {
      "text/html": [
       "<pre>| Images Processed | Elapsed Time | Percent Complete |</pre>"
      ],
      "text/plain": [
       "| Images Processed | Elapsed Time | Percent Complete |"
      ]
     },
     "metadata": {},
     "output_type": "display_data"
    },
    {
     "data": {
      "text/html": [
       "<pre>+------------------+--------------+------------------+</pre>"
      ],
      "text/plain": [
       "+------------------+--------------+------------------+"
      ]
     },
     "metadata": {},
     "output_type": "display_data"
    },
    {
     "data": {
      "text/html": [
       "<pre>| 64               | 1.64s        | 0.25%            |</pre>"
      ],
      "text/plain": [
       "| 64               | 1.64s        | 0.25%            |"
      ]
     },
     "metadata": {},
     "output_type": "display_data"
    },
    {
     "data": {
      "text/html": [
       "<pre>| 128              | 2.67s        | 0.5%             |</pre>"
      ],
      "text/plain": [
       "| 128              | 2.67s        | 0.5%             |"
      ]
     },
     "metadata": {},
     "output_type": "display_data"
    },
    {
     "data": {
      "text/html": [
       "<pre>| 192              | 3.74s        | 0.75%            |</pre>"
      ],
      "text/plain": [
       "| 192              | 3.74s        | 0.75%            |"
      ]
     },
     "metadata": {},
     "output_type": "display_data"
    },
    {
     "data": {
      "text/html": [
       "<pre>| 256              | 4.76s        | 1.25%            |</pre>"
      ],
      "text/plain": [
       "| 256              | 4.76s        | 1.25%            |"
      ]
     },
     "metadata": {},
     "output_type": "display_data"
    },
    {
     "data": {
      "text/html": [
       "<pre>| 320              | 5.78s        | 1.5%             |</pre>"
      ],
      "text/plain": [
       "| 320              | 5.78s        | 1.5%             |"
      ]
     },
     "metadata": {},
     "output_type": "display_data"
    },
    {
     "data": {
      "text/html": [
       "<pre>| 640              | 11.00s       | 3%               |</pre>"
      ],
      "text/plain": [
       "| 640              | 11.00s       | 3%               |"
      ]
     },
     "metadata": {},
     "output_type": "display_data"
    },
    {
     "data": {
      "text/html": [
       "<pre>| 960              | 16.24s       | 4.75%            |</pre>"
      ],
      "text/plain": [
       "| 960              | 16.24s       | 4.75%            |"
      ]
     },
     "metadata": {},
     "output_type": "display_data"
    },
    {
     "data": {
      "text/html": [
       "<pre>| 1280             | 21.49s       | 6.25%            |</pre>"
      ],
      "text/plain": [
       "| 1280             | 21.49s       | 6.25%            |"
      ]
     },
     "metadata": {},
     "output_type": "display_data"
    },
    {
     "data": {
      "text/html": [
       "<pre>| 1600             | 26.74s       | 8%               |</pre>"
      ],
      "text/plain": [
       "| 1600             | 26.74s       | 8%               |"
      ]
     },
     "metadata": {},
     "output_type": "display_data"
    },
    {
     "data": {
      "text/html": [
       "<pre>| 1920             | 31.99s       | 9.5%             |</pre>"
      ],
      "text/plain": [
       "| 1920             | 31.99s       | 9.5%             |"
      ]
     },
     "metadata": {},
     "output_type": "display_data"
    },
    {
     "data": {
      "text/html": [
       "<pre>| 2240             | 37.23s       | 11.25%           |</pre>"
      ],
      "text/plain": [
       "| 2240             | 37.23s       | 11.25%           |"
      ]
     },
     "metadata": {},
     "output_type": "display_data"
    },
    {
     "data": {
      "text/html": [
       "<pre>| 2560             | 42.47s       | 12.75%           |</pre>"
      ],
      "text/plain": [
       "| 2560             | 42.47s       | 12.75%           |"
      ]
     },
     "metadata": {},
     "output_type": "display_data"
    },
    {
     "data": {
      "text/html": [
       "<pre>| 2880             | 47.70s       | 14.25%           |</pre>"
      ],
      "text/plain": [
       "| 2880             | 47.70s       | 14.25%           |"
      ]
     },
     "metadata": {},
     "output_type": "display_data"
    },
    {
     "data": {
      "text/html": [
       "<pre>| 3200             | 52.94s       | 16%              |</pre>"
      ],
      "text/plain": [
       "| 3200             | 52.94s       | 16%              |"
      ]
     },
     "metadata": {},
     "output_type": "display_data"
    }
   ],
   "source": [
    "# 学習\n",
    "model = tc.image_classifier.create(train_data, target='label')"
   ]
  },
  {
   "cell_type": "code",
   "execution_count": null,
   "metadata": {},
   "outputs": [],
   "source": [
    "# 評価\n",
    "metrics = model.evaluate(test_data)\n",
    "\n",
    "# 評価データの正解率\n",
    "print(metrics['accuracy'])"
   ]
  },
  {
   "cell_type": "code",
   "execution_count": null,
   "metadata": {},
   "outputs": [],
   "source": [
    "# Turi Createモデルの保存\n",
    "model.save('./ImageClassification.model')\n",
    "\n",
    "# Core ML形式のモデルの保存\n",
    "model.export_coreml('./ImageClassification.mlmodel')"
   ]
  },
  {
   "cell_type": "code",
   "execution_count": null,
   "metadata": {},
   "outputs": [],
   "source": [
    "# 予測\n",
    "prediction = model.predict(tc.SFrame(data=test_data[0:1]))\n",
    "print(prediction)\n",
    "\n",
    "# 正解データ\n",
    "print(test_data[0:1]['label'])"
   ]
  }
 ],
 "metadata": {
  "kernelspec": {
   "display_name": "Python 3",
   "language": "python",
   "name": "python3"
  },
  "language_info": {
   "codemirror_mode": {
    "name": "ipython",
    "version": 3
   },
   "file_extension": ".py",
   "mimetype": "text/x-python",
   "name": "python",
   "nbconvert_exporter": "python",
   "pygments_lexer": "ipython3",
   "version": "3.6.5"
  }
 },
 "nbformat": 4,
 "nbformat_minor": 2
}
