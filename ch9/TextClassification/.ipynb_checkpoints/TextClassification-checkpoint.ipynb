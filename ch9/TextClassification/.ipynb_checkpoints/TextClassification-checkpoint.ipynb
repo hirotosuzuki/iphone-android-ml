{
 "cells": [
  {
   "cell_type": "code",
   "execution_count": 1,
   "metadata": {},
   "outputs": [
    {
     "name": "stderr",
     "output_type": "stream",
     "text": [
      "/Users/furukawahidekazu/anaconda3/envs/turicreate/lib/python3.6/importlib/_bootstrap.py:219: RuntimeWarning: numpy.dtype size changed, may indicate binary incompatibility. Expected 96, got 88\n",
      "  return f(*args, **kwds)\n",
      "/Users/furukawahidekazu/anaconda3/envs/turicreate/lib/python3.6/importlib/_bootstrap.py:219: RuntimeWarning: numpy.dtype size changed, may indicate binary incompatibility. Expected 96, got 88\n",
      "  return f(*args, **kwds)\n"
     ]
    }
   ],
   "source": [
    "# パッケージのインポート\n",
    "import tensorflow as tf\n",
    "from tensorflow import keras\n",
    "import numpy as np"
   ]
  },
  {
   "cell_type": "code",
   "execution_count": 2,
   "metadata": {},
   "outputs": [],
   "source": [
    "# IMDBデータセットの準備\n",
    "imdb = keras.datasets.imdb\n",
    "(train_data, train_labels), (test_data, test_labels) = imdb.load_data(num_words=10000)"
   ]
  },
  {
   "cell_type": "code",
   "execution_count": 3,
   "metadata": {},
   "outputs": [
    {
     "name": "stdout",
     "output_type": "stream",
     "text": [
      "25000 25000\n"
     ]
    }
   ],
   "source": [
    "# 訓練データと訓練ラベルの配列の長さが25,000件\n",
    "print(len(train_data), len(train_labels))"
   ]
  },
  {
   "cell_type": "code",
   "execution_count": 4,
   "metadata": {},
   "outputs": [
    {
     "name": "stdout",
     "output_type": "stream",
     "text": [
      "25000 25000\n"
     ]
    }
   ],
   "source": [
    "# 評価データと評価ラベルの配列の長さが25,000件\n",
    "print(len(test_data), len(test_labels))"
   ]
  },
  {
   "cell_type": "code",
   "execution_count": 5,
   "metadata": {},
   "outputs": [
    {
     "data": {
      "text/plain": [
       "[1,\n",
       " 14,\n",
       " 22,\n",
       " 16,\n",
       " 43,\n",
       " 530,\n",
       " 973,\n",
       " 1622,\n",
       " 1385,\n",
       " 65,\n",
       " 458,\n",
       " 4468,\n",
       " 66,\n",
       " 3941,\n",
       " 4,\n",
       " 173,\n",
       " 36,\n",
       " 256,\n",
       " 5,\n",
       " 25,\n",
       " 100,\n",
       " 43,\n",
       " 838,\n",
       " 112,\n",
       " 50,\n",
       " 670,\n",
       " 2,\n",
       " 9,\n",
       " 35,\n",
       " 480,\n",
       " 284,\n",
       " 5,\n",
       " 150,\n",
       " 4,\n",
       " 172,\n",
       " 112,\n",
       " 167,\n",
       " 2,\n",
       " 336,\n",
       " 385,\n",
       " 39,\n",
       " 4,\n",
       " 172,\n",
       " 4536,\n",
       " 1111,\n",
       " 17,\n",
       " 546,\n",
       " 38,\n",
       " 13,\n",
       " 447,\n",
       " 4,\n",
       " 192,\n",
       " 50,\n",
       " 16,\n",
       " 6,\n",
       " 147,\n",
       " 2025,\n",
       " 19,\n",
       " 14,\n",
       " 22,\n",
       " 4,\n",
       " 1920,\n",
       " 4613,\n",
       " 469,\n",
       " 4,\n",
       " 22,\n",
       " 71,\n",
       " 87,\n",
       " 12,\n",
       " 16,\n",
       " 43,\n",
       " 530,\n",
       " 38,\n",
       " 76,\n",
       " 15,\n",
       " 13,\n",
       " 1247,\n",
       " 4,\n",
       " 22,\n",
       " 17,\n",
       " 515,\n",
       " 17,\n",
       " 12,\n",
       " 16,\n",
       " 626,\n",
       " 18,\n",
       " 2,\n",
       " 5,\n",
       " 62,\n",
       " 386,\n",
       " 12,\n",
       " 8,\n",
       " 316,\n",
       " 8,\n",
       " 106,\n",
       " 5,\n",
       " 4,\n",
       " 2223,\n",
       " 5244,\n",
       " 16,\n",
       " 480,\n",
       " 66,\n",
       " 3785,\n",
       " 33,\n",
       " 4,\n",
       " 130,\n",
       " 12,\n",
       " 16,\n",
       " 38,\n",
       " 619,\n",
       " 5,\n",
       " 25,\n",
       " 124,\n",
       " 51,\n",
       " 36,\n",
       " 135,\n",
       " 48,\n",
       " 25,\n",
       " 1415,\n",
       " 33,\n",
       " 6,\n",
       " 22,\n",
       " 12,\n",
       " 215,\n",
       " 28,\n",
       " 77,\n",
       " 52,\n",
       " 5,\n",
       " 14,\n",
       " 407,\n",
       " 16,\n",
       " 82,\n",
       " 2,\n",
       " 8,\n",
       " 4,\n",
       " 107,\n",
       " 117,\n",
       " 5952,\n",
       " 15,\n",
       " 256,\n",
       " 4,\n",
       " 2,\n",
       " 7,\n",
       " 3766,\n",
       " 5,\n",
       " 723,\n",
       " 36,\n",
       " 71,\n",
       " 43,\n",
       " 530,\n",
       " 476,\n",
       " 26,\n",
       " 400,\n",
       " 317,\n",
       " 46,\n",
       " 7,\n",
       " 4,\n",
       " 2,\n",
       " 1029,\n",
       " 13,\n",
       " 104,\n",
       " 88,\n",
       " 4,\n",
       " 381,\n",
       " 15,\n",
       " 297,\n",
       " 98,\n",
       " 32,\n",
       " 2071,\n",
       " 56,\n",
       " 26,\n",
       " 141,\n",
       " 6,\n",
       " 194,\n",
       " 7486,\n",
       " 18,\n",
       " 4,\n",
       " 226,\n",
       " 22,\n",
       " 21,\n",
       " 134,\n",
       " 476,\n",
       " 26,\n",
       " 480,\n",
       " 5,\n",
       " 144,\n",
       " 30,\n",
       " 5535,\n",
       " 18,\n",
       " 51,\n",
       " 36,\n",
       " 28,\n",
       " 224,\n",
       " 92,\n",
       " 25,\n",
       " 104,\n",
       " 4,\n",
       " 226,\n",
       " 65,\n",
       " 16,\n",
       " 38,\n",
       " 1334,\n",
       " 88,\n",
       " 12,\n",
       " 16,\n",
       " 283,\n",
       " 5,\n",
       " 16,\n",
       " 4472,\n",
       " 113,\n",
       " 103,\n",
       " 32,\n",
       " 15,\n",
       " 16,\n",
       " 5345,\n",
       " 19,\n",
       " 178,\n",
       " 32]"
      ]
     },
     "execution_count": 5,
     "metadata": {},
     "output_type": "execute_result"
    }
   ],
   "source": [
    "# 先頭の訓練データの確認\n",
    "train_data[0]"
   ]
  },
  {
   "cell_type": "code",
   "execution_count": 6,
   "metadata": {},
   "outputs": [
    {
     "data": {
      "text/plain": [
       "1"
      ]
     },
     "execution_count": 6,
     "metadata": {},
     "output_type": "execute_result"
    }
   ],
   "source": [
    "# 先頭の訓練ラベルの確認\n",
    "train_labels[0]"
   ]
  },
  {
   "cell_type": "code",
   "execution_count": 7,
   "metadata": {},
   "outputs": [
    {
     "data": {
      "text/plain": [
       "\"<START> this film was just brilliant casting location scenery story direction everyone's really suited the part they played and you could just imagine being there robert <UNK> is an amazing actor and now the same being director <UNK> father came from the same scottish island as myself so i loved the fact there was a real connection with this film the witty remarks throughout the film were great it was just brilliant so much that i bought the film as soon as it was released for <UNK> and would recommend it to everyone to watch and the fly fishing was amazing really cried at the end it was so sad and you know what they say if you cry at a film it must have been good and this definitely was also <UNK> to the two little boy's that played the <UNK> of norman and paul they were just brilliant children are often left out of the <UNK> list i think because the stars that play them all grown up are such a big profile for the whole film but these children are amazing and should be praised for what they have done don't you think the whole story was so lovely because it was true and was someone's life after all that was shared with us all\""
      ]
     },
     "execution_count": 7,
     "metadata": {},
     "output_type": "execute_result"
    }
   ],
   "source": [
    "# 単語を整数にマッピングする辞書の取得\n",
    "word_index = imdb.get_word_index()\n",
    "\n",
    "# 全てのインデックスに3加算\n",
    "word_index = {k:(v+3) for k,v in word_index.items()}\n",
    "\n",
    "# 予約語の追加\n",
    "word_index[\"<PAD>\"] = 0 # パディング\n",
    "word_index[\"<START>\"] = 1 # 開始\n",
    "word_index[\"<UNK>\"] = 2  # 不明\n",
    "word_index[\"<UNUSED>\"] = 3 # 未使用\n",
    "\n",
    "# 整数を単語にマッピングする辞書の生成\n",
    "reverse_word_index = dict([(value, key) for (key, value) in word_index.items()])\n",
    "\n",
    "#整数配列から文章に変換\n",
    "def decode_review(text):\n",
    "    return ' '.join([reverse_word_index.get(i, '?') for i in text])\n",
    "\n",
    "# 先頭の訓練データを文章に戻す\n",
    "decode_review(train_data[0])"
   ]
  },
  {
   "cell_type": "code",
   "execution_count": 8,
   "metadata": {},
   "outputs": [
    {
     "data": {
      "text/plain": [
       "(218, 189)"
      ]
     },
     "execution_count": 8,
     "metadata": {},
     "output_type": "execute_result"
    }
   ],
   "source": [
    "# 変換前の配列の長さの確認\n",
    "len(train_data[0]), len(train_data[1])"
   ]
  },
  {
   "cell_type": "code",
   "execution_count": 9,
   "metadata": {},
   "outputs": [],
   "source": [
    "# 配列を長さ256で揃える\n",
    "train_data = keras.preprocessing.sequence.pad_sequences(train_data,\n",
    "    value=word_index[\"<PAD>\"],\n",
    "    padding='post',\n",
    "    maxlen=256)\n",
    "test_data = keras.preprocessing.sequence.pad_sequences(test_data,\n",
    "    value=word_index[\"<PAD>\"],\n",
    "    padding='post',\n",
    "    maxlen=256)"
   ]
  },
  {
   "cell_type": "code",
   "execution_count": 10,
   "metadata": {},
   "outputs": [
    {
     "data": {
      "text/plain": [
       "(256, 256)"
      ]
     },
     "execution_count": 10,
     "metadata": {},
     "output_type": "execute_result"
    }
   ],
   "source": [
    "# 変換後の配列の長さの確認\n",
    "len(train_data[0]), len(train_data[1])"
   ]
  },
  {
   "cell_type": "code",
   "execution_count": 11,
   "metadata": {
    "scrolled": true
   },
   "outputs": [
    {
     "name": "stdout",
     "output_type": "stream",
     "text": [
      "[   1   14   22   16   43  530  973 1622 1385   65  458 4468   66 3941\n",
      "    4  173   36  256    5   25  100   43  838  112   50  670    2    9\n",
      "   35  480  284    5  150    4  172  112  167    2  336  385   39    4\n",
      "  172 4536 1111   17  546   38   13  447    4  192   50   16    6  147\n",
      " 2025   19   14   22    4 1920 4613  469    4   22   71   87   12   16\n",
      "   43  530   38   76   15   13 1247    4   22   17  515   17   12   16\n",
      "  626   18    2    5   62  386   12    8  316    8  106    5    4 2223\n",
      " 5244   16  480   66 3785   33    4  130   12   16   38  619    5   25\n",
      "  124   51   36  135   48   25 1415   33    6   22   12  215   28   77\n",
      "   52    5   14  407   16   82    2    8    4  107  117 5952   15  256\n",
      "    4    2    7 3766    5  723   36   71   43  530  476   26  400  317\n",
      "   46    7    4    2 1029   13  104   88    4  381   15  297   98   32\n",
      " 2071   56   26  141    6  194 7486   18    4  226   22   21  134  476\n",
      "   26  480    5  144   30 5535   18   51   36   28  224   92   25  104\n",
      "    4  226   65   16   38 1334   88   12   16  283    5   16 4472  113\n",
      "  103   32   15   16 5345   19  178   32    0    0    0    0    0    0\n",
      "    0    0    0    0    0    0    0    0    0    0    0    0    0    0\n",
      "    0    0    0    0    0    0    0    0    0    0    0    0    0    0\n",
      "    0    0    0    0]\n"
     ]
    }
   ],
   "source": [
    "# 変換後の配列の中身の確認\n",
    "print(train_data[0])"
   ]
  },
  {
   "cell_type": "code",
   "execution_count": 12,
   "metadata": {},
   "outputs": [
    {
     "name": "stdout",
     "output_type": "stream",
     "text": [
      "_________________________________________________________________\n",
      "Layer (type)                 Output Shape              Param #   \n",
      "=================================================================\n",
      "embedding (Embedding)        (None, None, 16)          160000    \n",
      "_________________________________________________________________\n",
      "global_average_pooling1d (Gl (None, 16)                0         \n",
      "_________________________________________________________________\n",
      "dense (Dense)                (None, 16)                272       \n",
      "_________________________________________________________________\n",
      "dense_1 (Dense)              (None, 1)                 17        \n",
      "=================================================================\n",
      "Total params: 160,289\n",
      "Trainable params: 160,289\n",
      "Non-trainable params: 0\n",
      "_________________________________________________________________\n"
     ]
    }
   ],
   "source": [
    "# モデル構造の作成\n",
    "model = keras.Sequential([\n",
    "    keras.layers.Embedding(10000, 16), # 入力層\n",
    "    keras.layers.GlobalAveragePooling1D(), # 隠れ層\n",
    "    keras.layers.Dense(16, activation=tf.nn.relu), # 隠れ層\n",
    "    keras.layers.Dense(1, activation=tf.nn.sigmoid) # 出力層\n",
    "])\n",
    "\n",
    "# モデルのコンパイル\n",
    "model.compile(\n",
    "    optimizer=keras.optimizers.Adam(),\n",
    "    loss='binary_crossentropy',\n",
    "    metrics=['accuracy'])\n",
    "\n",
    "# モデルの概要の表示\n",
    "model.summary()"
   ]
  },
  {
   "cell_type": "code",
   "execution_count": 14,
   "metadata": {},
   "outputs": [],
   "source": [
    "# 訓練データから検証データを分割\n",
    "x_val = train_data[:10000]\n",
    "partial_x_train = train_data[10000:]\n",
    "y_val = train_labels[:10000]\n",
    "partial_y_train = train_labels[10000:]"
   ]
  },
  {
   "cell_type": "code",
   "execution_count": 15,
   "metadata": {},
   "outputs": [
    {
     "name": "stderr",
     "output_type": "stream",
     "text": [
      "/Users/furukawahidekazu/anaconda3/envs/turicreate/lib/python3.6/site-packages/tensorflow/python/ops/gradients_impl.py:100: UserWarning: Converting sparse IndexedSlices to a dense Tensor of unknown shape. This may consume a large amount of memory.\n",
      "  \"Converting sparse IndexedSlices to a dense Tensor of unknown shape. \"\n"
     ]
    },
    {
     "name": "stdout",
     "output_type": "stream",
     "text": [
      "Train on 15000 samples, validate on 10000 samples\n",
      "Epoch 1/40\n",
      "15000/15000 [==============================] - 1s 36us/step - loss: 0.6920 - acc: 0.5141 - val_loss: 0.6914 - val_acc: 0.5186\n",
      "Epoch 2/40\n",
      "15000/15000 [==============================] - 0s 17us/step - loss: 0.6903 - acc: 0.5312 - val_loss: 0.6896 - val_acc: 0.5291\n",
      "Epoch 3/40\n",
      "15000/15000 [==============================] - 0s 17us/step - loss: 0.6882 - acc: 0.5500 - val_loss: 0.6877 - val_acc: 0.5518\n",
      "Epoch 4/40\n",
      "15000/15000 [==============================] - 0s 17us/step - loss: 0.6852 - acc: 0.5739 - val_loss: 0.6845 - val_acc: 0.5651\n",
      "Epoch 5/40\n",
      "15000/15000 [==============================] - 0s 17us/step - loss: 0.6805 - acc: 0.6203 - val_loss: 0.6789 - val_acc: 0.6489\n",
      "Epoch 6/40\n",
      "15000/15000 [==============================] - 0s 17us/step - loss: 0.6742 - acc: 0.6802 - val_loss: 0.6721 - val_acc: 0.6884\n",
      "Epoch 7/40\n",
      "15000/15000 [==============================] - 0s 17us/step - loss: 0.6654 - acc: 0.7107 - val_loss: 0.6630 - val_acc: 0.7064\n",
      "Epoch 8/40\n",
      "15000/15000 [==============================] - 0s 17us/step - loss: 0.6531 - acc: 0.7294 - val_loss: 0.6503 - val_acc: 0.7193\n",
      "Epoch 9/40\n",
      "15000/15000 [==============================] - 0s 17us/step - loss: 0.6371 - acc: 0.7436 - val_loss: 0.6333 - val_acc: 0.7355\n",
      "Epoch 10/40\n",
      "15000/15000 [==============================] - 0s 18us/step - loss: 0.6168 - acc: 0.7605 - val_loss: 0.6131 - val_acc: 0.7480\n",
      "Epoch 11/40\n",
      "15000/15000 [==============================] - 0s 17us/step - loss: 0.5935 - acc: 0.7639 - val_loss: 0.5919 - val_acc: 0.7552\n",
      "Epoch 12/40\n",
      "15000/15000 [==============================] - 0s 17us/step - loss: 0.5675 - acc: 0.7831 - val_loss: 0.5663 - val_acc: 0.7729\n",
      "Epoch 13/40\n",
      "15000/15000 [==============================] - 0s 17us/step - loss: 0.5395 - acc: 0.7989 - val_loss: 0.5416 - val_acc: 0.7864\n",
      "Epoch 14/40\n",
      "15000/15000 [==============================] - 0s 17us/step - loss: 0.5117 - acc: 0.8135 - val_loss: 0.5162 - val_acc: 0.7984\n",
      "Epoch 15/40\n",
      "15000/15000 [==============================] - 0s 17us/step - loss: 0.4838 - acc: 0.8246 - val_loss: 0.4911 - val_acc: 0.8090\n",
      "Epoch 16/40\n",
      "15000/15000 [==============================] - 0s 17us/step - loss: 0.4574 - acc: 0.8376 - val_loss: 0.4680 - val_acc: 0.8192\n",
      "Epoch 17/40\n",
      "15000/15000 [==============================] - 0s 17us/step - loss: 0.4314 - acc: 0.8487 - val_loss: 0.4466 - val_acc: 0.8296\n",
      "Epoch 18/40\n",
      "15000/15000 [==============================] - 0s 17us/step - loss: 0.4080 - acc: 0.8580 - val_loss: 0.4267 - val_acc: 0.8389\n",
      "Epoch 19/40\n",
      "15000/15000 [==============================] - 0s 18us/step - loss: 0.3867 - acc: 0.8655 - val_loss: 0.4093 - val_acc: 0.8448\n",
      "Epoch 20/40\n",
      "15000/15000 [==============================] - 0s 18us/step - loss: 0.3676 - acc: 0.8735 - val_loss: 0.3941 - val_acc: 0.8479\n",
      "Epoch 21/40\n",
      "15000/15000 [==============================] - 0s 17us/step - loss: 0.3503 - acc: 0.8795 - val_loss: 0.3806 - val_acc: 0.8540\n",
      "Epoch 22/40\n",
      "15000/15000 [==============================] - 0s 17us/step - loss: 0.3349 - acc: 0.8849 - val_loss: 0.3690 - val_acc: 0.8591\n",
      "Epoch 23/40\n",
      "15000/15000 [==============================] - 0s 17us/step - loss: 0.3213 - acc: 0.8877 - val_loss: 0.3594 - val_acc: 0.8604\n",
      "Epoch 24/40\n",
      "15000/15000 [==============================] - 0s 18us/step - loss: 0.3085 - acc: 0.8921 - val_loss: 0.3501 - val_acc: 0.8659\n",
      "Epoch 25/40\n",
      "15000/15000 [==============================] - 0s 18us/step - loss: 0.2972 - acc: 0.8963 - val_loss: 0.3424 - val_acc: 0.8680\n",
      "Epoch 26/40\n",
      "15000/15000 [==============================] - 0s 17us/step - loss: 0.2867 - acc: 0.8999 - val_loss: 0.3358 - val_acc: 0.8700\n",
      "Epoch 27/40\n",
      "15000/15000 [==============================] - 0s 17us/step - loss: 0.2776 - acc: 0.9004 - val_loss: 0.3299 - val_acc: 0.8719\n",
      "Epoch 28/40\n",
      "15000/15000 [==============================] - 0s 17us/step - loss: 0.2684 - acc: 0.9059 - val_loss: 0.3242 - val_acc: 0.8729\n",
      "Epoch 29/40\n",
      "15000/15000 [==============================] - 0s 17us/step - loss: 0.2601 - acc: 0.9073 - val_loss: 0.3198 - val_acc: 0.8756\n",
      "Epoch 30/40\n",
      "15000/15000 [==============================] - 0s 17us/step - loss: 0.2532 - acc: 0.9085 - val_loss: 0.3155 - val_acc: 0.8762\n",
      "Epoch 31/40\n",
      "15000/15000 [==============================] - 0s 17us/step - loss: 0.2453 - acc: 0.9127 - val_loss: 0.3120 - val_acc: 0.8766\n",
      "Epoch 32/40\n",
      "15000/15000 [==============================] - 0s 17us/step - loss: 0.2390 - acc: 0.9147 - val_loss: 0.3087 - val_acc: 0.8780\n",
      "Epoch 33/40\n",
      "15000/15000 [==============================] - 0s 17us/step - loss: 0.2320 - acc: 0.9178 - val_loss: 0.3059 - val_acc: 0.8796\n",
      "Epoch 34/40\n",
      "15000/15000 [==============================] - 0s 17us/step - loss: 0.2259 - acc: 0.9197 - val_loss: 0.3033 - val_acc: 0.8803\n",
      "Epoch 35/40\n",
      "15000/15000 [==============================] - 0s 17us/step - loss: 0.2206 - acc: 0.9213 - val_loss: 0.3007 - val_acc: 0.8800\n",
      "Epoch 36/40\n",
      "15000/15000 [==============================] - 0s 17us/step - loss: 0.2144 - acc: 0.9240 - val_loss: 0.2988 - val_acc: 0.8811\n",
      "Epoch 37/40\n",
      "15000/15000 [==============================] - 0s 17us/step - loss: 0.2093 - acc: 0.9270 - val_loss: 0.2974 - val_acc: 0.8822\n",
      "Epoch 38/40\n",
      "15000/15000 [==============================] - 0s 17us/step - loss: 0.2043 - acc: 0.9286 - val_loss: 0.2950 - val_acc: 0.8823\n",
      "Epoch 39/40\n",
      "15000/15000 [==============================] - 0s 17us/step - loss: 0.1990 - acc: 0.9309 - val_loss: 0.2937 - val_acc: 0.8830\n",
      "Epoch 40/40\n",
      "15000/15000 [==============================] - 0s 17us/step - loss: 0.1943 - acc: 0.9323 - val_loss: 0.2921 - val_acc: 0.8835\n"
     ]
    }
   ],
   "source": [
    "# 学習\n",
    "history = model.fit(\n",
    "    partial_x_train,\n",
    "    partial_y_train,\n",
    "    epochs=40,\n",
    "    batch_size=512,\n",
    "    validation_data=(x_val, y_val),\n",
    "    verbose=1)"
   ]
  },
  {
   "cell_type": "code",
   "execution_count": 16,
   "metadata": {
    "scrolled": true
   },
   "outputs": [
    {
     "name": "stdout",
     "output_type": "stream",
     "text": [
      "25000/25000 [==============================] - 0s 12us/step\n",
      "[0.3067206235408783, 0.87388]\n"
     ]
    }
   ],
   "source": [
    "# 評価\n",
    "results = model.evaluate(test_data, test_labels)\n",
    "print(results)"
   ]
  },
  {
   "cell_type": "code",
   "execution_count": 17,
   "metadata": {},
   "outputs": [
    {
     "data": {
      "text/plain": [
       "array([0.22234078], dtype=float32)"
      ]
     },
     "execution_count": 17,
     "metadata": {},
     "output_type": "execute_result"
    }
   ],
   "source": [
    "# 予測\n",
    "predictions = model.predict(test_data)\n",
    "predictions[0]"
   ]
  },
  {
   "cell_type": "code",
   "execution_count": 18,
   "metadata": {},
   "outputs": [
    {
     "data": {
      "text/plain": [
       "0"
      ]
     },
     "execution_count": 18,
     "metadata": {},
     "output_type": "execute_result"
    }
   ],
   "source": [
    "# 正解データ\n",
    "test_labels[0]"
   ]
  },
  {
   "cell_type": "code",
   "execution_count": 19,
   "metadata": {},
   "outputs": [],
   "source": [
    "# モデルの保存\n",
    "model.save('./text_classification.h5')"
   ]
  }
 ],
 "metadata": {
  "kernelspec": {
   "display_name": "Python 3",
   "language": "python",
   "name": "python3"
  },
  "language_info": {
   "codemirror_mode": {
    "name": "ipython",
    "version": 3
   },
   "file_extension": ".py",
   "mimetype": "text/x-python",
   "name": "python",
   "nbconvert_exporter": "python",
   "pygments_lexer": "ipython3",
   "version": "3.6.5"
  }
 },
 "nbformat": 4,
 "nbformat_minor": 2
}
