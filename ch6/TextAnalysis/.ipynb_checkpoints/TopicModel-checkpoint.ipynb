{
 "cells": [
  {
   "cell_type": "code",
   "execution_count": 1,
   "metadata": {},
   "outputs": [
    {
     "name": "stderr",
     "output_type": "stream",
     "text": [
      "/Users/furukawahidekazu/anaconda3/envs/turicreate/lib/python3.6/importlib/_bootstrap.py:219: RuntimeWarning: numpy.dtype size changed, may indicate binary incompatibility. Expected 96, got 88\n",
      "  return f(*args, **kwds)\n",
      "/Users/furukawahidekazu/anaconda3/envs/turicreate/lib/python3.6/importlib/_bootstrap.py:219: RuntimeWarning: numpy.dtype size changed, may indicate binary incompatibility. Expected 96, got 88\n",
      "  return f(*args, **kwds)\n"
     ]
    }
   ],
   "source": [
    "import turicreate as tc\n",
    "import os\n",
    "import re\n",
    "import MeCab\n",
    "\n",
    "# MeCabオブジェクトの生成\n",
    "tagger = MeCab.Tagger(\"-Owakati\")"
   ]
  },
  {
   "cell_type": "code",
   "execution_count": 2,
   "metadata": {},
   "outputs": [],
   "source": [
    "# ファイルの読み込み\n",
    "def read_file(path):\n",
    "    files = os.listdir(path)\n",
    "    array = []\n",
    "    for file in files:\n",
    "        if file.startswith('.'):\n",
    "            continue\n",
    "        file = open(path+file)\n",
    "        text = file.read()\n",
    "        text = re.sub(r'https?:\\/\\/[\\w\\/:%#\\$&\\?\\(\\)~\\.=\\+\\-]+',\"\", text) # URL削除\n",
    "        text = re.sub(r'\\d{4}-\\d{2}-\\d{2}T\\d{2}:\\d{2}:\\d{2}[+-]\\d{2}\\d{2}',\"\", text) # 時間削除\n",
    "        text = tagger.parse(text) # わかち書き\n",
    "        array.append(text)\n",
    "        file.close()\n",
    "    return tc.SFrame(data=array)"
   ]
  },
  {
   "cell_type": "code",
   "execution_count": 3,
   "metadata": {},
   "outputs": [
    {
     "data": {
      "text/html": [
       "<pre>Materializing SFrame</pre>"
      ],
      "text/plain": [
       "Materializing SFrame"
      ]
     },
     "metadata": {},
     "output_type": "display_data"
    }
   ],
   "source": [
    "# ITライフハックのデータセットの読み込み\n",
    "data = read_file('./text/it-life-hack/')\n",
    "data = data.rename({'X1': 'text'})\n",
    "data['label'] = 0\n",
    "\n",
    "# スポーツのデータセットの読み込み\n",
    "work_data = read_file('./text/sports-watch/')\n",
    "work_data = work_data.rename({'X1': 'text'})\n",
    "work_data['label'] = 1\n",
    "\n",
    "# ITライフハックとスポーツのデータセットを連結\n",
    "data = data.append(work_data)\n",
    "\n",
    "# データセットの確認\n",
    "data.explore()\n",
    "\n",
    "# 訓練データと評価データの分割\n",
    "train_data, test_data = data.random_split(0.8)"
   ]
  },
  {
   "cell_type": "code",
   "execution_count": 4,
   "metadata": {},
   "outputs": [
    {
     "data": {
      "text/html": [
       "<pre>Materializing SFrame</pre>"
      ],
      "text/plain": [
       "Materializing SFrame"
      ]
     },
     "metadata": {},
     "output_type": "display_data"
    }
   ],
   "source": [
    "# Bag-of-wordsへの変換\n",
    "bow = tc.text_analytics.count_words(train_data['text'])\n",
    "\n",
    "# Bag-of-wordsの確認\n",
    "bow.explore()"
   ]
  },
  {
   "cell_type": "code",
   "execution_count": 5,
   "metadata": {},
   "outputs": [
    {
     "data": {
      "text/html": [
       "<pre>Finished parsing file /Users/furukawahidekazu/Documents/store/book/MLPhone/sample/ch6/TextAnalysis/stop_words.txt</pre>"
      ],
      "text/plain": [
       "Finished parsing file /Users/furukawahidekazu/Documents/store/book/MLPhone/sample/ch6/TextAnalysis/stop_words.txt"
      ]
     },
     "metadata": {},
     "output_type": "display_data"
    },
    {
     "data": {
      "text/html": [
       "<pre>Parsing completed. Parsed 104 lines in 0.034646 secs.</pre>"
      ],
      "text/plain": [
       "Parsing completed. Parsed 104 lines in 0.034646 secs."
      ]
     },
     "metadata": {},
     "output_type": "display_data"
    },
    {
     "data": {
      "text/html": [
       "<pre>Materializing SFrame</pre>"
      ],
      "text/plain": [
       "Materializing SFrame"
      ]
     },
     "metadata": {},
     "output_type": "display_data"
    }
   ],
   "source": [
    "# ストップワードの読み込み\n",
    "stop_words = tc.SArray('./stop_words.txt')\n",
    "\n",
    "# ストップワードの削除\n",
    "bow = bow.dict_trim_by_keys(stop_words, exclude=True)\n",
    "\n",
    "# Bag-of-wordsの確認\n",
    "bow.explore()"
   ]
  },
  {
   "cell_type": "code",
   "execution_count": 6,
   "metadata": {},
   "outputs": [
    {
     "data": {
      "text/html": [
       "<pre>Learning a topic model</pre>"
      ],
      "text/plain": [
       "Learning a topic model"
      ]
     },
     "metadata": {},
     "output_type": "display_data"
    },
    {
     "data": {
      "text/html": [
       "<pre>       Number of documents      1415</pre>"
      ],
      "text/plain": [
       "       Number of documents      1415"
      ]
     },
     "metadata": {},
     "output_type": "display_data"
    },
    {
     "data": {
      "text/html": [
       "<pre>           Vocabulary size     25215</pre>"
      ],
      "text/plain": [
       "           Vocabulary size     25215"
      ]
     },
     "metadata": {},
     "output_type": "display_data"
    },
    {
     "data": {
      "text/html": [
       "<pre>   Running collapsed Gibbs sampling</pre>"
      ],
      "text/plain": [
       "   Running collapsed Gibbs sampling"
      ]
     },
     "metadata": {},
     "output_type": "display_data"
    },
    {
     "data": {
      "text/html": [
       "<pre>+-----------+---------------+----------------+-----------------+</pre>"
      ],
      "text/plain": [
       "+-----------+---------------+----------------+-----------------+"
      ]
     },
     "metadata": {},
     "output_type": "display_data"
    },
    {
     "data": {
      "text/html": [
       "<pre>| Iteration | Elapsed Time  | Tokens/Second  | Est. Perplexity |</pre>"
      ],
      "text/plain": [
       "| Iteration | Elapsed Time  | Tokens/Second  | Est. Perplexity |"
      ]
     },
     "metadata": {},
     "output_type": "display_data"
    },
    {
     "data": {
      "text/html": [
       "<pre>+-----------+---------------+----------------+-----------------+</pre>"
      ],
      "text/plain": [
       "+-----------+---------------+----------------+-----------------+"
      ]
     },
     "metadata": {},
     "output_type": "display_data"
    },
    {
     "data": {
      "text/html": [
       "<pre>| 10        | 389.602ms     | 6.96246e+06    | 0               |</pre>"
      ],
      "text/plain": [
       "| 10        | 389.602ms     | 6.96246e+06    | 0               |"
      ]
     },
     "metadata": {},
     "output_type": "display_data"
    },
    {
     "data": {
      "text/html": [
       "<pre>+-----------+---------------+----------------+-----------------+</pre>"
      ],
      "text/plain": [
       "+-----------+---------------+----------------+-----------------+"
      ]
     },
     "metadata": {},
     "output_type": "display_data"
    }
   ],
   "source": [
    "# モデルの生成\n",
    "model = tc.topic_model.create(bow)"
   ]
  },
  {
   "cell_type": "code",
   "execution_count": 7,
   "metadata": {},
   "outputs": [
    {
     "data": {
      "text/html": [
       "<pre>Materializing SFrame</pre>"
      ],
      "text/plain": [
       "Materializing SFrame"
      ]
     },
     "metadata": {},
     "output_type": "display_data"
    }
   ],
   "source": [
    "# 各トピックで発生回数の多い単語とスコアの取得\n",
    "topics = model.get_topics()\n",
    "\n",
    "# 結果の確認\n",
    "topics.explore()"
   ]
  },
  {
   "cell_type": "code",
   "execution_count": 8,
   "metadata": {},
   "outputs": [
    {
     "data": {
      "text/html": [
       "<pre>Materializing SFrame</pre>"
      ],
      "text/plain": [
       "Materializing SFrame"
      ]
     },
     "metadata": {},
     "output_type": "display_data"
    }
   ],
   "source": [
    "# トピックごとに単語リストを表示\n",
    "topics_word = model.get_topics(output_type='topic_words')\n",
    "\n",
    "# 結果の確認\n",
    "topics_word.explore()"
   ]
  },
  {
   "cell_type": "code",
   "execution_count": 9,
   "metadata": {},
   "outputs": [
    {
     "name": "stdout",
     "output_type": "stream",
     "text": [
      "[0]\n",
      "[\"なんと いう 豪華 キャスティング ！ ニコニコ 超 会議 スーパー ステージ の 出演 者 を 発表 ！ ネット 上 の サービス で ある 「 ニコニコ 動画 」 を 現実 の 世界 に 再現 し し て しまお う という 壮大 な プロジェクト 「 ニコニコ 超 会議 」 （ 4 月 28 ・ 29 日 開催 、 於 ： 幕張メッセ ） で 超 会議 の 会場 内 に 設け られ た スペシャル ステージ （ 三 か所 ） に 登場 する 出演 者 が 12 日 の ニコニコ 生放送 「 ニコラジ 」 にて 正式 に 発表 さ れ た 。 ニコ 生 の 公式 番組 由来 の 出演 者 、 超 豪華 メンバー が 発表 さ れ 、 視聴 し て い た ユーザー から は 驚き の 声 が 上がっ た 。 3 月 12 日 、 ニコニコ 生放送 の 帯 番組 「 ニコラジ 」 にて 、 「 ニコニコ 超 会議 」 の 最新 情報 を お伝え する 『 Road to 超 会議 やっ て み た ！ 』 内 の 企画 で 「 月曜 ニコラジ ★ ニコニコ 超 会議 大型 続報 大 発表 スペシャル ！ 」 において 。 展示 ホール 内 に 設け られる スペシャル ステージ の 出演 者 として 、 松岡 充 （ SOPHIA ） や 日高 光 啓 （ AAA ） 、 きゃ り ー ぱみゅぱみゅといった 豪華 な 顔ぶれ が 発表 に なっ た 。 ニコラジ は ニコニコ 生放送 で 放送 さ れ て いる ラジオ 番組 で 月曜 から 木曜 まで 、 メイン パーソナリティー は やまだ ひさし 、 アシスタント を 百花繚乱 と せら み かる が 務める 公式 番組 だ 。 番組 内 で ニコニコ 超 会議 で は 超 パーティー など が 行わ れる 「 イベント ホール 」 （ 別途 チケット が 必要 ） の 他 に 展示 ホール に 3 つ の ステージ 「 スペシャル ・ ステージ 」 を 設け 、 そこで ニコニコ 生放送 の 公式 番組 と 縁 の ある 芸能人 が 出演 する イベント が 行わ れる こと が 公式 に 発表 さ れ た 。 この スペシャル ・ ステージ は ニコニコ 超 会議 の 入場 料 （ 前売り ： 1000 円 、 当日 ： 1500 円 ） だけ で 見る こと が できる という かなり 太っ腹 な 内容 の 発表 に 番組 視聴 者 から 視聴 者 から は 「 チケット 代 が 倍 でも 買っ たる ！ 」 「 これ は すごい ｗｗｗ 」 「 そりゃ 赤字 に なる わ ｗ ｗ 」 といった 驚き や 喜び の コメント で 埋め 尽くさ れ た 。 ■ 公式 番組 と 出演 者 は 以下 の 通り 【 超 会議 スペシャル ステージ 出演 者 一覧 】 （ 順不同 、 敬称 略 ） （ 番組 名 … 出演 者 の 順 で 表記 ） 「 超 松岡 充 の 世の中 ヲタ しい 事 だらけ ！ 」 … 松岡 充 （ SOPHIA ） 「 超 AAA 日高 光 啓 の 生 で SKY !?- HI そう です かい 。 」 … 日高 光 啓 （ AAA ） 「 超 きゃ り ー の ウェイ ウェイ NICO ちゃん ねる 」 … き ゃり ー ぱみゅぱみゅ 「 超 爆裂 ！ ナイトメア 」 … ナイトメア 「 超 ヴィジュアルバトルロイヤル 」 … Alice Nine 、 ViViD 、 ダウト 、 SCREW 「 超 電波 研究 社 」 … May ' n 、 鷲崎 健 、 今井 麻美 （ 如月 千早 役 ） 、 \\u3000 \\u3000 \\u3000 \\u3000 \\u3000 \\u3000 \\u3000 \\u3000 \\u3000 仁 後 真耶 子 （ 高槻 やよい 役 ） 、 原 由実 （ 四条 貴 音 役 ） 、 \\u3000 \\u3000 \\u3000 \\u3000 \\u3000 \\u3000 \\u3000 \\u3000 \\u3000 朝倉 杏 美 （ 荻原 雪 歩 役 ） 、 長谷川 明子 （ 星井 美季 役 ） 「 そう だ ！ やっぱり 超 会議 に 行こ う !!（ 仮 ） 」 … 恵比寿 マスカッツ 「 Hello ! Project 超 会議 スペシャル LIVE （ 仮 ） 」 \\u3000 \\u3000 \\u3000 \\u3000 \\u3000 \\u3000 \\u3000 \\u3000 … アップアップガールズ （ 仮 ） 、 スマイレージ 、 ℃- ute もちろん IT ライフハック 編集 部 で も 、 ニコニコ 超 会議 を 取材 し て ホット な 情報 を お 届け し たい と 思っ て いる 。 ■ ニコニコ 超 会議 スペシャル ステージ ■ ニコニコ 超 会議 ELECOM Full HD 対応 WEB カメラ 500 万 画素 オート フォーカス マイク 内蔵 ( イヤホンマイク 付属 ) ブラック UCAM - DLW 500 TABK クチコミ を 見る \\n\"]\n"
     ]
    }
   ],
   "source": [
    "# Bag-of-wordsへの変換\n",
    "test_bow = tc.text_analytics.count_words(test_data['text'])\n",
    "\n",
    "# ストップワードの削除\n",
    "test_bow = test_bow.dict_trim_by_keys(stop_words, exclude=True)\n",
    "\n",
    "# 予測\n",
    "pred = model.predict(test_bow[0:1])\n",
    "print(pred)\n",
    "\n",
    "# 正解データ\n",
    "print(test_data[0:1]['text'])"
   ]
  }
 ],
 "metadata": {
  "kernelspec": {
   "display_name": "Python 3",
   "language": "python",
   "name": "python3"
  },
  "language_info": {
   "codemirror_mode": {
    "name": "ipython",
    "version": 3
   },
   "file_extension": ".py",
   "mimetype": "text/x-python",
   "name": "python",
   "nbconvert_exporter": "python",
   "pygments_lexer": "ipython3",
   "version": "3.6.5"
  }
 },
 "nbformat": 4,
 "nbformat_minor": 2
}
