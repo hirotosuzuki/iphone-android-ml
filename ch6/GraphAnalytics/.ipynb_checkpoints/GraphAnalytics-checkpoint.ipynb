{
 "cells": [
  {
   "cell_type": "code",
   "execution_count": 21,
   "metadata": {},
   "outputs": [
    {
     "data": {
      "text/html": [
       "<pre>Finished parsing file /Users/furukawahidekazu/Documents/store/book/MLPhone/sample/ch6/GraphAnalytics/email.csv</pre>"
      ],
      "text/plain": [
       "Finished parsing file /Users/furukawahidekazu/Documents/store/book/MLPhone/sample/ch6/GraphAnalytics/email.csv"
      ]
     },
     "metadata": {},
     "output_type": "display_data"
    },
    {
     "data": {
      "text/html": [
       "<pre>Parsing completed. Parsed 6 lines in 0.00914 secs.</pre>"
      ],
      "text/plain": [
       "Parsing completed. Parsed 6 lines in 0.00914 secs."
      ]
     },
     "metadata": {},
     "output_type": "display_data"
    },
    {
     "name": "stdout",
     "output_type": "stream",
     "text": [
      "------------------------------------------------------\n",
      "Inferred types from first 100 line(s) of file as \n",
      "column_type_hints=[int,int]\n",
      "If parsing fails due to incorrect types, you can correct\n",
      "the inferred type list above and pass it to read_csv in\n",
      "the column_type_hints argument\n",
      "------------------------------------------------------\n"
     ]
    },
    {
     "data": {
      "text/html": [
       "<pre>Finished parsing file /Users/furukawahidekazu/Documents/store/book/MLPhone/sample/ch6/GraphAnalytics/email.csv</pre>"
      ],
      "text/plain": [
       "Finished parsing file /Users/furukawahidekazu/Documents/store/book/MLPhone/sample/ch6/GraphAnalytics/email.csv"
      ]
     },
     "metadata": {},
     "output_type": "display_data"
    },
    {
     "data": {
      "text/html": [
       "<pre>Parsing completed. Parsed 6 lines in 0.008886 secs.</pre>"
      ],
      "text/plain": [
       "Parsing completed. Parsed 6 lines in 0.008886 secs."
      ]
     },
     "metadata": {},
     "output_type": "display_data"
    }
   ],
   "source": [
    "import turicreate as tc\n",
    "\n",
    "# データセットの読み込み\n",
    "graph = tc.load_sgraph('./email.csv', format='csv')"
   ]
  },
  {
   "cell_type": "code",
   "execution_count": 23,
   "metadata": {},
   "outputs": [
    {
     "data": {
      "text/html": [
       "<pre>+-----------------------------+</pre>"
      ],
      "text/plain": [
       "+-----------------------------+"
      ]
     },
     "metadata": {},
     "output_type": "display_data"
    },
    {
     "data": {
      "text/html": [
       "<pre>| Number of components merged |</pre>"
      ],
      "text/plain": [
       "| Number of components merged |"
      ]
     },
     "metadata": {},
     "output_type": "display_data"
    },
    {
     "data": {
      "text/html": [
       "<pre>+-----------------------------+</pre>"
      ],
      "text/plain": [
       "+-----------------------------+"
      ]
     },
     "metadata": {},
     "output_type": "display_data"
    },
    {
     "data": {
      "text/html": [
       "<pre>| 5                           |</pre>"
      ],
      "text/plain": [
       "| 5                           |"
      ]
     },
     "metadata": {},
     "output_type": "display_data"
    },
    {
     "data": {
      "text/html": [
       "<pre>| 0                           |</pre>"
      ],
      "text/plain": [
       "| 0                           |"
      ]
     },
     "metadata": {},
     "output_type": "display_data"
    },
    {
     "data": {
      "text/html": [
       "<pre>+-----------------------------+</pre>"
      ],
      "text/plain": [
       "+-----------------------------+"
      ]
     },
     "metadata": {},
     "output_type": "display_data"
    }
   ],
   "source": [
    "# 学習\n",
    "model = tc.connected_components.create(graph)"
   ]
  },
  {
   "cell_type": "code",
   "execution_count": 25,
   "metadata": {},
   "outputs": [
    {
     "name": "stdout",
     "output_type": "stream",
     "text": [
      "0.007479\n"
     ]
    }
   ],
   "source": [
    "#　モデルの学習時間\n",
    "print(model.training_time)"
   ]
  },
  {
   "cell_type": "code",
   "execution_count": 31,
   "metadata": {},
   "outputs": [
    {
     "data": {
      "text/html": [
       "<pre>Materializing SFrame</pre>"
      ],
      "text/plain": [
       "Materializing SFrame"
      ]
     },
     "metadata": {},
     "output_type": "display_data"
    }
   ],
   "source": [
    "#　連結成分ごとの頂点数\n",
    "component_size = model.component_size\n",
    "\n",
    "# 結果の確認\n",
    "component_size = component_size.sort('component_id')\n",
    "component_size.explore()"
   ]
  },
  {
   "cell_type": "code",
   "execution_count": 35,
   "metadata": {},
   "outputs": [
    {
     "data": {
      "text/html": [
       "<pre>Materializing SFrame</pre>"
      ],
      "text/plain": [
       "Materializing SFrame"
      ]
     },
     "metadata": {},
     "output_type": "display_data"
    }
   ],
   "source": [
    "#　頂点ごとの連結成分ID\n",
    "component_id = model.component_id\n",
    "\n",
    "# 結果の確認\n",
    "component_id = component_id.sort('__id')\n",
    "component_id.explore()"
   ]
  },
  {
   "cell_type": "code",
   "execution_count": null,
   "metadata": {},
   "outputs": [],
   "source": [
    "# 頂点プロパティとしてのカラーIDを持つ新しいSGraph\n",
    "print(model.graph)"
   ]
  },
  {
   "cell_type": "code",
   "execution_count": null,
   "metadata": {},
   "outputs": [],
   "source": [
    "#　グラフの色数\n",
    "print(model.num_colors)"
   ]
  },
  {
   "cell_type": "code",
   "execution_count": null,
   "metadata": {},
   "outputs": [],
   "source": [
    "### function\n",
    "import networkx as nx\n",
    "%matplotlib inline\n",
    "from turicreate import SGraph, Vertex, Edge ,SFrame\n",
    "\n",
    "\n",
    "def get_edge_list(g,direct = 'directed',weight = False):\n",
    "    # directed or undirected graph\n",
    "    if direct == 'directed':\n",
    "        draw_g = nx.DiGraph()  \n",
    "    elif direct == 'undirected':\n",
    "        draw_g = nx.Graph()  \n",
    "    # load data\n",
    "    if weight:\n",
    "        edge_list = [tuple(g_list.values()) for g_list in g.edges[['__src_id','__dst_id','weight']]]\n",
    "        draw_g.add_weighted_edges_from(edge_list)\n",
    "    else:\n",
    "        edge_list = [tuple(g_list.values()) for g_list in g.edges[['__src_id','__dst_id']]]\n",
    "        draw_g.add_edges_from(edge_list)\n",
    "    return draw_g\n",
    "\n",
    "\n",
    "### draw directed graph\n",
    "draw_g = get_edge_list(graph,direct = 'directed',weight = False)\n",
    "nx.draw(draw_g, node_color='y', with_labels=True, node_size=800)"
   ]
  },
  {
   "cell_type": "code",
   "execution_count": null,
   "metadata": {},
   "outputs": [],
   "source": [
    "#K-Core分解モデルの生成\n",
    "model = tc.kcore.create(graph)\n",
    "print(model.summary())\n",
    "\n",
    "#各頂点のコアIDを持つSFrame\n",
    "print(model.core_id)\n",
    "\n",
    "#コアIDを頂点プロパティとする新しいSGraph\n",
    "print(model.graph)\n",
    "\n",
    "#任意の頂点に割り当てられた最大コアID\n",
    "print(model.kmax)\n",
    "\n",
    "#任意の頂点に割り当てられた最小コアID\n",
    "print(model.kmin)\n",
    "\n",
    "#モデルの合計訓練時間\n",
    "print(model.training_time)"
   ]
  },
  {
   "cell_type": "code",
   "execution_count": null,
   "metadata": {},
   "outputs": [],
   "source": [
    "import turicreate as tc\n",
    "\n",
    "#Webページのリンクのグラフの読み込み\n",
    "graph = tc.load_sgraph('https://static.turi.com/datasets/US_business_links')\n",
    "print(graph.summary())"
   ]
  },
  {
   "cell_type": "code",
   "execution_count": null,
   "metadata": {},
   "outputs": [],
   "source": [
    "#ページランクモデルの生成\n",
    "model = tc.pagerank.create(data, max_iterations=10)\n",
    "print(model.summary())\n",
    "\n",
    "#L1ノルムの最後の反復に対するページランクの変化\n",
    "print(model.delta)\n",
    "\n",
    "#ページランクを頂点プロパティとする新しいSGraph\n",
    "print(model.graph)\n",
    "\n",
    "#イテレーションの最大数\n",
    "print(model.max_iterations)\n",
    "\n",
    "#イテレーション数\n",
    "print(model.num_iterations)\n",
    "\n",
    "#各頂点のページランクを持つSFrame\n",
    "print(model.pagerank)\n",
    "\n",
    "#グラフ内の任意のノードにランダムにジャンプする確率\n",
    "print(model.reset_probability)\n",
    "\n",
    "#L1ノルムにおける収束閾値\n",
    "print(model.threshold)\n",
    "\n",
    "#モデルの合計訓練時間\n",
    "print(model.training_time)"
   ]
  },
  {
   "cell_type": "code",
   "execution_count": null,
   "metadata": {},
   "outputs": [],
   "source": [
    "#最短経路モデルの生成\n",
    "model = tc.shortest_path.create(graph, source_vid='Microsoft')\n",
    "\n",
    "#最短経路の取得\n",
    "model.get_path(vid='Weyerhaeuser', highlight=['Microsoft', 'Weyerhaeuser'])\n",
    "\n",
    "#距離を頂点プロパティとして持つ新しいSGraph\n",
    "print(model.graph)\n",
    "\n",
    "#元の頂点までの各頂点の距離を持つSFrame\n",
    "print(model.distance)\n",
    "\n",
    "#重みのエッジフィールド\n",
    "print(model.weight_field)\n",
    "\n",
    "#ソース頂点ID\n",
    "print(model.source_vid)\n",
    "\n",
    "#任意の2つの頂点間の最大距離\n",
    "print(model.max_distance)\n",
    "\n",
    "#モデルの合計訓練時間\n",
    "print(model.training_time)"
   ]
  },
  {
   "cell_type": "code",
   "execution_count": null,
   "metadata": {},
   "outputs": [],
   "source": [
    "#トライアングルカウントモデルの生成\n",
    "model = tc.triangle_counting.create(graph)\n",
    "print(model.summary())\n",
    "\n",
    "#三角形を頂点プロパティとして持つ新しいSGraph\n",
    "print(model.graph)\n",
    "\n",
    "#グラフ内の三角形の総数\n",
    "print(model.num_triangles)\n",
    "\n",
    "#モデルの合計訓練時間\n",
    "print(model.training_time)\n",
    "\n",
    "#各頂点の三角形の数を持つSFrame\n",
    "print(model.triangle_count)"
   ]
  }
 ],
 "metadata": {
  "kernelspec": {
   "display_name": "Python 3",
   "language": "python",
   "name": "python3"
  }
 },
 "nbformat": 4,
 "nbformat_minor": 2
}
